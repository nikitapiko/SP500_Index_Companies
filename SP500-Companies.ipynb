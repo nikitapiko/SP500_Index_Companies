{
 "cells": [
  {
   "cell_type": "markdown",
   "id": "f9c7b6e4-d879-4ae8-b3dd-99d49e418940",
   "metadata": {},
   "source": [
    "# S&P 500 Stock Market Index - Companies\n",
    "**Author:** Nikita Pikulenko"
   ]
  },
  {
   "cell_type": "markdown",
   "id": "00620b57-ec1a-4baa-a8ae-9d10c537fc9d",
   "metadata": {},
   "source": [
    "**Intended Goal**: To construct two distinct tables featuring data on S&P 500 companies, and then merge them into a single final table. Store all tables in a newly created database. Finally perform data analysis and create data visualizations. Look at which sectors are leading in terms of average market capitalization and company count. \n",
    "\n",
    "**Database Structure**:\n",
    "* Database Name: sp500_stock_market_index_data\n",
    "* Tables:\n",
    "    * companies_spx: Data pulled from website\n",
    "        * columns: symbol, company_name, sector, market_cap\n",
    "    * companies_rdf: Data acquired via SPARQL query from DBpedia.\n",
    "        * columns: symbol, company_name, revenue, net_income, assets, equity, num_of_employees\n",
    "    * companies_merged: The final table merged with a pandas function taking in an SQL query as input.\n",
    "\n",
    "**Final Table Specifications**:\n",
    "\n",
    "* Table Name: companies_merged\n",
    "* Columns:\n",
    "    - ticker: The unique stock ticker symbol for each company\n",
    "    - company_name\n",
    "    - sector\n",
    "    - market_cap: the market capitalization of the company\n",
    "    - revenue\n",
    "    - net_income\n",
    "    - assets\n",
    "    - equity\n",
    "    - num_of_employees\n"
   ]
  },
  {
   "cell_type": "markdown",
   "id": "cab645a3-f305-466e-b33f-d48ae0066d61",
   "metadata": {},
   "source": [
    "Navigation Links: <br>\n",
    "[Database Initialization](#database_init) <br>\n",
    "[1st Table - Data from Website](#1st_table) <br>\n",
    "[2nd Table - RDF Part](#rdf_part) <br>\n",
    "[Merging Tables](#table_merge) <br>\n",
    "[Data Analysis with Visualization](#data_analysis)"
   ]
  },
  {
   "cell_type": "markdown",
   "id": "076e8dd0-c498-4c4f-94ef-a5b746f74e86",
   "metadata": {},
   "source": [
    "Project Flow:"
   ]
  },
  {
   "cell_type": "markdown",
   "id": "712176e4-2148-42d9-ad76-3780905ec269",
   "metadata": {},
   "source": [
    "<img src=\"bpmn_diagram.jpg\" width=\"1600\" height=\"200\" alt=\"BPMN Diagram of the Project Flow\">"
   ]
  },
  {
   "cell_type": "markdown",
   "id": "dd0899bc-c6e7-4c44-8f8f-20979afff481",
   "metadata": {},
   "source": [
    "<a id=\"database_init\"></a>\n",
    "# Database Initialization\n",
    "* Creating a Database called \"sp500_stock_market_index_data\"\n",
    "* Activating SQL jupyter extension\n",
    "* Establishing connection to the database"
   ]
  },
  {
   "cell_type": "code",
   "execution_count": 54,
   "id": "0468027e-f4be-4666-a42e-abb3b9ea931e",
   "metadata": {},
   "outputs": [],
   "source": [
    "%reload_ext sql"
   ]
  },
  {
   "cell_type": "code",
   "execution_count": 55,
   "id": "8a61a9da-74eb-4400-a88d-ad59eba643d3",
   "metadata": {},
   "outputs": [],
   "source": [
    "%sql sqlite:///sp500_stock_market_index_data.db"
   ]
  },
  {
   "cell_type": "code",
   "execution_count": 56,
   "id": "595a06f3-9352-43fe-b92c-b923f6d41dd3",
   "metadata": {},
   "outputs": [],
   "source": [
    "from sqlalchemy import create_engine\n",
    "\n",
    "# Establishing connection to our database\n",
    "conn = create_engine('sqlite:///sp500_stock_market_index_data.db')"
   ]
  },
  {
   "cell_type": "markdown",
   "id": "b12aa1ba-bba9-4d3e-8413-a93d2b30d08f",
   "metadata": {},
   "source": [
    "<a id=\"1st_table\"></a>\n",
    "# 1st Table: Pulling Data from a Website\n",
    "Plan: <br>\n",
    "1) Import packages\n",
    "2) Get Initial S&P 500 Data on Companies from the following website: https://www.liberatedstocktrader.com/sp-500-companies\n",
    "3) Save Table in the DB as \"companies_spx\""
   ]
  },
  {
   "cell_type": "code",
   "execution_count": 57,
   "id": "0f548fef-3417-4a3c-aeda-9d6d08fe4bd0",
   "metadata": {},
   "outputs": [],
   "source": [
    "import pandas as pd\n",
    "import numpy as np"
   ]
  },
  {
   "cell_type": "code",
   "execution_count": 58,
   "id": "5ae632cf-6e2c-4cf3-ba40-1f0f5cb901bd",
   "metadata": {},
   "outputs": [],
   "source": [
    "tables = pd.read_html('https://www.liberatedstocktrader.com/sp-500-companies', header=0)"
   ]
  },
  {
   "cell_type": "code",
   "execution_count": 59,
   "id": "2a64f2fa-0b08-4b60-a370-dbf08679d975",
   "metadata": {},
   "outputs": [],
   "source": [
    "# pd.read_html() grabs all tables that it sees from a website\n",
    "# we just take the first table\n",
    "\n",
    "df_spx = tables[0]"
   ]
  },
  {
   "cell_type": "code",
   "execution_count": 60,
   "id": "ccb2df8c-aad8-4cb0-b1b1-1a71cb2fafbd",
   "metadata": {},
   "outputs": [
    {
     "data": {
      "text/html": [
       "<div>\n",
       "<style scoped>\n",
       "    .dataframe tbody tr th:only-of-type {\n",
       "        vertical-align: middle;\n",
       "    }\n",
       "\n",
       "    .dataframe tbody tr th {\n",
       "        vertical-align: top;\n",
       "    }\n",
       "\n",
       "    .dataframe thead th {\n",
       "        text-align: right;\n",
       "    }\n",
       "</style>\n",
       "<table border=\"1\" class=\"dataframe\">\n",
       "  <thead>\n",
       "    <tr style=\"text-align: right;\">\n",
       "      <th></th>\n",
       "      <th>Ticker</th>\n",
       "      <th>Description</th>\n",
       "      <th>Sector</th>\n",
       "      <th>Market Capitalization</th>\n",
       "    </tr>\n",
       "  </thead>\n",
       "  <tbody>\n",
       "    <tr>\n",
       "      <th>0</th>\n",
       "      <td>AAPL</td>\n",
       "      <td>Apple Inc.</td>\n",
       "      <td>Electronic Technology</td>\n",
       "      <td>2728017215293</td>\n",
       "    </tr>\n",
       "    <tr>\n",
       "      <th>1</th>\n",
       "      <td>MSFT</td>\n",
       "      <td>Microsoft Corporation</td>\n",
       "      <td>Technology Services</td>\n",
       "      <td>2351371643107</td>\n",
       "    </tr>\n",
       "    <tr>\n",
       "      <th>2</th>\n",
       "      <td>GOOG</td>\n",
       "      <td>Alphabet Inc.</td>\n",
       "      <td>Technology Services</td>\n",
       "      <td>1611856497958</td>\n",
       "    </tr>\n",
       "    <tr>\n",
       "      <th>3</th>\n",
       "      <td>GOOGL</td>\n",
       "      <td>Alphabet Inc.</td>\n",
       "      <td>Technology Services</td>\n",
       "      <td>1610343852181</td>\n",
       "    </tr>\n",
       "    <tr>\n",
       "      <th>4</th>\n",
       "      <td>AMZN</td>\n",
       "      <td>Amazon.com, Inc.</td>\n",
       "      <td>Retail Trade</td>\n",
       "      <td>1366884251763</td>\n",
       "    </tr>\n",
       "  </tbody>\n",
       "</table>\n",
       "</div>"
      ],
      "text/plain": [
       "  Ticker            Description                 Sector  Market Capitalization\n",
       "0   AAPL             Apple Inc.  Electronic Technology          2728017215293\n",
       "1   MSFT  Microsoft Corporation    Technology Services          2351371643107\n",
       "2   GOOG          Alphabet Inc.    Technology Services          1611856497958\n",
       "3  GOOGL          Alphabet Inc.    Technology Services          1610343852181\n",
       "4   AMZN       Amazon.com, Inc.           Retail Trade          1366884251763"
      ]
     },
     "execution_count": 60,
     "metadata": {},
     "output_type": "execute_result"
    }
   ],
   "source": [
    "# quick look\n",
    "df_spx.head()"
   ]
  },
  {
   "cell_type": "markdown",
   "id": "6296c656-9870-48ce-82bb-fecdb2de9e28",
   "metadata": {},
   "source": [
    "### Quick Consistency Check\n",
    "Checking if data types are consistent and there are no missing values and duplicates"
   ]
  },
  {
   "cell_type": "code",
   "execution_count": 61,
   "id": "2295a6a7-a08b-4200-8949-b6d933c561b4",
   "metadata": {},
   "outputs": [
    {
     "name": "stdout",
     "output_type": "stream",
     "text": [
      "<class 'pandas.core.frame.DataFrame'>\n",
      "RangeIndex: 503 entries, 0 to 502\n",
      "Data columns (total 4 columns):\n",
      " #   Column                 Non-Null Count  Dtype \n",
      "---  ------                 --------------  ----- \n",
      " 0   Ticker                 503 non-null    object\n",
      " 1   Description            503 non-null    object\n",
      " 2   Sector                 503 non-null    object\n",
      " 3   Market Capitalization  503 non-null    int64 \n",
      "dtypes: int64(1), object(3)\n",
      "memory usage: 15.8+ KB\n"
     ]
    }
   ],
   "source": [
    "df_spx.info()"
   ]
  },
  {
   "cell_type": "markdown",
   "id": "7a5286a1-92e6-4215-8966-21ac7c07d7a9",
   "metadata": {},
   "source": [
    "<font color='green' size=5>Desired Data Types ✅ </font>"
   ]
  },
  {
   "cell_type": "code",
   "execution_count": 62,
   "id": "c6ec7f7e-2c39-4581-ad8f-3bca45b83dde",
   "metadata": {},
   "outputs": [
    {
     "data": {
      "text/plain": [
       "Ticker                   0\n",
       "Description              0\n",
       "Sector                   0\n",
       "Market Capitalization    0\n",
       "dtype: int64"
      ]
     },
     "execution_count": 62,
     "metadata": {},
     "output_type": "execute_result"
    }
   ],
   "source": [
    "df_spx.isna().sum()"
   ]
  },
  {
   "cell_type": "markdown",
   "id": "17596575-3dc2-4451-9f2e-644e7445b035",
   "metadata": {},
   "source": [
    "<font color='green' size=5>No Missing Values ✅ </font>"
   ]
  },
  {
   "cell_type": "code",
   "execution_count": 63,
   "id": "73fe6199-7337-4094-9350-edd328b50051",
   "metadata": {},
   "outputs": [
    {
     "data": {
      "text/plain": [
       "0"
      ]
     },
     "execution_count": 63,
     "metadata": {},
     "output_type": "execute_result"
    }
   ],
   "source": [
    "df_spx.duplicated().sum()"
   ]
  },
  {
   "cell_type": "markdown",
   "id": "3fdc1c19-6902-4310-a960-054b4f08686d",
   "metadata": {},
   "source": [
    "<font color='green' size=5>No Duplicates ✅ </font>"
   ]
  },
  {
   "cell_type": "markdown",
   "id": "8cd4bf12-cd26-49a6-a040-a3160772f46e",
   "metadata": {},
   "source": [
    "### Renaming Columns \n",
    "-> to make it less cumbersome to work with"
   ]
  },
  {
   "cell_type": "code",
   "execution_count": 64,
   "id": "d2a74604-7d83-4746-affa-70b11e7757bf",
   "metadata": {},
   "outputs": [
    {
     "name": "stdout",
     "output_type": "stream",
     "text": [
      "Before: ['Ticker', 'Description', 'Sector', 'Market Capitalization']\n"
     ]
    }
   ],
   "source": [
    "print(\"Before:\", [*df_spx.columns])"
   ]
  },
  {
   "cell_type": "code",
   "execution_count": 65,
   "id": "f3de8981-5ab5-4de2-aeb9-38c16f000515",
   "metadata": {},
   "outputs": [
    {
     "name": "stdout",
     "output_type": "stream",
     "text": [
      "After: ['symbol', 'company_name', 'sector', 'market_cap']\n"
     ]
    }
   ],
   "source": [
    "df_spx.columns = ['symbol', 'company_name', 'sector', 'market_cap']\n",
    "print(\"After:\", [*df_spx.columns])"
   ]
  },
  {
   "cell_type": "markdown",
   "id": "620f1a57-c4d2-4f6e-a5f7-227e034268aa",
   "metadata": {},
   "source": [
    "   "
   ]
  },
  {
   "cell_type": "markdown",
   "id": "60c82f62-07f1-4910-a81e-877e563f3192",
   "metadata": {},
   "source": [
    "### Converting absolute numbers to billions"
   ]
  },
  {
   "cell_type": "markdown",
   "id": "99e744d0-6d24-4699-a571-0469aabe7b96",
   "metadata": {},
   "source": [
    "Before:"
   ]
  },
  {
   "cell_type": "code",
   "execution_count": 66,
   "id": "d06bb5a3-7a2a-4a17-a2bb-801be8ae1e14",
   "metadata": {},
   "outputs": [
    {
     "data": {
      "text/plain": [
       "0    2728017215293\n",
       "1    2351371643107\n",
       "2    1611856497958\n",
       "Name: market_cap, dtype: int64"
      ]
     },
     "execution_count": 66,
     "metadata": {},
     "output_type": "execute_result"
    }
   ],
   "source": [
    "df_spx['market_cap'].head(3)"
   ]
  },
  {
   "cell_type": "code",
   "execution_count": 67,
   "id": "ced31442-c385-4e0c-b4b1-4acca889498c",
   "metadata": {},
   "outputs": [],
   "source": [
    "df_spx['market_cap'] = round(df_spx['market_cap'] / 1000000000, 4)"
   ]
  },
  {
   "cell_type": "markdown",
   "id": "41b480a1-f4f5-40af-9b3f-38770c73fbe7",
   "metadata": {},
   "source": [
    "After:"
   ]
  },
  {
   "cell_type": "code",
   "execution_count": 68,
   "id": "5e6698c6-2c49-4448-a980-716776c14fef",
   "metadata": {},
   "outputs": [
    {
     "data": {
      "text/plain": [
       "0    2728.0172\n",
       "1    2351.3716\n",
       "2    1611.8565\n",
       "Name: market_cap, dtype: float64"
      ]
     },
     "execution_count": 68,
     "metadata": {},
     "output_type": "execute_result"
    }
   ],
   "source": [
    "df_spx['market_cap'].head(3)"
   ]
  },
  {
   "cell_type": "markdown",
   "id": "438d6cec-d7db-41c5-a54c-317aa8683c2c",
   "metadata": {},
   "source": [
    "## Save Table into the Database as \"companies_spx\""
   ]
  },
  {
   "cell_type": "code",
   "execution_count": 69,
   "id": "6c4f7cf3-6e33-4b63-93ed-5575fef6240a",
   "metadata": {},
   "outputs": [
    {
     "name": "stdout",
     "output_type": "stream",
     "text": [
      " * sqlite:///sp500_stock_market_index_data.db\n",
      "Done.\n"
     ]
    },
    {
     "data": {
      "text/plain": [
       "[]"
      ]
     },
     "execution_count": 69,
     "metadata": {},
     "output_type": "execute_result"
    }
   ],
   "source": [
    "%sql DROP TABLE IF EXISTS companies_spx"
   ]
  },
  {
   "cell_type": "code",
   "execution_count": 70,
   "id": "dbe5d852-7c75-44e9-b98d-e8ff8f68bf6b",
   "metadata": {},
   "outputs": [
    {
     "data": {
      "text/plain": [
       "503"
      ]
     },
     "execution_count": 70,
     "metadata": {},
     "output_type": "execute_result"
    }
   ],
   "source": [
    "# Saving dataframe as table to our database\n",
    "df_spx.to_sql('companies_spx', conn, index=False)"
   ]
  },
  {
   "cell_type": "markdown",
   "id": "ddd3a690-50ab-45a4-8dd7-8aa6a23fa1cb",
   "metadata": {},
   "source": [
    "## Table 1 Result"
   ]
  },
  {
   "cell_type": "code",
   "execution_count": 71,
   "id": "a67094ad-f236-4eed-944d-815f52d9aafc",
   "metadata": {},
   "outputs": [
    {
     "name": "stdout",
     "output_type": "stream",
     "text": [
      " * sqlite:///sp500_stock_market_index_data.db\n",
      "Done.\n"
     ]
    },
    {
     "data": {
      "text/html": [
       "<table>\n",
       "    <thead>\n",
       "        <tr>\n",
       "            <th>symbol</th>\n",
       "            <th>company_name</th>\n",
       "            <th>sector</th>\n",
       "            <th>market_cap</th>\n",
       "        </tr>\n",
       "    </thead>\n",
       "    <tbody>\n",
       "        <tr>\n",
       "            <td>AAPL</td>\n",
       "            <td>Apple Inc.</td>\n",
       "            <td>Electronic Technology</td>\n",
       "            <td>2728.0172</td>\n",
       "        </tr>\n",
       "        <tr>\n",
       "            <td>MSFT</td>\n",
       "            <td>Microsoft Corporation</td>\n",
       "            <td>Technology Services</td>\n",
       "            <td>2351.3716</td>\n",
       "        </tr>\n",
       "        <tr>\n",
       "            <td>GOOG</td>\n",
       "            <td>Alphabet Inc.</td>\n",
       "            <td>Technology Services</td>\n",
       "            <td>1611.8565</td>\n",
       "        </tr>\n",
       "        <tr>\n",
       "            <td>GOOGL</td>\n",
       "            <td>Alphabet Inc.</td>\n",
       "            <td>Technology Services</td>\n",
       "            <td>1610.3439</td>\n",
       "        </tr>\n",
       "        <tr>\n",
       "            <td>AMZN</td>\n",
       "            <td>Amazon.com, Inc.</td>\n",
       "            <td>Retail Trade</td>\n",
       "            <td>1366.8843</td>\n",
       "        </tr>\n",
       "        <tr>\n",
       "            <td>NVDA</td>\n",
       "            <td>NVIDIA Corporation</td>\n",
       "            <td>Electronic Technology</td>\n",
       "            <td>1069.4853</td>\n",
       "        </tr>\n",
       "        <tr>\n",
       "            <td>BRK.B</td>\n",
       "            <td>Berkshire Hathaway Inc. New</td>\n",
       "            <td>Finance</td>\n",
       "            <td>768.8919</td>\n",
       "        </tr>\n",
       "        <tr>\n",
       "            <td>META</td>\n",
       "            <td>Meta Platforms, Inc.</td>\n",
       "            <td>Technology Services</td>\n",
       "            <td>728.9672</td>\n",
       "        </tr>\n",
       "        <tr>\n",
       "            <td>TSLA</td>\n",
       "            <td>Tesla, Inc.</td>\n",
       "            <td>Consumer Durables</td>\n",
       "            <td>683.9641</td>\n",
       "        </tr>\n",
       "        <tr>\n",
       "            <td>LLY</td>\n",
       "            <td>Eli Lilly and Company</td>\n",
       "            <td>Health Technology</td>\n",
       "            <td>518.7233</td>\n",
       "        </tr>\n",
       "        <tr>\n",
       "            <td>V</td>\n",
       "            <td>Visa Inc.</td>\n",
       "            <td>Commercial Services</td>\n",
       "            <td>485.5255</td>\n",
       "        </tr>\n",
       "        <tr>\n",
       "            <td>UNH</td>\n",
       "            <td>UnitedHealth Group Incorporated</td>\n",
       "            <td>Health Services</td>\n",
       "            <td>461.7075</td>\n",
       "        </tr>\n",
       "        <tr>\n",
       "            <td>JNJ</td>\n",
       "            <td>Johnson &amp; Johnson</td>\n",
       "            <td>Health Technology</td>\n",
       "            <td>448.2962</td>\n",
       "        </tr>\n",
       "        <tr>\n",
       "            <td>XOM</td>\n",
       "            <td>Exxon Mobil Corporation</td>\n",
       "            <td>Energy Minerals</td>\n",
       "            <td>440.5113</td>\n",
       "        </tr>\n",
       "        <tr>\n",
       "            <td>JPM</td>\n",
       "            <td>JP Morgan Chase &amp; Co.</td>\n",
       "            <td>Finance</td>\n",
       "            <td>432.9195</td>\n",
       "        </tr>\n",
       "    </tbody>\n",
       "</table>"
      ],
      "text/plain": [
       "[('AAPL', 'Apple Inc.', 'Electronic Technology', 2728.0172),\n",
       " ('MSFT', 'Microsoft Corporation', 'Technology Services', 2351.3716),\n",
       " ('GOOG', 'Alphabet Inc.', 'Technology Services', 1611.8565),\n",
       " ('GOOGL', 'Alphabet Inc.', 'Technology Services', 1610.3439),\n",
       " ('AMZN', 'Amazon.com, Inc.', 'Retail Trade', 1366.8843),\n",
       " ('NVDA', 'NVIDIA Corporation', 'Electronic Technology', 1069.4853),\n",
       " ('BRK.B', 'Berkshire Hathaway Inc. New', 'Finance', 768.8919),\n",
       " ('META', 'Meta Platforms, Inc.', 'Technology Services', 728.9672),\n",
       " ('TSLA', 'Tesla, Inc.', 'Consumer Durables', 683.9641),\n",
       " ('LLY', 'Eli Lilly and Company', 'Health Technology', 518.7233),\n",
       " ('V', 'Visa Inc.', 'Commercial Services', 485.5255),\n",
       " ('UNH', 'UnitedHealth Group Incorporated', 'Health Services', 461.7075),\n",
       " ('JNJ', 'Johnson & Johnson', 'Health Technology', 448.2962),\n",
       " ('XOM', 'Exxon Mobil Corporation', 'Energy Minerals', 440.5113),\n",
       " ('JPM', 'JP Morgan Chase & Co.', 'Finance', 432.9195)]"
      ]
     },
     "execution_count": 71,
     "metadata": {},
     "output_type": "execute_result"
    }
   ],
   "source": [
    "%sql SELECT * FROM companies_spx LIMIT 15;"
   ]
  },
  {
   "cell_type": "markdown",
   "id": "853ea5b3-2146-4d8a-ac15-89c2e0cc96de",
   "metadata": {
    "tags": []
   },
   "source": [
    "<a id=\"rdf_part\"></a>\n",
    "# Next Step: 2nd Table (RDF)"
   ]
  },
  {
   "cell_type": "markdown",
   "id": "e06e9a81-650d-44d2-acbe-e9c5ec1e77ad",
   "metadata": {},
   "source": [
    "**Additional Data Of Interest**: revenue, netIncome, operatingIncome, assets, equity, numOfEmployees "
   ]
  },
  {
   "cell_type": "markdown",
   "id": "af26d30e-85cc-4de0-957c-b36a9ee3d6e7",
   "metadata": {},
   "source": [
    "### Initializing the Sparql Environment and Constructing the Query"
   ]
  },
  {
   "cell_type": "code",
   "execution_count": 72,
   "id": "9a2ea4f9-b074-4727-8cee-6a58f089affd",
   "metadata": {},
   "outputs": [],
   "source": [
    "from SPARQLWrapper import SPARQLWrapper, JSON"
   ]
  },
  {
   "cell_type": "code",
   "execution_count": 73,
   "id": "76bac7d0-39a8-4f7e-a55a-837298d76467",
   "metadata": {},
   "outputs": [],
   "source": [
    "sparql = SPARQLWrapper('https://dbpedia.org/sparql')"
   ]
  },
  {
   "cell_type": "markdown",
   "id": "dc678bf2-eafd-4a3c-b131-e84d976a8749",
   "metadata": {},
   "source": [
    "Most of the S&P 500 Companies have following important identifying properties in common: <br>\n",
    "* dbo:type Public_company\n",
    "* rdfs:type dbo:Company\n",
    "* dbp:symbol - the ?symbol they are traded as on the stock market \n",
    "* dbo:wikiPageWikiLink - which includes the S&P 500 stock ?exchange as dbr:S&P_500 property \n",
    "* rdfs:label - ?company_name\n",
    "\n",
    "Once successfully identified, additional data can be pulled:\n",
    "* ?revenue - dbo:revenue\n",
    "* ?netIncome - dbo:netIncome\n",
    "* ?assets - dbo:assets\n",
    "* ?equity - dbo:equity\n",
    "* ?num_of_employees: dbo:numberOfEmployees\n",
    "\n",
    "**3 challenges, SOLVED**: \n",
    "1) Issue accessing the dbr:S&P_500 property to identify company being part of S&P 500 (because of \"&\" sign) which is part of dbo:wikiPageWikiLink. We need a workaround.<br><br> **Solution**: check with a regular expression whether dbo:wikiPageWikiLink at any point contains a string 'S&P 500'  -->  (  FILTER(regex(str(?exchange), \"S&P_500\")) )\n",
    "\n",
    "2) For some companies, some of the searched properties are not present at all. In this case, we don't want to get rid of corresponding companies completely and mark the values as missing instead, thus making it optinal for some properties to exist. <br><br> **Solution**: use COALESCE function to check if the property exists. If it does keep it, if not write 'nan'. --> f.e COALESCE(?revenue, \"nan\")) as ?revenue   +   OPTIONAL {?company dbo:revenue ?revenue} .\n",
    "\n",
    "3) Some properties have a list of multiple values instead of a single value. We just want the first value. <br><br> **Solution**: using SAMPLE function which takes the first value of everything (we use it on top of the output of our COALESCE function, --> f.e  SAMPLE(COALESCE(?revenue, \"nan\")) as ?revenue, "
   ]
  },
  {
   "cell_type": "markdown",
   "id": "2cd2c251-43ea-45a6-ad94-546991869c9c",
   "metadata": {},
   "source": [
    "Finalized query:"
   ]
  },
  {
   "cell_type": "code",
   "execution_count": 74,
   "id": "d4bea57a-5b7e-4d6a-96d2-abf35834e4fa",
   "metadata": {},
   "outputs": [],
   "source": [
    "sparql.setQuery(\"\"\"\n",
    "PREFIX dbpedia2: <http://dbpedia.org/property/> \n",
    "PREFIX dbo: <http://dbpedia.org/ontology/>\n",
    "PREFIX rdfs: <http://www.w3.org/2000/01/rdf-schema#>\n",
    "PREFIX dbr: <http://dbpedia.org/resource/>\n",
    "PREFIX dbp: <http://dbpedia.org/property/>\n",
    "\n",
    "SELECT DISTINCT ?symbol, ?company_name, \n",
    "    SAMPLE(COALESCE(?revenue, \"nan\")) as ?revenue, \n",
    "    SAMPLE(COALESCE(?net_income, \"nan\")) as ?net_income,\n",
    "    SAMPLE(COALESCE(?assets, \"nan\")) as ?assets, \n",
    "    SAMPLE(COALESCE(?equity, \"nan\")) as ?equity, \n",
    "    SAMPLE(COALESCE(?num_of_employees, \"nan\")) as ?num_of_employees\n",
    "WHERE {\n",
    "   ?company dbo:type dbr:Public_company .\n",
    "   ?company a dbo:Company .\n",
    "   ?company dbp:symbol ?symbol .\n",
    "   ?company rdfs:label ?company_name .\n",
    "   ?company dbo:wikiPageWikiLink ?exchange .\n",
    "\n",
    "   OPTIONAL {?company dbo:revenue ?revenue} .\n",
    "   OPTIONAL {?company dbo:netIncome ?net_income} .\n",
    "   OPTIONAL {?company dbo:assets ?assets} .\n",
    "   OPTIONAL {?company dbo:equity ?equity} .\n",
    "   OPTIONAL {?company dbo:numberOfEmployees ?num_of_employees} .\n",
    "   \n",
    "   FILTER(regex(str(?exchange), \"S&P_500\"))\n",
    "   FILTER(lang(?symbol) = 'en') \n",
    "   FILTER(lang(?company_name) = 'en') \n",
    "} LIMIT 1000\n",
    "\"\"\") "
   ]
  },
  {
   "cell_type": "code",
   "execution_count": 75,
   "id": "56c5c23f-197b-4ad5-ab05-f20b5200851e",
   "metadata": {},
   "outputs": [],
   "source": [
    "sparql.setReturnFormat(JSON)"
   ]
  },
  {
   "cell_type": "markdown",
   "id": "558a4a24-7fec-4502-a41f-174d6dcc86f8",
   "metadata": {},
   "source": [
    "Executing the query:"
   ]
  },
  {
   "cell_type": "code",
   "execution_count": 76,
   "id": "c8bd939a-df58-412d-ae78-1dae880ffac0",
   "metadata": {},
   "outputs": [],
   "source": [
    "json_rdf = sparql.query().convert()"
   ]
  },
  {
   "cell_type": "markdown",
   "id": "f562794f-dbac-48c6-9392-48dbe78d5f6f",
   "metadata": {},
   "source": [
    "Taking a look on the output:"
   ]
  },
  {
   "cell_type": "code",
   "execution_count": 77,
   "id": "a90725f8-da28-48c2-bc04-0f3977003eb1",
   "metadata": {},
   "outputs": [
    {
     "data": {
      "text/plain": [
       "[{'symbol': {'type': 'literal', 'xml:lang': 'en', 'value': 'CTLT'},\n",
       "  'company_name': {'type': 'literal', 'xml:lang': 'en', 'value': 'Catalent'},\n",
       "  'revenue': {'type': 'typed-literal',\n",
       "   'datatype': 'http://dbpedia.org/datatype/usDollar',\n",
       "   'value': '3.998E9'},\n",
       "  'net_income': {'type': 'typed-literal',\n",
       "   'datatype': 'http://dbpedia.org/datatype/usDollar',\n",
       "   'value': '5.85E8'},\n",
       "  'assets': {'type': 'typed-literal',\n",
       "   'datatype': 'http://dbpedia.org/datatype/usDollar',\n",
       "   'value': '9.112E9'},\n",
       "  'equity': {'type': 'typed-literal',\n",
       "   'datatype': 'http://dbpedia.org/datatype/usDollar',\n",
       "   'value': '3.915E9'},\n",
       "  'num_of_employees': {'type': 'typed-literal',\n",
       "   'datatype': 'http://www.w3.org/2001/XMLSchema#nonNegativeInteger',\n",
       "   'value': '14000'}}]"
      ]
     },
     "execution_count": 77,
     "metadata": {},
     "output_type": "execute_result"
    }
   ],
   "source": [
    "json_rdf['results']['bindings'][:1]"
   ]
  },
  {
   "cell_type": "code",
   "execution_count": 78,
   "id": "cdba4764-228a-438d-9b86-27781e05aeab",
   "metadata": {},
   "outputs": [
    {
     "data": {
      "text/plain": [
       "443"
      ]
     },
     "execution_count": 78,
     "metadata": {},
     "output_type": "execute_result"
    }
   ],
   "source": [
    "len(json_rdf['results']['bindings'])"
   ]
  },
  {
   "cell_type": "markdown",
   "id": "84c8b213-f3da-4e8e-ac01-49cf2c599b19",
   "metadata": {},
   "source": [
    "There are 503 Companies officially registered in the S&P 500. Having 443 of those through a Sparql query is a good ratio (~90%)."
   ]
  },
  {
   "cell_type": "markdown",
   "id": "7f8390bb-d891-49f9-89e1-d531c45109d7",
   "metadata": {},
   "source": [
    "#### I want to clean the outputted json dictionary to simplify and prettify it."
   ]
  },
  {
   "cell_type": "code",
   "execution_count": 79,
   "id": "1090c08f-3768-4d3a-b05e-afcc8694c269",
   "metadata": {},
   "outputs": [],
   "source": [
    "# For each key, we only need the value of the nested key named 'value'\n",
    "# we can use a dictionary comprehension\n",
    "\n",
    "json_rdf_cleaned = []\n",
    "\n",
    "for row in json_rdf['results']['bindings']:\n",
    "    temp_dict = {}\n",
    "    for key in row.keys():\n",
    "        temp_dict[key] = row[key]['value']\n",
    "    json_rdf_cleaned.append(temp_dict)"
   ]
  },
  {
   "cell_type": "code",
   "execution_count": 80,
   "id": "0e759d34-d8d2-4fd3-a3f4-c6980787221f",
   "metadata": {},
   "outputs": [
    {
     "data": {
      "text/plain": [
       "[{'symbol': 'CTLT',\n",
       "  'company_name': 'Catalent',\n",
       "  'revenue': '3.998E9',\n",
       "  'net_income': '5.85E8',\n",
       "  'assets': '9.112E9',\n",
       "  'equity': '3.915E9',\n",
       "  'num_of_employees': '14000'},\n",
       " {'symbol': 'BLK',\n",
       "  'company_name': 'BlackRock',\n",
       "  'revenue': '1.917E10',\n",
       "  'net_income': '5.9E9',\n",
       "  'assets': '1.5265E11',\n",
       "  'equity': '3.769E10',\n",
       "  'num_of_employees': '18400'},\n",
       " {'symbol': 'DVN',\n",
       "  'company_name': 'Devon Energy',\n",
       "  'revenue': '1.2206E10',\n",
       "  'net_income': '2.808E9',\n",
       "  'assets': '2.1025E10',\n",
       "  'equity': '9.399E9',\n",
       "  'num_of_employees': '1600'}]"
      ]
     },
     "execution_count": 80,
     "metadata": {},
     "output_type": "execute_result"
    }
   ],
   "source": [
    "json_rdf_cleaned[:3]"
   ]
  },
  {
   "cell_type": "markdown",
   "id": "f46dd052-c26d-4a05-a785-f76a22e82346",
   "metadata": {},
   "source": [
    "## Creating a DataFrame out of the JSON Dictionary"
   ]
  },
  {
   "cell_type": "code",
   "execution_count": 81,
   "id": "c6de40b6-6f08-4a06-8a0e-90307813893d",
   "metadata": {},
   "outputs": [],
   "source": [
    "df_rdf = pd.json_normalize(json_rdf_cleaned)"
   ]
  },
  {
   "cell_type": "markdown",
   "id": "53f0655b-63ea-4684-b570-4248cdfc7cc2",
   "metadata": {},
   "source": [
    "Table view:"
   ]
  },
  {
   "cell_type": "code",
   "execution_count": 82,
   "id": "75384652-499c-4a8f-b581-6adc344cf299",
   "metadata": {},
   "outputs": [
    {
     "data": {
      "text/html": [
       "<div>\n",
       "<style scoped>\n",
       "    .dataframe tbody tr th:only-of-type {\n",
       "        vertical-align: middle;\n",
       "    }\n",
       "\n",
       "    .dataframe tbody tr th {\n",
       "        vertical-align: top;\n",
       "    }\n",
       "\n",
       "    .dataframe thead th {\n",
       "        text-align: right;\n",
       "    }\n",
       "</style>\n",
       "<table border=\"1\" class=\"dataframe\">\n",
       "  <thead>\n",
       "    <tr style=\"text-align: right;\">\n",
       "      <th></th>\n",
       "      <th>symbol</th>\n",
       "      <th>company_name</th>\n",
       "      <th>revenue</th>\n",
       "      <th>net_income</th>\n",
       "      <th>assets</th>\n",
       "      <th>equity</th>\n",
       "      <th>num_of_employees</th>\n",
       "    </tr>\n",
       "  </thead>\n",
       "  <tbody>\n",
       "    <tr>\n",
       "      <th>0</th>\n",
       "      <td>CTLT</td>\n",
       "      <td>Catalent</td>\n",
       "      <td>3.998E9</td>\n",
       "      <td>5.85E8</td>\n",
       "      <td>9.112E9</td>\n",
       "      <td>3.915E9</td>\n",
       "      <td>14000</td>\n",
       "    </tr>\n",
       "    <tr>\n",
       "      <th>1</th>\n",
       "      <td>BLK</td>\n",
       "      <td>BlackRock</td>\n",
       "      <td>1.917E10</td>\n",
       "      <td>5.9E9</td>\n",
       "      <td>1.5265E11</td>\n",
       "      <td>3.769E10</td>\n",
       "      <td>18400</td>\n",
       "    </tr>\n",
       "    <tr>\n",
       "      <th>2</th>\n",
       "      <td>DVN</td>\n",
       "      <td>Devon Energy</td>\n",
       "      <td>1.2206E10</td>\n",
       "      <td>2.808E9</td>\n",
       "      <td>2.1025E10</td>\n",
       "      <td>9.399E9</td>\n",
       "      <td>1600</td>\n",
       "    </tr>\n",
       "    <tr>\n",
       "      <th>3</th>\n",
       "      <td>RSG</td>\n",
       "      <td>Republic Services</td>\n",
       "      <td>1.0153E10</td>\n",
       "      <td>9.69E8</td>\n",
       "      <td>2.3434E10</td>\n",
       "      <td>8.488E9</td>\n",
       "      <td>35000</td>\n",
       "    </tr>\n",
       "    <tr>\n",
       "      <th>4</th>\n",
       "      <td>ROK</td>\n",
       "      <td>Rockwell Automation</td>\n",
       "      <td>7.76E9</td>\n",
       "      <td>9.19E8</td>\n",
       "      <td>1.076E10</td>\n",
       "      <td>3.02E9</td>\n",
       "      <td>nan</td>\n",
       "    </tr>\n",
       "  </tbody>\n",
       "</table>\n",
       "</div>"
      ],
      "text/plain": [
       "  symbol         company_name    revenue net_income     assets    equity  \\\n",
       "0   CTLT             Catalent    3.998E9     5.85E8    9.112E9   3.915E9   \n",
       "1    BLK            BlackRock   1.917E10      5.9E9  1.5265E11  3.769E10   \n",
       "2    DVN         Devon Energy  1.2206E10    2.808E9  2.1025E10   9.399E9   \n",
       "3    RSG    Republic Services  1.0153E10     9.69E8  2.3434E10   8.488E9   \n",
       "4    ROK  Rockwell Automation     7.76E9     9.19E8   1.076E10    3.02E9   \n",
       "\n",
       "  num_of_employees  \n",
       "0            14000  \n",
       "1            18400  \n",
       "2             1600  \n",
       "3            35000  \n",
       "4              nan  "
      ]
     },
     "execution_count": 82,
     "metadata": {},
     "output_type": "execute_result"
    }
   ],
   "source": [
    "df_rdf.head()"
   ]
  },
  {
   "cell_type": "markdown",
   "id": "6cff0699-3c96-4f10-9c02-0f38ca96de20",
   "metadata": {},
   "source": [
    "### Checking Missing Values"
   ]
  },
  {
   "cell_type": "code",
   "execution_count": 83,
   "id": "56559ada-5f52-443b-861c-c62a659bd0df",
   "metadata": {},
   "outputs": [
    {
     "name": "stdout",
     "output_type": "stream",
     "text": [
      "revenue: 35 missing values\n",
      "net_income: 69 missing values\n",
      "assets: 75 missing values\n",
      "equity: 86 missing values\n",
      "num_of_employees: 31 missing values\n"
     ]
    }
   ],
   "source": [
    "df_rdf.isna().value_counts()\n",
    "\n",
    "for col in df_rdf.columns:\n",
    "    try: \n",
    "        print(f\"{col}: {df_rdf[col].astype('float').isna().value_counts().values[1]} missing values\")\n",
    "    except:\n",
    "        continue"
   ]
  },
  {
   "cell_type": "markdown",
   "id": "978b9aa8-fdd7-40af-ba5f-b956dbd69b74",
   "metadata": {},
   "source": [
    "### Quick Data Processing"
   ]
  },
  {
   "cell_type": "markdown",
   "id": "f2f3f39a-233b-4a91-9f5b-c82f0e469086",
   "metadata": {
    "tags": []
   },
   "source": [
    "Converting the scientific numbers to absolute numbers --> Replacing missing values with 0 (for further division) --> converting to billions (except number of employees) --> rounding to 4 decimals --> replacing 0 with np.nan again"
   ]
  },
  {
   "cell_type": "code",
   "execution_count": 84,
   "id": "e7a5d5bf-382a-40f0-a539-e97d6482b8c4",
   "metadata": {},
   "outputs": [],
   "source": [
    "df_rdf['revenue'] = round(df_rdf['revenue'].astype('float').fillna(0) / 1000000000, 4).replace(0, np.nan)\n",
    "df_rdf['net_income'] = round(df_rdf['net_income'].astype('float').fillna(0) / 1000000000, 4).replace(0, np.nan)\n",
    "df_rdf['assets'] = round(df_rdf['assets'].astype('float').fillna(0) / 1000000000, 4).replace(0, np.nan)\n",
    "df_rdf['equity'] = round(df_rdf['equity'].astype('float').fillna(0) / 1000000000, 4).replace(0, np.nan)\n",
    "df_rdf['num_of_employees'] = df_rdf['num_of_employees'].astype('float').fillna(0).astype('int').replace(0, np.nan)"
   ]
  },
  {
   "cell_type": "markdown",
   "id": "2bbd41de-6ab9-4a61-8f29-ced03e13d6e1",
   "metadata": {},
   "source": [
    "#### Let's test and find Apple for example:"
   ]
  },
  {
   "cell_type": "code",
   "execution_count": 85,
   "id": "cf3405e5-8b7c-4fd3-8b94-6fe89c6ea046",
   "metadata": {},
   "outputs": [
    {
     "data": {
      "text/html": [
       "<div>\n",
       "<style scoped>\n",
       "    .dataframe tbody tr th:only-of-type {\n",
       "        vertical-align: middle;\n",
       "    }\n",
       "\n",
       "    .dataframe tbody tr th {\n",
       "        vertical-align: top;\n",
       "    }\n",
       "\n",
       "    .dataframe thead th {\n",
       "        text-align: right;\n",
       "    }\n",
       "</style>\n",
       "<table border=\"1\" class=\"dataframe\">\n",
       "  <thead>\n",
       "    <tr style=\"text-align: right;\">\n",
       "      <th></th>\n",
       "      <th>symbol</th>\n",
       "      <th>company_name</th>\n",
       "      <th>revenue</th>\n",
       "      <th>net_income</th>\n",
       "      <th>assets</th>\n",
       "      <th>equity</th>\n",
       "      <th>num_of_employees</th>\n",
       "    </tr>\n",
       "  </thead>\n",
       "  <tbody>\n",
       "    <tr>\n",
       "      <th>167</th>\n",
       "      <td>AAPL</td>\n",
       "      <td>Apple Inc.</td>\n",
       "      <td>394.33</td>\n",
       "      <td>99.8</td>\n",
       "      <td>352.76</td>\n",
       "      <td>50.67</td>\n",
       "      <td>164000.0</td>\n",
       "    </tr>\n",
       "  </tbody>\n",
       "</table>\n",
       "</div>"
      ],
      "text/plain": [
       "    symbol company_name  revenue  net_income  assets  equity  num_of_employees\n",
       "167   AAPL   Apple Inc.   394.33        99.8  352.76   50.67          164000.0"
      ]
     },
     "execution_count": 85,
     "metadata": {},
     "output_type": "execute_result"
    }
   ],
   "source": [
    "df_rdf[df_rdf.symbol == 'AAPL']"
   ]
  },
  {
   "cell_type": "markdown",
   "id": "3f57e337-2dc3-47a2-967f-2d925f949fd3",
   "metadata": {},
   "source": [
    "## Table 2 Result"
   ]
  },
  {
   "cell_type": "markdown",
   "id": "9c2d39ad-97f1-456a-9475-360c9b2c47da",
   "metadata": {},
   "source": [
    "#### Numbers in Bio. USD. (except num_of_employees)"
   ]
  },
  {
   "cell_type": "code",
   "execution_count": 86,
   "id": "1b45e844-351d-47f9-babe-570b209b9c90",
   "metadata": {},
   "outputs": [
    {
     "data": {
      "text/html": [
       "<div>\n",
       "<style scoped>\n",
       "    .dataframe tbody tr th:only-of-type {\n",
       "        vertical-align: middle;\n",
       "    }\n",
       "\n",
       "    .dataframe tbody tr th {\n",
       "        vertical-align: top;\n",
       "    }\n",
       "\n",
       "    .dataframe thead th {\n",
       "        text-align: right;\n",
       "    }\n",
       "</style>\n",
       "<table border=\"1\" class=\"dataframe\">\n",
       "  <thead>\n",
       "    <tr style=\"text-align: right;\">\n",
       "      <th></th>\n",
       "      <th>symbol</th>\n",
       "      <th>company_name</th>\n",
       "      <th>revenue</th>\n",
       "      <th>net_income</th>\n",
       "      <th>assets</th>\n",
       "      <th>equity</th>\n",
       "      <th>num_of_employees</th>\n",
       "    </tr>\n",
       "  </thead>\n",
       "  <tbody>\n",
       "    <tr>\n",
       "      <th>230</th>\n",
       "      <td>WMT</td>\n",
       "      <td>Walmart</td>\n",
       "      <td>572.800</td>\n",
       "      <td>13.670</td>\n",
       "      <td>244.860</td>\n",
       "      <td>91.891</td>\n",
       "      <td>2300000.0</td>\n",
       "    </tr>\n",
       "    <tr>\n",
       "      <th>97</th>\n",
       "      <td>AMZN</td>\n",
       "      <td>Amazon (company)</td>\n",
       "      <td>469.822</td>\n",
       "      <td>33.364</td>\n",
       "      <td>420.549</td>\n",
       "      <td>138.245</td>\n",
       "      <td>NaN</td>\n",
       "    </tr>\n",
       "    <tr>\n",
       "      <th>167</th>\n",
       "      <td>AAPL</td>\n",
       "      <td>Apple Inc.</td>\n",
       "      <td>394.330</td>\n",
       "      <td>99.800</td>\n",
       "      <td>352.760</td>\n",
       "      <td>50.670</td>\n",
       "      <td>164000.0</td>\n",
       "    </tr>\n",
       "    <tr>\n",
       "      <th>226</th>\n",
       "      <td>CVS</td>\n",
       "      <td>CVS Health</td>\n",
       "      <td>292.110</td>\n",
       "      <td>7.910</td>\n",
       "      <td>232.990</td>\n",
       "      <td>75.380</td>\n",
       "      <td>300000.0</td>\n",
       "    </tr>\n",
       "    <tr>\n",
       "      <th>405</th>\n",
       "      <td>UNH</td>\n",
       "      <td>UnitedHealth Group</td>\n",
       "      <td>285.273</td>\n",
       "      <td>17.285</td>\n",
       "      <td>212.206</td>\n",
       "      <td>75.045</td>\n",
       "      <td>380000.0</td>\n",
       "    </tr>\n",
       "    <tr>\n",
       "      <th>181</th>\n",
       "      <td>XOM</td>\n",
       "      <td>ExxonMobil</td>\n",
       "      <td>276.692</td>\n",
       "      <td>23.040</td>\n",
       "      <td>338.923</td>\n",
       "      <td>168.577</td>\n",
       "      <td>64000.0</td>\n",
       "    </tr>\n",
       "    <tr>\n",
       "      <th>83</th>\n",
       "      <td>BRK.A</td>\n",
       "      <td>Berkshire Hathaway</td>\n",
       "      <td>276.100</td>\n",
       "      <td>89.800</td>\n",
       "      <td>958.800</td>\n",
       "      <td>514.900</td>\n",
       "      <td>372000.0</td>\n",
       "    </tr>\n",
       "    <tr>\n",
       "      <th>288</th>\n",
       "      <td>BRK.B</td>\n",
       "      <td>Berkshire Hathaway</td>\n",
       "      <td>276.100</td>\n",
       "      <td>89.800</td>\n",
       "      <td>958.800</td>\n",
       "      <td>514.900</td>\n",
       "      <td>372000.0</td>\n",
       "    </tr>\n",
       "    <tr>\n",
       "      <th>248</th>\n",
       "      <td>MCK</td>\n",
       "      <td>McKesson Corporation</td>\n",
       "      <td>263.970</td>\n",
       "      <td>1.290</td>\n",
       "      <td>63.300</td>\n",
       "      <td>1.790</td>\n",
       "      <td>2022.0</td>\n",
       "    </tr>\n",
       "    <tr>\n",
       "      <th>130</th>\n",
       "      <td>GOOG</td>\n",
       "      <td>Alphabet Inc.</td>\n",
       "      <td>257.600</td>\n",
       "      <td>76.000</td>\n",
       "      <td>359.300</td>\n",
       "      <td>251.600</td>\n",
       "      <td>186779.0</td>\n",
       "    </tr>\n",
       "  </tbody>\n",
       "</table>\n",
       "</div>"
      ],
      "text/plain": [
       "    symbol          company_name  revenue  net_income   assets   equity  \\\n",
       "230    WMT               Walmart  572.800      13.670  244.860   91.891   \n",
       "97    AMZN      Amazon (company)  469.822      33.364  420.549  138.245   \n",
       "167   AAPL            Apple Inc.  394.330      99.800  352.760   50.670   \n",
       "226    CVS            CVS Health  292.110       7.910  232.990   75.380   \n",
       "405    UNH    UnitedHealth Group  285.273      17.285  212.206   75.045   \n",
       "181    XOM            ExxonMobil  276.692      23.040  338.923  168.577   \n",
       "83   BRK.A    Berkshire Hathaway  276.100      89.800  958.800  514.900   \n",
       "288  BRK.B    Berkshire Hathaway  276.100      89.800  958.800  514.900   \n",
       "248    MCK  McKesson Corporation  263.970       1.290   63.300    1.790   \n",
       "130   GOOG         Alphabet Inc.  257.600      76.000  359.300  251.600   \n",
       "\n",
       "     num_of_employees  \n",
       "230         2300000.0  \n",
       "97                NaN  \n",
       "167          164000.0  \n",
       "226          300000.0  \n",
       "405          380000.0  \n",
       "181           64000.0  \n",
       "83           372000.0  \n",
       "288          372000.0  \n",
       "248            2022.0  \n",
       "130          186779.0  "
      ]
     },
     "execution_count": 86,
     "metadata": {},
     "output_type": "execute_result"
    }
   ],
   "source": [
    "df_rdf.sort_values(by='revenue', ascending=False).head(10)"
   ]
  },
  {
   "cell_type": "markdown",
   "id": "78b08246-4622-4610-8955-cc89ce6a8227",
   "metadata": {},
   "source": [
    "# Save Table into the Database as \"companies_rdf\""
   ]
  },
  {
   "cell_type": "markdown",
   "id": "0ec4d476-8f01-46f0-ae1c-3a989997f088",
   "metadata": {},
   "source": [
    "At this point connection with database has already been established (conn)"
   ]
  },
  {
   "cell_type": "code",
   "execution_count": 87,
   "id": "9d89dd23-b1c9-45b7-b1c4-49d560c39a85",
   "metadata": {},
   "outputs": [
    {
     "name": "stdout",
     "output_type": "stream",
     "text": [
      " * sqlite:///sp500_stock_market_index_data.db\n",
      "Done.\n"
     ]
    },
    {
     "data": {
      "text/plain": [
       "[]"
      ]
     },
     "execution_count": 87,
     "metadata": {},
     "output_type": "execute_result"
    }
   ],
   "source": [
    "%sql DROP TABLE IF EXISTS companies_rdf"
   ]
  },
  {
   "cell_type": "code",
   "execution_count": 88,
   "id": "faed430c-32c7-4e08-bdcd-791c4cb92983",
   "metadata": {},
   "outputs": [
    {
     "data": {
      "text/plain": [
       "443"
      ]
     },
     "execution_count": 88,
     "metadata": {},
     "output_type": "execute_result"
    }
   ],
   "source": [
    "# Saving dataframe as table to our database\n",
    "df_rdf.to_sql('companies_rdf', conn, index=False)"
   ]
  },
  {
   "cell_type": "markdown",
   "id": "91ba59b9-2f6b-4c2e-8116-0810ca096bb7",
   "metadata": {},
   "source": [
    "<a id=\"table_merge\"></a>\n",
    "# Next Step: Merging Tables"
   ]
  },
  {
   "cell_type": "markdown",
   "id": "02d874dc-a0e1-446f-bdd0-edd29aaec114",
   "metadata": {},
   "source": [
    "Table 1 - companies_spx"
   ]
  },
  {
   "cell_type": "code",
   "execution_count": 89,
   "id": "0b284d7b-82df-41a4-8443-13963910e7e8",
   "metadata": {},
   "outputs": [
    {
     "name": "stdout",
     "output_type": "stream",
     "text": [
      " * sqlite:///sp500_stock_market_index_data.db\n",
      "Done.\n"
     ]
    },
    {
     "data": {
      "text/html": [
       "<table>\n",
       "    <thead>\n",
       "        <tr>\n",
       "            <th>symbol</th>\n",
       "            <th>company_name</th>\n",
       "            <th>sector</th>\n",
       "            <th>market_cap</th>\n",
       "        </tr>\n",
       "    </thead>\n",
       "    <tbody>\n",
       "        <tr>\n",
       "            <td>AAPL</td>\n",
       "            <td>Apple Inc.</td>\n",
       "            <td>Electronic Technology</td>\n",
       "            <td>2728.0172</td>\n",
       "        </tr>\n",
       "        <tr>\n",
       "            <td>MSFT</td>\n",
       "            <td>Microsoft Corporation</td>\n",
       "            <td>Technology Services</td>\n",
       "            <td>2351.3716</td>\n",
       "        </tr>\n",
       "        <tr>\n",
       "            <td>GOOG</td>\n",
       "            <td>Alphabet Inc.</td>\n",
       "            <td>Technology Services</td>\n",
       "            <td>1611.8565</td>\n",
       "        </tr>\n",
       "        <tr>\n",
       "            <td>GOOGL</td>\n",
       "            <td>Alphabet Inc.</td>\n",
       "            <td>Technology Services</td>\n",
       "            <td>1610.3439</td>\n",
       "        </tr>\n",
       "        <tr>\n",
       "            <td>AMZN</td>\n",
       "            <td>Amazon.com, Inc.</td>\n",
       "            <td>Retail Trade</td>\n",
       "            <td>1366.8843</td>\n",
       "        </tr>\n",
       "    </tbody>\n",
       "</table>"
      ],
      "text/plain": [
       "[('AAPL', 'Apple Inc.', 'Electronic Technology', 2728.0172),\n",
       " ('MSFT', 'Microsoft Corporation', 'Technology Services', 2351.3716),\n",
       " ('GOOG', 'Alphabet Inc.', 'Technology Services', 1611.8565),\n",
       " ('GOOGL', 'Alphabet Inc.', 'Technology Services', 1610.3439),\n",
       " ('AMZN', 'Amazon.com, Inc.', 'Retail Trade', 1366.8843)]"
      ]
     },
     "execution_count": 89,
     "metadata": {},
     "output_type": "execute_result"
    }
   ],
   "source": [
    "%sql SELECT * FROM companies_spx LIMIT 5;"
   ]
  },
  {
   "cell_type": "markdown",
   "id": "03a64f59-c75c-4cfa-84d6-02be2f84f839",
   "metadata": {},
   "source": [
    "Table 2 - companies_rdf"
   ]
  },
  {
   "cell_type": "code",
   "execution_count": 90,
   "id": "a35ccc20-934a-40b2-b95f-cdd6f35fdf8c",
   "metadata": {},
   "outputs": [
    {
     "name": "stdout",
     "output_type": "stream",
     "text": [
      " * sqlite:///sp500_stock_market_index_data.db\n",
      "Done.\n"
     ]
    },
    {
     "data": {
      "text/html": [
       "<table>\n",
       "    <thead>\n",
       "        <tr>\n",
       "            <th>symbol</th>\n",
       "            <th>company_name</th>\n",
       "            <th>revenue</th>\n",
       "            <th>net_income</th>\n",
       "            <th>assets</th>\n",
       "            <th>equity</th>\n",
       "            <th>num_of_employees</th>\n",
       "        </tr>\n",
       "    </thead>\n",
       "    <tbody>\n",
       "        <tr>\n",
       "            <td>CTLT</td>\n",
       "            <td>Catalent</td>\n",
       "            <td>3.998</td>\n",
       "            <td>0.585</td>\n",
       "            <td>9.112</td>\n",
       "            <td>3.915</td>\n",
       "            <td>14000.0</td>\n",
       "        </tr>\n",
       "        <tr>\n",
       "            <td>BLK</td>\n",
       "            <td>BlackRock</td>\n",
       "            <td>19.17</td>\n",
       "            <td>5.9</td>\n",
       "            <td>152.65</td>\n",
       "            <td>37.69</td>\n",
       "            <td>18400.0</td>\n",
       "        </tr>\n",
       "        <tr>\n",
       "            <td>DVN</td>\n",
       "            <td>Devon Energy</td>\n",
       "            <td>12.206</td>\n",
       "            <td>2.808</td>\n",
       "            <td>21.025</td>\n",
       "            <td>9.399</td>\n",
       "            <td>1600.0</td>\n",
       "        </tr>\n",
       "        <tr>\n",
       "            <td>RSG</td>\n",
       "            <td>Republic Services</td>\n",
       "            <td>10.153</td>\n",
       "            <td>0.969</td>\n",
       "            <td>23.434</td>\n",
       "            <td>8.488</td>\n",
       "            <td>35000.0</td>\n",
       "        </tr>\n",
       "        <tr>\n",
       "            <td>ROK</td>\n",
       "            <td>Rockwell Automation</td>\n",
       "            <td>7.76</td>\n",
       "            <td>0.919</td>\n",
       "            <td>10.76</td>\n",
       "            <td>3.02</td>\n",
       "            <td>None</td>\n",
       "        </tr>\n",
       "    </tbody>\n",
       "</table>"
      ],
      "text/plain": [
       "[('CTLT', 'Catalent', 3.998, 0.585, 9.112, 3.915, 14000.0),\n",
       " ('BLK', 'BlackRock', 19.17, 5.9, 152.65, 37.69, 18400.0),\n",
       " ('DVN', 'Devon Energy', 12.206, 2.808, 21.025, 9.399, 1600.0),\n",
       " ('RSG', 'Republic Services', 10.153, 0.969, 23.434, 8.488, 35000.0),\n",
       " ('ROK', 'Rockwell Automation', 7.76, 0.919, 10.76, 3.02, None)]"
      ]
     },
     "execution_count": 90,
     "metadata": {},
     "output_type": "execute_result"
    }
   ],
   "source": [
    "%sql SELECT * FROM companies_rdf LIMIT 5;"
   ]
  },
  {
   "cell_type": "markdown",
   "id": "d6add8c3-82ab-43ad-8e22-c8f0fd46a977",
   "metadata": {},
   "source": [
    "#### Building a Query for Merging Tables"
   ]
  },
  {
   "cell_type": "code",
   "execution_count": 91,
   "id": "415c9802-f5ea-47cc-b5b8-a9f7679e70dd",
   "metadata": {},
   "outputs": [
    {
     "name": "stdout",
     "output_type": "stream",
     "text": [
      " * sqlite:///sp500_stock_market_index_data.db\n",
      "Done.\n"
     ]
    },
    {
     "data": {
      "text/html": [
       "<table>\n",
       "    <thead>\n",
       "        <tr>\n",
       "            <th>symbol</th>\n",
       "            <th>company_name</th>\n",
       "            <th>sector</th>\n",
       "            <th>revenue</th>\n",
       "            <th>net_income</th>\n",
       "            <th>assets</th>\n",
       "            <th>equity</th>\n",
       "            <th>num_of_employees</th>\n",
       "        </tr>\n",
       "    </thead>\n",
       "    <tbody>\n",
       "        <tr>\n",
       "            <td>AAPL</td>\n",
       "            <td>Apple Inc.</td>\n",
       "            <td>Electronic Technology</td>\n",
       "            <td>2728.0172</td>\n",
       "            <td>99.8</td>\n",
       "            <td>352.76</td>\n",
       "            <td>50.67</td>\n",
       "            <td>164000.0</td>\n",
       "        </tr>\n",
       "        <tr>\n",
       "            <td>MSFT</td>\n",
       "            <td>Microsoft Corporation</td>\n",
       "            <td>Technology Services</td>\n",
       "            <td>2351.3716</td>\n",
       "            <td>72.7</td>\n",
       "            <td>364.8</td>\n",
       "            <td>166.5</td>\n",
       "            <td>221000.0</td>\n",
       "        </tr>\n",
       "        <tr>\n",
       "            <td>GOOG</td>\n",
       "            <td>Alphabet Inc.</td>\n",
       "            <td>Technology Services</td>\n",
       "            <td>1611.8565</td>\n",
       "            <td>76.0</td>\n",
       "            <td>359.3</td>\n",
       "            <td>251.6</td>\n",
       "            <td>186779.0</td>\n",
       "        </tr>\n",
       "        <tr>\n",
       "            <td>GOOGL</td>\n",
       "            <td>Alphabet Inc.</td>\n",
       "            <td>Technology Services</td>\n",
       "            <td>1610.3439</td>\n",
       "            <td>76.0</td>\n",
       "            <td>359.3</td>\n",
       "            <td>251.6</td>\n",
       "            <td>186779.0</td>\n",
       "        </tr>\n",
       "        <tr>\n",
       "            <td>AMZN</td>\n",
       "            <td>Amazon.com, Inc.</td>\n",
       "            <td>Retail Trade</td>\n",
       "            <td>1366.8843</td>\n",
       "            <td>33.364</td>\n",
       "            <td>420.549</td>\n",
       "            <td>138.245</td>\n",
       "            <td>None</td>\n",
       "        </tr>\n",
       "    </tbody>\n",
       "</table>"
      ],
      "text/plain": [
       "[('AAPL', 'Apple Inc.', 'Electronic Technology', 2728.0172, 99.8, 352.76, 50.67, 164000.0),\n",
       " ('MSFT', 'Microsoft Corporation', 'Technology Services', 2351.3716, 72.7, 364.8, 166.5, 221000.0),\n",
       " ('GOOG', 'Alphabet Inc.', 'Technology Services', 1611.8565, 76.0, 359.3, 251.6, 186779.0),\n",
       " ('GOOGL', 'Alphabet Inc.', 'Technology Services', 1610.3439, 76.0, 359.3, 251.6, 186779.0),\n",
       " ('AMZN', 'Amazon.com, Inc.', 'Retail Trade', 1366.8843, 33.364, 420.549, 138.245, None)]"
      ]
     },
     "execution_count": 91,
     "metadata": {},
     "output_type": "execute_result"
    }
   ],
   "source": [
    "%%sql \n",
    "\n",
    "SELECT \n",
    "    companies_spx.symbol, \n",
    "    companies_spx.company_name, \n",
    "    sector, \n",
    "    market_cap\n",
    "    revenue,\n",
    "    net_income,\n",
    "    assets,\n",
    "    equity,\n",
    "    num_of_employees\n",
    "FROM companies_spx\n",
    "LEFT JOIN companies_rdf\n",
    "ON companies_spx.symbol = companies_rdf.symbol\n",
    "LIMIT 5;"
   ]
  },
  {
   "cell_type": "markdown",
   "id": "49c1ac4a-dad7-4a22-b529-cdc5d0bc6c3c",
   "metadata": {},
   "source": [
    "To be able to save this query as a new merged table in the database as well as having a new dataframe 'df_merged', I'm using pd.read_sql function and provide it with the previously built query"
   ]
  },
  {
   "cell_type": "code",
   "execution_count": 92,
   "id": "2cc654ac-4b0a-4b88-9d20-0f828d85987c",
   "metadata": {},
   "outputs": [],
   "source": [
    "df_merged = pd.read_sql(sql=\"\"\"\n",
    "SELECT \n",
    "    companies_spx.symbol, \n",
    "    companies_spx.company_name, \n",
    "    sector, \n",
    "    market_cap,\n",
    "    revenue,\n",
    "    net_income,\n",
    "    assets,\n",
    "    equity,\n",
    "    num_of_employees\n",
    "FROM companies_spx\n",
    "LEFT JOIN companies_rdf\n",
    "ON companies_spx.symbol = companies_rdf.symbol\n",
    "\"\"\", \n",
    "con=conn)"
   ]
  },
  {
   "cell_type": "code",
   "execution_count": 93,
   "id": "81d26fab-1442-4eac-ba76-aa26564f65fd",
   "metadata": {},
   "outputs": [
    {
     "name": "stdout",
     "output_type": "stream",
     "text": [
      " * sqlite:///sp500_stock_market_index_data.db\n",
      "Done.\n"
     ]
    },
    {
     "data": {
      "text/plain": [
       "[]"
      ]
     },
     "execution_count": 93,
     "metadata": {},
     "output_type": "execute_result"
    }
   ],
   "source": [
    "%sql DROP TABLE IF EXISTS companies_merged"
   ]
  },
  {
   "cell_type": "markdown",
   "id": "0e0ee1c6-bcd5-4591-9b80-62a146dfd7ad",
   "metadata": {},
   "source": [
    "# Save Table into the Database as \"companies_merged\""
   ]
  },
  {
   "cell_type": "code",
   "execution_count": 94,
   "id": "14650611-4bc5-43f9-9e98-56b80f98a0fe",
   "metadata": {},
   "outputs": [
    {
     "data": {
      "text/plain": [
       "503"
      ]
     },
     "execution_count": 94,
     "metadata": {},
     "output_type": "execute_result"
    }
   ],
   "source": [
    "df_merged.to_sql('companies_merged', con=conn)"
   ]
  },
  {
   "cell_type": "markdown",
   "id": "723f34b3-50cd-40d0-91eb-cbb2e3bb43ef",
   "metadata": {},
   "source": [
    "# Final Table"
   ]
  },
  {
   "cell_type": "code",
   "execution_count": 95,
   "id": "d4743237-e6bf-4aa4-9fc3-387c17024a78",
   "metadata": {},
   "outputs": [
    {
     "name": "stdout",
     "output_type": "stream",
     "text": [
      " * sqlite:///sp500_stock_market_index_data.db\n",
      "Done.\n"
     ]
    },
    {
     "data": {
      "text/html": [
       "<table>\n",
       "    <thead>\n",
       "        <tr>\n",
       "            <th>index</th>\n",
       "            <th>symbol</th>\n",
       "            <th>company_name</th>\n",
       "            <th>sector</th>\n",
       "            <th>market_cap</th>\n",
       "            <th>revenue</th>\n",
       "            <th>net_income</th>\n",
       "            <th>assets</th>\n",
       "            <th>equity</th>\n",
       "            <th>num_of_employees</th>\n",
       "        </tr>\n",
       "    </thead>\n",
       "    <tbody>\n",
       "        <tr>\n",
       "            <td>0</td>\n",
       "            <td>AAPL</td>\n",
       "            <td>Apple Inc.</td>\n",
       "            <td>Electronic Technology</td>\n",
       "            <td>2728.0172</td>\n",
       "            <td>394.33</td>\n",
       "            <td>99.8</td>\n",
       "            <td>352.76</td>\n",
       "            <td>50.67</td>\n",
       "            <td>164000.0</td>\n",
       "        </tr>\n",
       "        <tr>\n",
       "            <td>1</td>\n",
       "            <td>MSFT</td>\n",
       "            <td>Microsoft Corporation</td>\n",
       "            <td>Technology Services</td>\n",
       "            <td>2351.3716</td>\n",
       "            <td>198.3</td>\n",
       "            <td>72.7</td>\n",
       "            <td>364.8</td>\n",
       "            <td>166.5</td>\n",
       "            <td>221000.0</td>\n",
       "        </tr>\n",
       "        <tr>\n",
       "            <td>2</td>\n",
       "            <td>GOOG</td>\n",
       "            <td>Alphabet Inc.</td>\n",
       "            <td>Technology Services</td>\n",
       "            <td>1611.8565</td>\n",
       "            <td>257.6</td>\n",
       "            <td>76.0</td>\n",
       "            <td>359.3</td>\n",
       "            <td>251.6</td>\n",
       "            <td>186779.0</td>\n",
       "        </tr>\n",
       "        <tr>\n",
       "            <td>3</td>\n",
       "            <td>GOOGL</td>\n",
       "            <td>Alphabet Inc.</td>\n",
       "            <td>Technology Services</td>\n",
       "            <td>1610.3439</td>\n",
       "            <td>257.6</td>\n",
       "            <td>76.0</td>\n",
       "            <td>359.3</td>\n",
       "            <td>251.6</td>\n",
       "            <td>186779.0</td>\n",
       "        </tr>\n",
       "        <tr>\n",
       "            <td>4</td>\n",
       "            <td>AMZN</td>\n",
       "            <td>Amazon.com, Inc.</td>\n",
       "            <td>Retail Trade</td>\n",
       "            <td>1366.8843</td>\n",
       "            <td>469.822</td>\n",
       "            <td>33.364</td>\n",
       "            <td>420.549</td>\n",
       "            <td>138.245</td>\n",
       "            <td>None</td>\n",
       "        </tr>\n",
       "        <tr>\n",
       "            <td>5</td>\n",
       "            <td>NVDA</td>\n",
       "            <td>NVIDIA Corporation</td>\n",
       "            <td>Electronic Technology</td>\n",
       "            <td>1069.4853</td>\n",
       "            <td>26.91</td>\n",
       "            <td>9.75</td>\n",
       "            <td>44.18</td>\n",
       "            <td>26.61</td>\n",
       "            <td>22473.0</td>\n",
       "        </tr>\n",
       "        <tr>\n",
       "            <td>6</td>\n",
       "            <td>BRK.B</td>\n",
       "            <td>Berkshire Hathaway Inc. New</td>\n",
       "            <td>Finance</td>\n",
       "            <td>768.8919</td>\n",
       "            <td>276.1</td>\n",
       "            <td>89.8</td>\n",
       "            <td>958.8</td>\n",
       "            <td>514.9</td>\n",
       "            <td>372000.0</td>\n",
       "        </tr>\n",
       "        <tr>\n",
       "            <td>7</td>\n",
       "            <td>META</td>\n",
       "            <td>Meta Platforms, Inc.</td>\n",
       "            <td>Technology Services</td>\n",
       "            <td>728.9672</td>\n",
       "            <td>117.929</td>\n",
       "            <td>39.37</td>\n",
       "            <td>165.987</td>\n",
       "            <td>124.879</td>\n",
       "            <td>None</td>\n",
       "        </tr>\n",
       "        <tr>\n",
       "            <td>8</td>\n",
       "            <td>TSLA</td>\n",
       "            <td>Tesla, Inc.</td>\n",
       "            <td>Consumer Durables</td>\n",
       "            <td>683.9641</td>\n",
       "            <td>None</td>\n",
       "            <td>5.52</td>\n",
       "            <td>None</td>\n",
       "            <td>None</td>\n",
       "            <td>110000.0</td>\n",
       "        </tr>\n",
       "        <tr>\n",
       "            <td>9</td>\n",
       "            <td>LLY</td>\n",
       "            <td>Eli Lilly and Company</td>\n",
       "            <td>Health Technology</td>\n",
       "            <td>518.7233</td>\n",
       "            <td>28.32</td>\n",
       "            <td>5.58</td>\n",
       "            <td>48.81</td>\n",
       "            <td>8.98</td>\n",
       "            <td>2021.0</td>\n",
       "        </tr>\n",
       "    </tbody>\n",
       "</table>"
      ],
      "text/plain": [
       "[(0, 'AAPL', 'Apple Inc.', 'Electronic Technology', 2728.0172, 394.33, 99.8, 352.76, 50.67, 164000.0),\n",
       " (1, 'MSFT', 'Microsoft Corporation', 'Technology Services', 2351.3716, 198.3, 72.7, 364.8, 166.5, 221000.0),\n",
       " (2, 'GOOG', 'Alphabet Inc.', 'Technology Services', 1611.8565, 257.6, 76.0, 359.3, 251.6, 186779.0),\n",
       " (3, 'GOOGL', 'Alphabet Inc.', 'Technology Services', 1610.3439, 257.6, 76.0, 359.3, 251.6, 186779.0),\n",
       " (4, 'AMZN', 'Amazon.com, Inc.', 'Retail Trade', 1366.8843, 469.822, 33.364, 420.549, 138.245, None),\n",
       " (5, 'NVDA', 'NVIDIA Corporation', 'Electronic Technology', 1069.4853, 26.91, 9.75, 44.18, 26.61, 22473.0),\n",
       " (6, 'BRK.B', 'Berkshire Hathaway Inc. New', 'Finance', 768.8919, 276.1, 89.8, 958.8, 514.9, 372000.0),\n",
       " (7, 'META', 'Meta Platforms, Inc.', 'Technology Services', 728.9672, 117.929, 39.37, 165.987, 124.879, None),\n",
       " (8, 'TSLA', 'Tesla, Inc.', 'Consumer Durables', 683.9641, None, 5.52, None, None, 110000.0),\n",
       " (9, 'LLY', 'Eli Lilly and Company', 'Health Technology', 518.7233, 28.32, 5.58, 48.81, 8.98, 2021.0)]"
      ]
     },
     "execution_count": 95,
     "metadata": {},
     "output_type": "execute_result"
    }
   ],
   "source": [
    "%%sql\n",
    "SELECT *\n",
    "FROM companies_merged\n",
    "ORDER BY market_cap DESC\n",
    "LIMIT 10;"
   ]
  },
  {
   "cell_type": "markdown",
   "id": "9ddd972d-fa1d-488a-bba9-beff9f5473cd",
   "metadata": {},
   "source": [
    "Some of the companies, as discussed before have some missing values, which is perfectly fine and we can still work with the company data. The data could be filled in manually or through use of other frameworks such as yfinance (Yahoo finance) "
   ]
  },
  {
   "cell_type": "markdown",
   "id": "d74a2bb9-05b5-411e-810b-e03bf772989a",
   "metadata": {},
   "source": [
    "<a id=\"data_analysis\"></a>\n",
    "# Data Analysis\n",
    "PS: untoggle the cells to view code by pressing on the 3 dots"
   ]
  },
  {
   "cell_type": "code",
   "execution_count": 96,
   "id": "671ad01c-ecba-4103-9a5a-726b1c622310",
   "metadata": {
    "jupyter": {
     "source_hidden": true
    },
    "tags": []
   },
   "outputs": [],
   "source": [
    "import seaborn as sns\n",
    "import matplotlib.pyplot as plt\n",
    "import plotly.express as px\n",
    "import plotly.graph_objs as go"
   ]
  },
  {
   "cell_type": "code",
   "execution_count": 97,
   "id": "64d2ff23-2d26-4dfc-8185-a9d9e228a7d4",
   "metadata": {
    "collapsed": true,
    "jupyter": {
     "outputs_hidden": true,
     "source_hidden": true
    },
    "tags": []
   },
   "outputs": [
    {
     "data": {
      "text/plain": [
       "sector\n",
       "Finance                   18.29\n",
       "Technology Services        9.94\n",
       "Electronic Technology      9.74\n",
       "Health Technology          9.34\n",
       "Utilities                  6.16\n",
       "Consumer Non-Durables      6.16\n",
       "Producer Manufacturing     6.16\n",
       "Consumer Services          5.77\n",
       "Process Industries         4.77\n",
       "Retail Trade               4.57\n",
       "Energy Minerals            3.18\n",
       "Transportation             2.98\n",
       "Commercial Services        2.58\n",
       "Consumer Durables          2.39\n",
       "Health Services            2.39\n",
       "Industrial Services        1.79\n",
       "Distribution Services      1.79\n",
       "Non-Energy Minerals        1.39\n",
       "Communications             0.60\n",
       "Name: symbol, dtype: float64"
      ]
     },
     "execution_count": 97,
     "metadata": {},
     "output_type": "execute_result"
    }
   ],
   "source": [
    "# here I'm selecting the relevant data for data visualization\n",
    "sector_market_caps = df_merged.groupby('sector')['market_cap'].mean().sort_values(ascending=False)\n",
    "sector_company_counts = df_merged.groupby('sector')['symbol'].count().sort_values(ascending=False)\n",
    "sector_company_counts_percentages_of_total = round(sector_company_counts / sector_company_counts.sum() * 100, 2)\n",
    "sector_company_counts_percentages_of_total "
   ]
  },
  {
   "cell_type": "markdown",
   "id": "06f240b3-a01f-49da-9114-24fffbeb6d5c",
   "metadata": {},
   "source": [
    "# S&P 500 Index Consistuents"
   ]
  },
  {
   "cell_type": "code",
   "execution_count": 98,
   "id": "582dc396-53a4-4143-bc4a-2880ed2fb8a0",
   "metadata": {
    "jupyter": {
     "source_hidden": true
    },
    "tags": []
   },
   "outputs": [
    {
     "data": {
      "application/vnd.plotly.v1+json": {
       "config": {
        "plotlyServerURL": "https://plot.ly"
       },
       "data": [
        {
         "alignmentgroup": "True",
         "hovertemplate": "Average Market Cap=%{x}<br>sector=%{y}<br>color=%{marker.color}<extra></extra>",
         "legendgroup": "",
         "marker": {
          "color": [
           182.833794,
           135.15815652173913,
           133.3655,
           131.90574897959183,
           97.29381538461539,
           87.7810375,
           84.33247446808511,
           78.81796666666666,
           77.46930833333333,
           66.14497741935483,
           51.6197054347826,
           47.74935517241379,
           44.89816666666667,
           44.283080000000005,
           43.40829354838709,
           33.48618888888889,
           32.03930833333333,
           30.688267741935483,
           29.478385714285714
          ],
          "coloraxis": "coloraxis",
          "pattern": {
           "shape": ""
          }
         },
         "name": "",
         "offsetgroup": "",
         "orientation": "h",
         "showlegend": false,
         "textposition": "auto",
         "type": "bar",
         "x": [
          182.833794,
          135.15815652173913,
          133.3655,
          131.90574897959183,
          97.29381538461539,
          87.7810375,
          84.33247446808511,
          78.81796666666666,
          77.46930833333333,
          66.14497741935483,
          51.6197054347826,
          47.74935517241379,
          44.89816666666667,
          44.283080000000005,
          43.40829354838709,
          33.48618888888889,
          32.03930833333333,
          30.688267741935483,
          29.478385714285714
         ],
         "xaxis": "x",
         "y": [
          "Technology Services",
          "Retail Trade",
          "Communications",
          "Electronic Technology",
          "Commercial Services",
          "Energy Minerals",
          "Health Technology",
          "Consumer Durables",
          "Health Services",
          "Consumer Non-Durables",
          "Finance",
          "Consumer Services",
          "Industrial Services",
          "Transportation",
          "Producer Manufacturing",
          "Distribution Services",
          "Process Industries",
          "Utilities",
          "Non-Energy Minerals"
         ],
         "yaxis": "y"
        }
       ],
       "layout": {
        "autosize": true,
        "barmode": "relative",
        "coloraxis": {
         "colorbar": {
          "title": {
           "text": "color"
          }
         },
         "colorscale": [
          [
           0,
           "#440154"
          ],
          [
           0.1111111111111111,
           "#482878"
          ],
          [
           0.2222222222222222,
           "#3e4989"
          ],
          [
           0.3333333333333333,
           "#31688e"
          ],
          [
           0.4444444444444444,
           "#26828e"
          ],
          [
           0.5555555555555556,
           "#1f9e89"
          ],
          [
           0.6666666666666666,
           "#35b779"
          ],
          [
           0.7777777777777778,
           "#6ece58"
          ],
          [
           0.8888888888888888,
           "#b5de2b"
          ],
          [
           1,
           "#fde725"
          ]
         ]
        },
        "legend": {
         "tracegroupgap": 0
        },
        "margin": {
         "t": 60
        },
        "template": {
         "data": {
          "bar": [
           {
            "error_x": {
             "color": "#2a3f5f"
            },
            "error_y": {
             "color": "#2a3f5f"
            },
            "marker": {
             "line": {
              "color": "white",
              "width": 0.5
             },
             "pattern": {
              "fillmode": "overlay",
              "size": 10,
              "solidity": 0.2
             }
            },
            "type": "bar"
           }
          ],
          "barpolar": [
           {
            "marker": {
             "line": {
              "color": "white",
              "width": 0.5
             },
             "pattern": {
              "fillmode": "overlay",
              "size": 10,
              "solidity": 0.2
             }
            },
            "type": "barpolar"
           }
          ],
          "carpet": [
           {
            "aaxis": {
             "endlinecolor": "#2a3f5f",
             "gridcolor": "#C8D4E3",
             "linecolor": "#C8D4E3",
             "minorgridcolor": "#C8D4E3",
             "startlinecolor": "#2a3f5f"
            },
            "baxis": {
             "endlinecolor": "#2a3f5f",
             "gridcolor": "#C8D4E3",
             "linecolor": "#C8D4E3",
             "minorgridcolor": "#C8D4E3",
             "startlinecolor": "#2a3f5f"
            },
            "type": "carpet"
           }
          ],
          "choropleth": [
           {
            "colorbar": {
             "outlinewidth": 0,
             "ticks": ""
            },
            "type": "choropleth"
           }
          ],
          "contour": [
           {
            "colorbar": {
             "outlinewidth": 0,
             "ticks": ""
            },
            "colorscale": [
             [
              0,
              "#0d0887"
             ],
             [
              0.1111111111111111,
              "#46039f"
             ],
             [
              0.2222222222222222,
              "#7201a8"
             ],
             [
              0.3333333333333333,
              "#9c179e"
             ],
             [
              0.4444444444444444,
              "#bd3786"
             ],
             [
              0.5555555555555556,
              "#d8576b"
             ],
             [
              0.6666666666666666,
              "#ed7953"
             ],
             [
              0.7777777777777778,
              "#fb9f3a"
             ],
             [
              0.8888888888888888,
              "#fdca26"
             ],
             [
              1,
              "#f0f921"
             ]
            ],
            "type": "contour"
           }
          ],
          "contourcarpet": [
           {
            "colorbar": {
             "outlinewidth": 0,
             "ticks": ""
            },
            "type": "contourcarpet"
           }
          ],
          "heatmap": [
           {
            "colorbar": {
             "outlinewidth": 0,
             "ticks": ""
            },
            "colorscale": [
             [
              0,
              "#0d0887"
             ],
             [
              0.1111111111111111,
              "#46039f"
             ],
             [
              0.2222222222222222,
              "#7201a8"
             ],
             [
              0.3333333333333333,
              "#9c179e"
             ],
             [
              0.4444444444444444,
              "#bd3786"
             ],
             [
              0.5555555555555556,
              "#d8576b"
             ],
             [
              0.6666666666666666,
              "#ed7953"
             ],
             [
              0.7777777777777778,
              "#fb9f3a"
             ],
             [
              0.8888888888888888,
              "#fdca26"
             ],
             [
              1,
              "#f0f921"
             ]
            ],
            "type": "heatmap"
           }
          ],
          "heatmapgl": [
           {
            "colorbar": {
             "outlinewidth": 0,
             "ticks": ""
            },
            "colorscale": [
             [
              0,
              "#0d0887"
             ],
             [
              0.1111111111111111,
              "#46039f"
             ],
             [
              0.2222222222222222,
              "#7201a8"
             ],
             [
              0.3333333333333333,
              "#9c179e"
             ],
             [
              0.4444444444444444,
              "#bd3786"
             ],
             [
              0.5555555555555556,
              "#d8576b"
             ],
             [
              0.6666666666666666,
              "#ed7953"
             ],
             [
              0.7777777777777778,
              "#fb9f3a"
             ],
             [
              0.8888888888888888,
              "#fdca26"
             ],
             [
              1,
              "#f0f921"
             ]
            ],
            "type": "heatmapgl"
           }
          ],
          "histogram": [
           {
            "marker": {
             "pattern": {
              "fillmode": "overlay",
              "size": 10,
              "solidity": 0.2
             }
            },
            "type": "histogram"
           }
          ],
          "histogram2d": [
           {
            "colorbar": {
             "outlinewidth": 0,
             "ticks": ""
            },
            "colorscale": [
             [
              0,
              "#0d0887"
             ],
             [
              0.1111111111111111,
              "#46039f"
             ],
             [
              0.2222222222222222,
              "#7201a8"
             ],
             [
              0.3333333333333333,
              "#9c179e"
             ],
             [
              0.4444444444444444,
              "#bd3786"
             ],
             [
              0.5555555555555556,
              "#d8576b"
             ],
             [
              0.6666666666666666,
              "#ed7953"
             ],
             [
              0.7777777777777778,
              "#fb9f3a"
             ],
             [
              0.8888888888888888,
              "#fdca26"
             ],
             [
              1,
              "#f0f921"
             ]
            ],
            "type": "histogram2d"
           }
          ],
          "histogram2dcontour": [
           {
            "colorbar": {
             "outlinewidth": 0,
             "ticks": ""
            },
            "colorscale": [
             [
              0,
              "#0d0887"
             ],
             [
              0.1111111111111111,
              "#46039f"
             ],
             [
              0.2222222222222222,
              "#7201a8"
             ],
             [
              0.3333333333333333,
              "#9c179e"
             ],
             [
              0.4444444444444444,
              "#bd3786"
             ],
             [
              0.5555555555555556,
              "#d8576b"
             ],
             [
              0.6666666666666666,
              "#ed7953"
             ],
             [
              0.7777777777777778,
              "#fb9f3a"
             ],
             [
              0.8888888888888888,
              "#fdca26"
             ],
             [
              1,
              "#f0f921"
             ]
            ],
            "type": "histogram2dcontour"
           }
          ],
          "mesh3d": [
           {
            "colorbar": {
             "outlinewidth": 0,
             "ticks": ""
            },
            "type": "mesh3d"
           }
          ],
          "parcoords": [
           {
            "line": {
             "colorbar": {
              "outlinewidth": 0,
              "ticks": ""
             }
            },
            "type": "parcoords"
           }
          ],
          "pie": [
           {
            "automargin": true,
            "type": "pie"
           }
          ],
          "scatter": [
           {
            "fillpattern": {
             "fillmode": "overlay",
             "size": 10,
             "solidity": 0.2
            },
            "type": "scatter"
           }
          ],
          "scatter3d": [
           {
            "line": {
             "colorbar": {
              "outlinewidth": 0,
              "ticks": ""
             }
            },
            "marker": {
             "colorbar": {
              "outlinewidth": 0,
              "ticks": ""
             }
            },
            "type": "scatter3d"
           }
          ],
          "scattercarpet": [
           {
            "marker": {
             "colorbar": {
              "outlinewidth": 0,
              "ticks": ""
             }
            },
            "type": "scattercarpet"
           }
          ],
          "scattergeo": [
           {
            "marker": {
             "colorbar": {
              "outlinewidth": 0,
              "ticks": ""
             }
            },
            "type": "scattergeo"
           }
          ],
          "scattergl": [
           {
            "marker": {
             "colorbar": {
              "outlinewidth": 0,
              "ticks": ""
             }
            },
            "type": "scattergl"
           }
          ],
          "scattermapbox": [
           {
            "marker": {
             "colorbar": {
              "outlinewidth": 0,
              "ticks": ""
             }
            },
            "type": "scattermapbox"
           }
          ],
          "scatterpolar": [
           {
            "marker": {
             "colorbar": {
              "outlinewidth": 0,
              "ticks": ""
             }
            },
            "type": "scatterpolar"
           }
          ],
          "scatterpolargl": [
           {
            "marker": {
             "colorbar": {
              "outlinewidth": 0,
              "ticks": ""
             }
            },
            "type": "scatterpolargl"
           }
          ],
          "scatterternary": [
           {
            "marker": {
             "colorbar": {
              "outlinewidth": 0,
              "ticks": ""
             }
            },
            "type": "scatterternary"
           }
          ],
          "surface": [
           {
            "colorbar": {
             "outlinewidth": 0,
             "ticks": ""
            },
            "colorscale": [
             [
              0,
              "#0d0887"
             ],
             [
              0.1111111111111111,
              "#46039f"
             ],
             [
              0.2222222222222222,
              "#7201a8"
             ],
             [
              0.3333333333333333,
              "#9c179e"
             ],
             [
              0.4444444444444444,
              "#bd3786"
             ],
             [
              0.5555555555555556,
              "#d8576b"
             ],
             [
              0.6666666666666666,
              "#ed7953"
             ],
             [
              0.7777777777777778,
              "#fb9f3a"
             ],
             [
              0.8888888888888888,
              "#fdca26"
             ],
             [
              1,
              "#f0f921"
             ]
            ],
            "type": "surface"
           }
          ],
          "table": [
           {
            "cells": {
             "fill": {
              "color": "#EBF0F8"
             },
             "line": {
              "color": "white"
             }
            },
            "header": {
             "fill": {
              "color": "#C8D4E3"
             },
             "line": {
              "color": "white"
             }
            },
            "type": "table"
           }
          ]
         },
         "layout": {
          "annotationdefaults": {
           "arrowcolor": "#2a3f5f",
           "arrowhead": 0,
           "arrowwidth": 1
          },
          "autotypenumbers": "strict",
          "coloraxis": {
           "colorbar": {
            "outlinewidth": 0,
            "ticks": ""
           }
          },
          "colorscale": {
           "diverging": [
            [
             0,
             "#8e0152"
            ],
            [
             0.1,
             "#c51b7d"
            ],
            [
             0.2,
             "#de77ae"
            ],
            [
             0.3,
             "#f1b6da"
            ],
            [
             0.4,
             "#fde0ef"
            ],
            [
             0.5,
             "#f7f7f7"
            ],
            [
             0.6,
             "#e6f5d0"
            ],
            [
             0.7,
             "#b8e186"
            ],
            [
             0.8,
             "#7fbc41"
            ],
            [
             0.9,
             "#4d9221"
            ],
            [
             1,
             "#276419"
            ]
           ],
           "sequential": [
            [
             0,
             "#0d0887"
            ],
            [
             0.1111111111111111,
             "#46039f"
            ],
            [
             0.2222222222222222,
             "#7201a8"
            ],
            [
             0.3333333333333333,
             "#9c179e"
            ],
            [
             0.4444444444444444,
             "#bd3786"
            ],
            [
             0.5555555555555556,
             "#d8576b"
            ],
            [
             0.6666666666666666,
             "#ed7953"
            ],
            [
             0.7777777777777778,
             "#fb9f3a"
            ],
            [
             0.8888888888888888,
             "#fdca26"
            ],
            [
             1,
             "#f0f921"
            ]
           ],
           "sequentialminus": [
            [
             0,
             "#0d0887"
            ],
            [
             0.1111111111111111,
             "#46039f"
            ],
            [
             0.2222222222222222,
             "#7201a8"
            ],
            [
             0.3333333333333333,
             "#9c179e"
            ],
            [
             0.4444444444444444,
             "#bd3786"
            ],
            [
             0.5555555555555556,
             "#d8576b"
            ],
            [
             0.6666666666666666,
             "#ed7953"
            ],
            [
             0.7777777777777778,
             "#fb9f3a"
            ],
            [
             0.8888888888888888,
             "#fdca26"
            ],
            [
             1,
             "#f0f921"
            ]
           ]
          },
          "colorway": [
           "#636efa",
           "#EF553B",
           "#00cc96",
           "#ab63fa",
           "#FFA15A",
           "#19d3f3",
           "#FF6692",
           "#B6E880",
           "#FF97FF",
           "#FECB52"
          ],
          "font": {
           "color": "#2a3f5f"
          },
          "geo": {
           "bgcolor": "white",
           "lakecolor": "white",
           "landcolor": "white",
           "showlakes": true,
           "showland": true,
           "subunitcolor": "#C8D4E3"
          },
          "hoverlabel": {
           "align": "left"
          },
          "hovermode": "closest",
          "mapbox": {
           "style": "light"
          },
          "paper_bgcolor": "white",
          "plot_bgcolor": "white",
          "polar": {
           "angularaxis": {
            "gridcolor": "#EBF0F8",
            "linecolor": "#EBF0F8",
            "ticks": ""
           },
           "bgcolor": "white",
           "radialaxis": {
            "gridcolor": "#EBF0F8",
            "linecolor": "#EBF0F8",
            "ticks": ""
           }
          },
          "scene": {
           "xaxis": {
            "backgroundcolor": "white",
            "gridcolor": "#DFE8F3",
            "gridwidth": 2,
            "linecolor": "#EBF0F8",
            "showbackground": true,
            "ticks": "",
            "zerolinecolor": "#EBF0F8"
           },
           "yaxis": {
            "backgroundcolor": "white",
            "gridcolor": "#DFE8F3",
            "gridwidth": 2,
            "linecolor": "#EBF0F8",
            "showbackground": true,
            "ticks": "",
            "zerolinecolor": "#EBF0F8"
           },
           "zaxis": {
            "backgroundcolor": "white",
            "gridcolor": "#DFE8F3",
            "gridwidth": 2,
            "linecolor": "#EBF0F8",
            "showbackground": true,
            "ticks": "",
            "zerolinecolor": "#EBF0F8"
           }
          },
          "shapedefaults": {
           "line": {
            "color": "#2a3f5f"
           }
          },
          "ternary": {
           "aaxis": {
            "gridcolor": "#DFE8F3",
            "linecolor": "#A2B1C6",
            "ticks": ""
           },
           "baxis": {
            "gridcolor": "#DFE8F3",
            "linecolor": "#A2B1C6",
            "ticks": ""
           },
           "bgcolor": "white",
           "caxis": {
            "gridcolor": "#DFE8F3",
            "linecolor": "#A2B1C6",
            "ticks": ""
           }
          },
          "title": {
           "x": 0.05
          },
          "xaxis": {
           "automargin": true,
           "gridcolor": "#EBF0F8",
           "linecolor": "#EBF0F8",
           "ticks": "",
           "title": {
            "standoff": 15
           },
           "zerolinecolor": "#EBF0F8",
           "zerolinewidth": 2
          },
          "yaxis": {
           "automargin": true,
           "gridcolor": "#EBF0F8",
           "linecolor": "#EBF0F8",
           "ticks": "",
           "title": {
            "standoff": 15
           },
           "zerolinecolor": "#EBF0F8",
           "zerolinewidth": 2
          }
         }
        },
        "title": {
         "text": "Top Sectors by Average Market Cap"
        },
        "xaxis": {
         "anchor": "y",
         "autorange": true,
         "domain": [
          0,
          1
         ],
         "range": [
          0,
          192.45662526315792
         ],
         "title": {
          "text": "Average Market Cap"
         },
         "type": "linear"
        },
        "yaxis": {
         "anchor": "x",
         "autorange": true,
         "categoryorder": "total ascending",
         "domain": [
          0,
          1
         ],
         "range": [
          -0.5,
          18.5
         ],
         "title": {
          "text": "Sector"
         },
         "type": "category"
        }
       }
      },
      "image/png": "[encoded data removed]",
      "text/html": [
       "<div>                            <div id=\"ffa46e1b-0e25-4011-9cc2-2d3a49f03682\" class=\"plotly-graph-div\" style=\"height:525px; width:100%;\"></div>            <script type=\"text/javascript\">                require([\"plotly\"], function(Plotly) {                    window.PLOTLYENV=window.PLOTLYENV || {};                                    if (document.getElementById(\"ffa46e1b-0e25-4011-9cc2-2d3a49f03682\")) {                    Plotly.newPlot(                        \"ffa46e1b-0e25-4011-9cc2-2d3a49f03682\",                        [{\"alignmentgroup\":\"True\",\"hovertemplate\":\"Average Market Cap=%{x}\\u003cbr\\u003esector=%{y}\\u003cbr\\u003ecolor=%{marker.color}\\u003cextra\\u003e\\u003c\\u002fextra\\u003e\",\"legendgroup\":\"\",\"marker\":{\"color\":[182.833794,135.15815652173913,133.3655,131.90574897959183,97.29381538461539,87.7810375,84.33247446808511,78.81796666666666,77.46930833333333,66.14497741935483,51.6197054347826,47.74935517241379,44.89816666666667,44.283080000000005,43.40829354838709,33.48618888888889,32.03930833333333,30.688267741935483,29.478385714285714],\"coloraxis\":\"coloraxis\",\"pattern\":{\"shape\":\"\"}},\"name\":\"\",\"offsetgroup\":\"\",\"orientation\":\"h\",\"showlegend\":false,\"textposition\":\"auto\",\"x\":[182.833794,135.15815652173913,133.3655,131.90574897959183,97.29381538461539,87.7810375,84.33247446808511,78.81796666666666,77.46930833333333,66.14497741935483,51.6197054347826,47.74935517241379,44.89816666666667,44.283080000000005,43.40829354838709,33.48618888888889,32.03930833333333,30.688267741935483,29.478385714285714],\"xaxis\":\"x\",\"y\":[\"Technology Services\",\"Retail Trade\",\"Communications\",\"Electronic Technology\",\"Commercial Services\",\"Energy Minerals\",\"Health Technology\",\"Consumer Durables\",\"Health Services\",\"Consumer Non-Durables\",\"Finance\",\"Consumer Services\",\"Industrial Services\",\"Transportation\",\"Producer Manufacturing\",\"Distribution Services\",\"Process Industries\",\"Utilities\",\"Non-Energy Minerals\"],\"yaxis\":\"y\",\"type\":\"bar\"}],                        {\"template\":{\"data\":{\"barpolar\":[{\"marker\":{\"line\":{\"color\":\"white\",\"width\":0.5},\"pattern\":{\"fillmode\":\"overlay\",\"size\":10,\"solidity\":0.2}},\"type\":\"barpolar\"}],\"bar\":[{\"error_x\":{\"color\":\"#2a3f5f\"},\"error_y\":{\"color\":\"#2a3f5f\"},\"marker\":{\"line\":{\"color\":\"white\",\"width\":0.5},\"pattern\":{\"fillmode\":\"overlay\",\"size\":10,\"solidity\":0.2}},\"type\":\"bar\"}],\"carpet\":[{\"aaxis\":{\"endlinecolor\":\"#2a3f5f\",\"gridcolor\":\"#C8D4E3\",\"linecolor\":\"#C8D4E3\",\"minorgridcolor\":\"#C8D4E3\",\"startlinecolor\":\"#2a3f5f\"},\"baxis\":{\"endlinecolor\":\"#2a3f5f\",\"gridcolor\":\"#C8D4E3\",\"linecolor\":\"#C8D4E3\",\"minorgridcolor\":\"#C8D4E3\",\"startlinecolor\":\"#2a3f5f\"},\"type\":\"carpet\"}],\"choropleth\":[{\"colorbar\":{\"outlinewidth\":0,\"ticks\":\"\"},\"type\":\"choropleth\"}],\"contourcarpet\":[{\"colorbar\":{\"outlinewidth\":0,\"ticks\":\"\"},\"type\":\"contourcarpet\"}],\"contour\":[{\"colorbar\":{\"outlinewidth\":0,\"ticks\":\"\"},\"colorscale\":[[0.0,\"#0d0887\"],[0.1111111111111111,\"#46039f\"],[0.2222222222222222,\"#7201a8\"],[0.3333333333333333,\"#9c179e\"],[0.4444444444444444,\"#bd3786\"],[0.5555555555555556,\"#d8576b\"],[0.6666666666666666,\"#ed7953\"],[0.7777777777777778,\"#fb9f3a\"],[0.8888888888888888,\"#fdca26\"],[1.0,\"#f0f921\"]],\"type\":\"contour\"}],\"heatmapgl\":[{\"colorbar\":{\"outlinewidth\":0,\"ticks\":\"\"},\"colorscale\":[[0.0,\"#0d0887\"],[0.1111111111111111,\"#46039f\"],[0.2222222222222222,\"#7201a8\"],[0.3333333333333333,\"#9c179e\"],[0.4444444444444444,\"#bd3786\"],[0.5555555555555556,\"#d8576b\"],[0.6666666666666666,\"#ed7953\"],[0.7777777777777778,\"#fb9f3a\"],[0.8888888888888888,\"#fdca26\"],[1.0,\"#f0f921\"]],\"type\":\"heatmapgl\"}],\"heatmap\":[{\"colorbar\":{\"outlinewidth\":0,\"ticks\":\"\"},\"colorscale\":[[0.0,\"#0d0887\"],[0.1111111111111111,\"#46039f\"],[0.2222222222222222,\"#7201a8\"],[0.3333333333333333,\"#9c179e\"],[0.4444444444444444,\"#bd3786\"],[0.5555555555555556,\"#d8576b\"],[0.6666666666666666,\"#ed7953\"],[0.7777777777777778,\"#fb9f3a\"],[0.8888888888888888,\"#fdca26\"],[1.0,\"#f0f921\"]],\"type\":\"heatmap\"}],\"histogram2dcontour\":[{\"colorbar\":{\"outlinewidth\":0,\"ticks\":\"\"},\"colorscale\":[[0.0,\"#0d0887\"],[0.1111111111111111,\"#46039f\"],[0.2222222222222222,\"#7201a8\"],[0.3333333333333333,\"#9c179e\"],[0.4444444444444444,\"#bd3786\"],[0.5555555555555556,\"#d8576b\"],[0.6666666666666666,\"#ed7953\"],[0.7777777777777778,\"#fb9f3a\"],[0.8888888888888888,\"#fdca26\"],[1.0,\"#f0f921\"]],\"type\":\"histogram2dcontour\"}],\"histogram2d\":[{\"colorbar\":{\"outlinewidth\":0,\"ticks\":\"\"},\"colorscale\":[[0.0,\"#0d0887\"],[0.1111111111111111,\"#46039f\"],[0.2222222222222222,\"#7201a8\"],[0.3333333333333333,\"#9c179e\"],[0.4444444444444444,\"#bd3786\"],[0.5555555555555556,\"#d8576b\"],[0.6666666666666666,\"#ed7953\"],[0.7777777777777778,\"#fb9f3a\"],[0.8888888888888888,\"#fdca26\"],[1.0,\"#f0f921\"]],\"type\":\"histogram2d\"}],\"histogram\":[{\"marker\":{\"pattern\":{\"fillmode\":\"overlay\",\"size\":10,\"solidity\":0.2}},\"type\":\"histogram\"}],\"mesh3d\":[{\"colorbar\":{\"outlinewidth\":0,\"ticks\":\"\"},\"type\":\"mesh3d\"}],\"parcoords\":[{\"line\":{\"colorbar\":{\"outlinewidth\":0,\"ticks\":\"\"}},\"type\":\"parcoords\"}],\"pie\":[{\"automargin\":true,\"type\":\"pie\"}],\"scatter3d\":[{\"line\":{\"colorbar\":{\"outlinewidth\":0,\"ticks\":\"\"}},\"marker\":{\"colorbar\":{\"outlinewidth\":0,\"ticks\":\"\"}},\"type\":\"scatter3d\"}],\"scattercarpet\":[{\"marker\":{\"colorbar\":{\"outlinewidth\":0,\"ticks\":\"\"}},\"type\":\"scattercarpet\"}],\"scattergeo\":[{\"marker\":{\"colorbar\":{\"outlinewidth\":0,\"ticks\":\"\"}},\"type\":\"scattergeo\"}],\"scattergl\":[{\"marker\":{\"colorbar\":{\"outlinewidth\":0,\"ticks\":\"\"}},\"type\":\"scattergl\"}],\"scattermapbox\":[{\"marker\":{\"colorbar\":{\"outlinewidth\":0,\"ticks\":\"\"}},\"type\":\"scattermapbox\"}],\"scatterpolargl\":[{\"marker\":{\"colorbar\":{\"outlinewidth\":0,\"ticks\":\"\"}},\"type\":\"scatterpolargl\"}],\"scatterpolar\":[{\"marker\":{\"colorbar\":{\"outlinewidth\":0,\"ticks\":\"\"}},\"type\":\"scatterpolar\"}],\"scatter\":[{\"fillpattern\":{\"fillmode\":\"overlay\",\"size\":10,\"solidity\":0.2},\"type\":\"scatter\"}],\"scatterternary\":[{\"marker\":{\"colorbar\":{\"outlinewidth\":0,\"ticks\":\"\"}},\"type\":\"scatterternary\"}],\"surface\":[{\"colorbar\":{\"outlinewidth\":0,\"ticks\":\"\"},\"colorscale\":[[0.0,\"#0d0887\"],[0.1111111111111111,\"#46039f\"],[0.2222222222222222,\"#7201a8\"],[0.3333333333333333,\"#9c179e\"],[0.4444444444444444,\"#bd3786\"],[0.5555555555555556,\"#d8576b\"],[0.6666666666666666,\"#ed7953\"],[0.7777777777777778,\"#fb9f3a\"],[0.8888888888888888,\"#fdca26\"],[1.0,\"#f0f921\"]],\"type\":\"surface\"}],\"table\":[{\"cells\":{\"fill\":{\"color\":\"#EBF0F8\"},\"line\":{\"color\":\"white\"}},\"header\":{\"fill\":{\"color\":\"#C8D4E3\"},\"line\":{\"color\":\"white\"}},\"type\":\"table\"}]},\"layout\":{\"annotationdefaults\":{\"arrowcolor\":\"#2a3f5f\",\"arrowhead\":0,\"arrowwidth\":1},\"autotypenumbers\":\"strict\",\"coloraxis\":{\"colorbar\":{\"outlinewidth\":0,\"ticks\":\"\"}},\"colorscale\":{\"diverging\":[[0,\"#8e0152\"],[0.1,\"#c51b7d\"],[0.2,\"#de77ae\"],[0.3,\"#f1b6da\"],[0.4,\"#fde0ef\"],[0.5,\"#f7f7f7\"],[0.6,\"#e6f5d0\"],[0.7,\"#b8e186\"],[0.8,\"#7fbc41\"],[0.9,\"#4d9221\"],[1,\"#276419\"]],\"sequential\":[[0.0,\"#0d0887\"],[0.1111111111111111,\"#46039f\"],[0.2222222222222222,\"#7201a8\"],[0.3333333333333333,\"#9c179e\"],[0.4444444444444444,\"#bd3786\"],[0.5555555555555556,\"#d8576b\"],[0.6666666666666666,\"#ed7953\"],[0.7777777777777778,\"#fb9f3a\"],[0.8888888888888888,\"#fdca26\"],[1.0,\"#f0f921\"]],\"sequentialminus\":[[0.0,\"#0d0887\"],[0.1111111111111111,\"#46039f\"],[0.2222222222222222,\"#7201a8\"],[0.3333333333333333,\"#9c179e\"],[0.4444444444444444,\"#bd3786\"],[0.5555555555555556,\"#d8576b\"],[0.6666666666666666,\"#ed7953\"],[0.7777777777777778,\"#fb9f3a\"],[0.8888888888888888,\"#fdca26\"],[1.0,\"#f0f921\"]]},\"colorway\":[\"#636efa\",\"#EF553B\",\"#00cc96\",\"#ab63fa\",\"#FFA15A\",\"#19d3f3\",\"#FF6692\",\"#B6E880\",\"#FF97FF\",\"#FECB52\"],\"font\":{\"color\":\"#2a3f5f\"},\"geo\":{\"bgcolor\":\"white\",\"lakecolor\":\"white\",\"landcolor\":\"white\",\"showlakes\":true,\"showland\":true,\"subunitcolor\":\"#C8D4E3\"},\"hoverlabel\":{\"align\":\"left\"},\"hovermode\":\"closest\",\"mapbox\":{\"style\":\"light\"},\"paper_bgcolor\":\"white\",\"plot_bgcolor\":\"white\",\"polar\":{\"angularaxis\":{\"gridcolor\":\"#EBF0F8\",\"linecolor\":\"#EBF0F8\",\"ticks\":\"\"},\"bgcolor\":\"white\",\"radialaxis\":{\"gridcolor\":\"#EBF0F8\",\"linecolor\":\"#EBF0F8\",\"ticks\":\"\"}},\"scene\":{\"xaxis\":{\"backgroundcolor\":\"white\",\"gridcolor\":\"#DFE8F3\",\"gridwidth\":2,\"linecolor\":\"#EBF0F8\",\"showbackground\":true,\"ticks\":\"\",\"zerolinecolor\":\"#EBF0F8\"},\"yaxis\":{\"backgroundcolor\":\"white\",\"gridcolor\":\"#DFE8F3\",\"gridwidth\":2,\"linecolor\":\"#EBF0F8\",\"showbackground\":true,\"ticks\":\"\",\"zerolinecolor\":\"#EBF0F8\"},\"zaxis\":{\"backgroundcolor\":\"white\",\"gridcolor\":\"#DFE8F3\",\"gridwidth\":2,\"linecolor\":\"#EBF0F8\",\"showbackground\":true,\"ticks\":\"\",\"zerolinecolor\":\"#EBF0F8\"}},\"shapedefaults\":{\"line\":{\"color\":\"#2a3f5f\"}},\"ternary\":{\"aaxis\":{\"gridcolor\":\"#DFE8F3\",\"linecolor\":\"#A2B1C6\",\"ticks\":\"\"},\"baxis\":{\"gridcolor\":\"#DFE8F3\",\"linecolor\":\"#A2B1C6\",\"ticks\":\"\"},\"bgcolor\":\"white\",\"caxis\":{\"gridcolor\":\"#DFE8F3\",\"linecolor\":\"#A2B1C6\",\"ticks\":\"\"}},\"title\":{\"x\":0.05},\"xaxis\":{\"automargin\":true,\"gridcolor\":\"#EBF0F8\",\"linecolor\":\"#EBF0F8\",\"ticks\":\"\",\"title\":{\"standoff\":15},\"zerolinecolor\":\"#EBF0F8\",\"zerolinewidth\":2},\"yaxis\":{\"automargin\":true,\"gridcolor\":\"#EBF0F8\",\"linecolor\":\"#EBF0F8\",\"ticks\":\"\",\"title\":{\"standoff\":15},\"zerolinecolor\":\"#EBF0F8\",\"zerolinewidth\":2}}},\"xaxis\":{\"anchor\":\"y\",\"domain\":[0.0,1.0],\"title\":{\"text\":\"Average Market Cap\"}},\"yaxis\":{\"anchor\":\"x\",\"domain\":[0.0,1.0],\"title\":{\"text\":\"Sector\"},\"categoryorder\":\"total ascending\"},\"coloraxis\":{\"colorbar\":{\"title\":{\"text\":\"color\"}},\"colorscale\":[[0.0,\"#440154\"],[0.1111111111111111,\"#482878\"],[0.2222222222222222,\"#3e4989\"],[0.3333333333333333,\"#31688e\"],[0.4444444444444444,\"#26828e\"],[0.5555555555555556,\"#1f9e89\"],[0.6666666666666666,\"#35b779\"],[0.7777777777777778,\"#6ece58\"],[0.8888888888888888,\"#b5de2b\"],[1.0,\"#fde725\"]]},\"legend\":{\"tracegroupgap\":0},\"margin\":{\"t\":60},\"barmode\":\"relative\",\"title\":{\"text\":\"Top Sectors by Average Market Cap\"}},                        {\"responsive\": true}                    ).then(function(){\n",
       "                            \n",
       "var gd = document.getElementById('ffa46e1b-0e25-4011-9cc2-2d3a49f03682');\n",
       "var x = new MutationObserver(function (mutations, observer) {{\n",
       "        var display = window.getComputedStyle(gd).display;\n",
       "        if (!display || display === 'none') {{\n",
       "            console.log([gd, 'removed!']);\n",
       "            Plotly.purge(gd);\n",
       "            observer.disconnect();\n",
       "        }}\n",
       "}});\n",
       "\n",
       "// Listen for the removal of the full notebook cells\n",
       "var notebookContainer = gd.closest('#notebook-container');\n",
       "if (notebookContainer) {{\n",
       "    x.observe(notebookContainer, {childList: true});\n",
       "}}\n",
       "\n",
       "// Listen for the clearing of the current output cell\n",
       "var outputEl = gd.closest('.output');\n",
       "if (outputEl) {{\n",
       "    x.observe(outputEl, {childList: true});\n",
       "}}\n",
       "\n",
       "                        })                };                });            </script>        </div>"
      ]
     },
     "metadata": {},
     "output_type": "display_data"
    }
   ],
   "source": [
    "# Plotting a horizontal bar chart of top sectors sorted by their average market capitalization. Horizontal in this case is more appealing.\n",
    "fig = px.bar(sector_market_caps,\n",
    "             orientation='h',\n",
    "             color=sector_market_caps.values,\n",
    "             color_continuous_scale=px.colors.sequential.Viridis,\n",
    "             labels={'value':'Average Market Cap', 'index':'Sector'})\n",
    "\n",
    "# Making the plot prettier and starting with the highest value at the top\n",
    "fig.update_layout(\n",
    "    title='Top Sectors by Average Market Cap',\n",
    "    yaxis={'categoryorder':'total ascending'},\n",
    "    xaxis_title='Average Market Cap',\n",
    "    yaxis_title='Sector',\n",
    "    template='plotly_white'\n",
    ")\n",
    "\n",
    "fig.show()"
   ]
  },
  {
   "cell_type": "code",
   "execution_count": 99,
   "id": "b5aafaf2-1084-460c-9942-cdd4ea88555c",
   "metadata": {
    "jupyter": {
     "source_hidden": true
    },
    "tags": []
   },
   "outputs": [
    {
     "data": {
      "application/vnd.plotly.v1+json": {
       "config": {
        "plotlyServerURL": "https://plot.ly"
       },
       "data": [
        {
         "alignmentgroup": "True",
         "hovertemplate": "sector=%{x}<br>Company Count=%{y}<br>color=%{marker.color}<extra></extra>",
         "legendgroup": "",
         "marker": {
          "color": [
           92,
           50,
           49,
           47,
           31,
           31,
           31,
           29,
           24,
           23
          ],
          "coloraxis": "coloraxis",
          "pattern": {
           "shape": ""
          }
         },
         "name": "",
         "offsetgroup": "",
         "orientation": "v",
         "showlegend": false,
         "textposition": "auto",
         "type": "bar",
         "x": [
          "Finance",
          "Technology Services",
          "Electronic Technology",
          "Health Technology",
          "Utilities",
          "Consumer Non-Durables",
          "Producer Manufacturing",
          "Consumer Services",
          "Process Industries",
          "Retail Trade"
         ],
         "xaxis": "x",
         "y": [
          92,
          50,
          49,
          47,
          31,
          31,
          31,
          29,
          24,
          23
         ],
         "yaxis": "y"
        }
       ],
       "layout": {
        "annotations": [
         {
          "font": {
           "color": "#01923F"
          },
          "showarrow": false,
          "text": "18.3%",
          "x": "Finance",
          "y": 92,
          "yshift": 10
         },
         {
          "font": {
           "color": "white"
          },
          "showarrow": false,
          "text": "92",
          "x": "Finance",
          "y": 46
         },
         {
          "font": {
           "color": "#01923F"
          },
          "showarrow": false,
          "text": "9.9%",
          "x": "Technology Services",
          "y": 50,
          "yshift": 10
         },
         {
          "font": {
           "color": "white"
          },
          "showarrow": false,
          "text": "50",
          "x": "Technology Services",
          "y": 25
         },
         {
          "font": {
           "color": "#01923F"
          },
          "showarrow": false,
          "text": "9.7%",
          "x": "Electronic Technology",
          "y": 49,
          "yshift": 10
         },
         {
          "font": {
           "color": "white"
          },
          "showarrow": false,
          "text": "49",
          "x": "Electronic Technology",
          "y": 24.5
         },
         {
          "font": {
           "color": "#01923F"
          },
          "showarrow": false,
          "text": "9.3%",
          "x": "Health Technology",
          "y": 47,
          "yshift": 10
         },
         {
          "font": {
           "color": "white"
          },
          "showarrow": false,
          "text": "47",
          "x": "Health Technology",
          "y": 23.5
         },
         {
          "font": {
           "color": "#01923F"
          },
          "showarrow": false,
          "text": "6.2%",
          "x": "Utilities",
          "y": 31,
          "yshift": 10
         },
         {
          "font": {
           "color": "white"
          },
          "showarrow": false,
          "text": "31",
          "x": "Utilities",
          "y": 15.5
         },
         {
          "font": {
           "color": "#01923F"
          },
          "showarrow": false,
          "text": "6.2%",
          "x": "Consumer Non-Durables",
          "y": 31,
          "yshift": 10
         },
         {
          "font": {
           "color": "white"
          },
          "showarrow": false,
          "text": "31",
          "x": "Consumer Non-Durables",
          "y": 15.5
         },
         {
          "font": {
           "color": "#01923F"
          },
          "showarrow": false,
          "text": "6.2%",
          "x": "Producer Manufacturing",
          "y": 31,
          "yshift": 10
         },
         {
          "font": {
           "color": "white"
          },
          "showarrow": false,
          "text": "31",
          "x": "Producer Manufacturing",
          "y": 15.5
         },
         {
          "font": {
           "color": "#01923F"
          },
          "showarrow": false,
          "text": "5.8%",
          "x": "Consumer Services",
          "y": 29,
          "yshift": 10
         },
         {
          "font": {
           "color": "white"
          },
          "showarrow": false,
          "text": "29",
          "x": "Consumer Services",
          "y": 14.5
         },
         {
          "font": {
           "color": "#01923F"
          },
          "showarrow": false,
          "text": "4.8%",
          "x": "Process Industries",
          "y": 24,
          "yshift": 10
         },
         {
          "font": {
           "color": "white"
          },
          "showarrow": false,
          "text": "24",
          "x": "Process Industries",
          "y": 12
         },
         {
          "font": {
           "color": "#01923F"
          },
          "showarrow": false,
          "text": "4.6%",
          "x": "Retail Trade",
          "y": 23,
          "yshift": 10
         },
         {
          "font": {
           "color": "white"
          },
          "showarrow": false,
          "text": "23",
          "x": "Retail Trade",
          "y": 11.5
         }
        ],
        "autosize": true,
        "barmode": "relative",
        "coloraxis": {
         "colorbar": {
          "title": {
           "text": "color"
          }
         },
         "colorscale": [
          [
           0,
           "#440154"
          ],
          [
           0.1111111111111111,
           "#482878"
          ],
          [
           0.2222222222222222,
           "#3e4989"
          ],
          [
           0.3333333333333333,
           "#31688e"
          ],
          [
           0.4444444444444444,
           "#26828e"
          ],
          [
           0.5555555555555556,
           "#1f9e89"
          ],
          [
           0.6666666666666666,
           "#35b779"
          ],
          [
           0.7777777777777778,
           "#6ece58"
          ],
          [
           0.8888888888888888,
           "#b5de2b"
          ],
          [
           1,
           "#fde725"
          ]
         ]
        },
        "legend": {
         "tracegroupgap": 0
        },
        "margin": {
         "t": 60
        },
        "template": {
         "data": {
          "bar": [
           {
            "error_x": {
             "color": "#2a3f5f"
            },
            "error_y": {
             "color": "#2a3f5f"
            },
            "marker": {
             "line": {
              "color": "white",
              "width": 0.5
             },
             "pattern": {
              "fillmode": "overlay",
              "size": 10,
              "solidity": 0.2
             }
            },
            "type": "bar"
           }
          ],
          "barpolar": [
           {
            "marker": {
             "line": {
              "color": "white",
              "width": 0.5
             },
             "pattern": {
              "fillmode": "overlay",
              "size": 10,
              "solidity": 0.2
             }
            },
            "type": "barpolar"
           }
          ],
          "carpet": [
           {
            "aaxis": {
             "endlinecolor": "#2a3f5f",
             "gridcolor": "#C8D4E3",
             "linecolor": "#C8D4E3",
             "minorgridcolor": "#C8D4E3",
             "startlinecolor": "#2a3f5f"
            },
            "baxis": {
             "endlinecolor": "#2a3f5f",
             "gridcolor": "#C8D4E3",
             "linecolor": "#C8D4E3",
             "minorgridcolor": "#C8D4E3",
             "startlinecolor": "#2a3f5f"
            },
            "type": "carpet"
           }
          ],
          "choropleth": [
           {
            "colorbar": {
             "outlinewidth": 0,
             "ticks": ""
            },
            "type": "choropleth"
           }
          ],
          "contour": [
           {
            "colorbar": {
             "outlinewidth": 0,
             "ticks": ""
            },
            "colorscale": [
             [
              0,
              "#0d0887"
             ],
             [
              0.1111111111111111,
              "#46039f"
             ],
             [
              0.2222222222222222,
              "#7201a8"
             ],
             [
              0.3333333333333333,
              "#9c179e"
             ],
             [
              0.4444444444444444,
              "#bd3786"
             ],
             [
              0.5555555555555556,
              "#d8576b"
             ],
             [
              0.6666666666666666,
              "#ed7953"
             ],
             [
              0.7777777777777778,
              "#fb9f3a"
             ],
             [
              0.8888888888888888,
              "#fdca26"
             ],
             [
              1,
              "#f0f921"
             ]
            ],
            "type": "contour"
           }
          ],
          "contourcarpet": [
           {
            "colorbar": {
             "outlinewidth": 0,
             "ticks": ""
            },
            "type": "contourcarpet"
           }
          ],
          "heatmap": [
           {
            "colorbar": {
             "outlinewidth": 0,
             "ticks": ""
            },
            "colorscale": [
             [
              0,
              "#0d0887"
             ],
             [
              0.1111111111111111,
              "#46039f"
             ],
             [
              0.2222222222222222,
              "#7201a8"
             ],
             [
              0.3333333333333333,
              "#9c179e"
             ],
             [
              0.4444444444444444,
              "#bd3786"
             ],
             [
              0.5555555555555556,
              "#d8576b"
             ],
             [
              0.6666666666666666,
              "#ed7953"
             ],
             [
              0.7777777777777778,
              "#fb9f3a"
             ],
             [
              0.8888888888888888,
              "#fdca26"
             ],
             [
              1,
              "#f0f921"
             ]
            ],
            "type": "heatmap"
           }
          ],
          "heatmapgl": [
           {
            "colorbar": {
             "outlinewidth": 0,
             "ticks": ""
            },
            "colorscale": [
             [
              0,
              "#0d0887"
             ],
             [
              0.1111111111111111,
              "#46039f"
             ],
             [
              0.2222222222222222,
              "#7201a8"
             ],
             [
              0.3333333333333333,
              "#9c179e"
             ],
             [
              0.4444444444444444,
              "#bd3786"
             ],
             [
              0.5555555555555556,
              "#d8576b"
             ],
             [
              0.6666666666666666,
              "#ed7953"
             ],
             [
              0.7777777777777778,
              "#fb9f3a"
             ],
             [
              0.8888888888888888,
              "#fdca26"
             ],
             [
              1,
              "#f0f921"
             ]
            ],
            "type": "heatmapgl"
           }
          ],
          "histogram": [
           {
            "marker": {
             "pattern": {
              "fillmode": "overlay",
              "size": 10,
              "solidity": 0.2
             }
            },
            "type": "histogram"
           }
          ],
          "histogram2d": [
           {
            "colorbar": {
             "outlinewidth": 0,
             "ticks": ""
            },
            "colorscale": [
             [
              0,
              "#0d0887"
             ],
             [
              0.1111111111111111,
              "#46039f"
             ],
             [
              0.2222222222222222,
              "#7201a8"
             ],
             [
              0.3333333333333333,
              "#9c179e"
             ],
             [
              0.4444444444444444,
              "#bd3786"
             ],
             [
              0.5555555555555556,
              "#d8576b"
             ],
             [
              0.6666666666666666,
              "#ed7953"
             ],
             [
              0.7777777777777778,
              "#fb9f3a"
             ],
             [
              0.8888888888888888,
              "#fdca26"
             ],
             [
              1,
              "#f0f921"
             ]
            ],
            "type": "histogram2d"
           }
          ],
          "histogram2dcontour": [
           {
            "colorbar": {
             "outlinewidth": 0,
             "ticks": ""
            },
            "colorscale": [
             [
              0,
              "#0d0887"
             ],
             [
              0.1111111111111111,
              "#46039f"
             ],
             [
              0.2222222222222222,
              "#7201a8"
             ],
             [
              0.3333333333333333,
              "#9c179e"
             ],
             [
              0.4444444444444444,
              "#bd3786"
             ],
             [
              0.5555555555555556,
              "#d8576b"
             ],
             [
              0.6666666666666666,
              "#ed7953"
             ],
             [
              0.7777777777777778,
              "#fb9f3a"
             ],
             [
              0.8888888888888888,
              "#fdca26"
             ],
             [
              1,
              "#f0f921"
             ]
            ],
            "type": "histogram2dcontour"
           }
          ],
          "mesh3d": [
           {
            "colorbar": {
             "outlinewidth": 0,
             "ticks": ""
            },
            "type": "mesh3d"
           }
          ],
          "parcoords": [
           {
            "line": {
             "colorbar": {
              "outlinewidth": 0,
              "ticks": ""
             }
            },
            "type": "parcoords"
           }
          ],
          "pie": [
           {
            "automargin": true,
            "type": "pie"
           }
          ],
          "scatter": [
           {
            "fillpattern": {
             "fillmode": "overlay",
             "size": 10,
             "solidity": 0.2
            },
            "type": "scatter"
           }
          ],
          "scatter3d": [
           {
            "line": {
             "colorbar": {
              "outlinewidth": 0,
              "ticks": ""
             }
            },
            "marker": {
             "colorbar": {
              "outlinewidth": 0,
              "ticks": ""
             }
            },
            "type": "scatter3d"
           }
          ],
          "scattercarpet": [
           {
            "marker": {
             "colorbar": {
              "outlinewidth": 0,
              "ticks": ""
             }
            },
            "type": "scattercarpet"
           }
          ],
          "scattergeo": [
           {
            "marker": {
             "colorbar": {
              "outlinewidth": 0,
              "ticks": ""
             }
            },
            "type": "scattergeo"
           }
          ],
          "scattergl": [
           {
            "marker": {
             "colorbar": {
              "outlinewidth": 0,
              "ticks": ""
             }
            },
            "type": "scattergl"
           }
          ],
          "scattermapbox": [
           {
            "marker": {
             "colorbar": {
              "outlinewidth": 0,
              "ticks": ""
             }
            },
            "type": "scattermapbox"
           }
          ],
          "scatterpolar": [
           {
            "marker": {
             "colorbar": {
              "outlinewidth": 0,
              "ticks": ""
             }
            },
            "type": "scatterpolar"
           }
          ],
          "scatterpolargl": [
           {
            "marker": {
             "colorbar": {
              "outlinewidth": 0,
              "ticks": ""
             }
            },
            "type": "scatterpolargl"
           }
          ],
          "scatterternary": [
           {
            "marker": {
             "colorbar": {
              "outlinewidth": 0,
              "ticks": ""
             }
            },
            "type": "scatterternary"
           }
          ],
          "surface": [
           {
            "colorbar": {
             "outlinewidth": 0,
             "ticks": ""
            },
            "colorscale": [
             [
              0,
              "#0d0887"
             ],
             [
              0.1111111111111111,
              "#46039f"
             ],
             [
              0.2222222222222222,
              "#7201a8"
             ],
             [
              0.3333333333333333,
              "#9c179e"
             ],
             [
              0.4444444444444444,
              "#bd3786"
             ],
             [
              0.5555555555555556,
              "#d8576b"
             ],
             [
              0.6666666666666666,
              "#ed7953"
             ],
             [
              0.7777777777777778,
              "#fb9f3a"
             ],
             [
              0.8888888888888888,
              "#fdca26"
             ],
             [
              1,
              "#f0f921"
             ]
            ],
            "type": "surface"
           }
          ],
          "table": [
           {
            "cells": {
             "fill": {
              "color": "#EBF0F8"
             },
             "line": {
              "color": "white"
             }
            },
            "header": {
             "fill": {
              "color": "#C8D4E3"
             },
             "line": {
              "color": "white"
             }
            },
            "type": "table"
           }
          ]
         },
         "layout": {
          "annotationdefaults": {
           "arrowcolor": "#2a3f5f",
           "arrowhead": 0,
           "arrowwidth": 1
          },
          "autotypenumbers": "strict",
          "coloraxis": {
           "colorbar": {
            "outlinewidth": 0,
            "ticks": ""
           }
          },
          "colorscale": {
           "diverging": [
            [
             0,
             "#8e0152"
            ],
            [
             0.1,
             "#c51b7d"
            ],
            [
             0.2,
             "#de77ae"
            ],
            [
             0.3,
             "#f1b6da"
            ],
            [
             0.4,
             "#fde0ef"
            ],
            [
             0.5,
             "#f7f7f7"
            ],
            [
             0.6,
             "#e6f5d0"
            ],
            [
             0.7,
             "#b8e186"
            ],
            [
             0.8,
             "#7fbc41"
            ],
            [
             0.9,
             "#4d9221"
            ],
            [
             1,
             "#276419"
            ]
           ],
           "sequential": [
            [
             0,
             "#0d0887"
            ],
            [
             0.1111111111111111,
             "#46039f"
            ],
            [
             0.2222222222222222,
             "#7201a8"
            ],
            [
             0.3333333333333333,
             "#9c179e"
            ],
            [
             0.4444444444444444,
             "#bd3786"
            ],
            [
             0.5555555555555556,
             "#d8576b"
            ],
            [
             0.6666666666666666,
             "#ed7953"
            ],
            [
             0.7777777777777778,
             "#fb9f3a"
            ],
            [
             0.8888888888888888,
             "#fdca26"
            ],
            [
             1,
             "#f0f921"
            ]
           ],
           "sequentialminus": [
            [
             0,
             "#0d0887"
            ],
            [
             0.1111111111111111,
             "#46039f"
            ],
            [
             0.2222222222222222,
             "#7201a8"
            ],
            [
             0.3333333333333333,
             "#9c179e"
            ],
            [
             0.4444444444444444,
             "#bd3786"
            ],
            [
             0.5555555555555556,
             "#d8576b"
            ],
            [
             0.6666666666666666,
             "#ed7953"
            ],
            [
             0.7777777777777778,
             "#fb9f3a"
            ],
            [
             0.8888888888888888,
             "#fdca26"
            ],
            [
             1,
             "#f0f921"
            ]
           ]
          },
          "colorway": [
           "#636efa",
           "#EF553B",
           "#00cc96",
           "#ab63fa",
           "#FFA15A",
           "#19d3f3",
           "#FF6692",
           "#B6E880",
           "#FF97FF",
           "#FECB52"
          ],
          "font": {
           "color": "#2a3f5f"
          },
          "geo": {
           "bgcolor": "white",
           "lakecolor": "white",
           "landcolor": "white",
           "showlakes": true,
           "showland": true,
           "subunitcolor": "#C8D4E3"
          },
          "hoverlabel": {
           "align": "left"
          },
          "hovermode": "closest",
          "mapbox": {
           "style": "light"
          },
          "paper_bgcolor": "white",
          "plot_bgcolor": "white",
          "polar": {
           "angularaxis": {
            "gridcolor": "#EBF0F8",
            "linecolor": "#EBF0F8",
            "ticks": ""
           },
           "bgcolor": "white",
           "radialaxis": {
            "gridcolor": "#EBF0F8",
            "linecolor": "#EBF0F8",
            "ticks": ""
           }
          },
          "scene": {
           "xaxis": {
            "backgroundcolor": "white",
            "gridcolor": "#DFE8F3",
            "gridwidth": 2,
            "linecolor": "#EBF0F8",
            "showbackground": true,
            "ticks": "",
            "zerolinecolor": "#EBF0F8"
           },
           "yaxis": {
            "backgroundcolor": "white",
            "gridcolor": "#DFE8F3",
            "gridwidth": 2,
            "linecolor": "#EBF0F8",
            "showbackground": true,
            "ticks": "",
            "zerolinecolor": "#EBF0F8"
           },
           "zaxis": {
            "backgroundcolor": "white",
            "gridcolor": "#DFE8F3",
            "gridwidth": 2,
            "linecolor": "#EBF0F8",
            "showbackground": true,
            "ticks": "",
            "zerolinecolor": "#EBF0F8"
           }
          },
          "shapedefaults": {
           "line": {
            "color": "#2a3f5f"
           }
          },
          "ternary": {
           "aaxis": {
            "gridcolor": "#DFE8F3",
            "linecolor": "#A2B1C6",
            "ticks": ""
           },
           "baxis": {
            "gridcolor": "#DFE8F3",
            "linecolor": "#A2B1C6",
            "ticks": ""
           },
           "bgcolor": "white",
           "caxis": {
            "gridcolor": "#DFE8F3",
            "linecolor": "#A2B1C6",
            "ticks": ""
           }
          },
          "title": {
           "x": 0.05
          },
          "xaxis": {
           "automargin": true,
           "gridcolor": "#EBF0F8",
           "linecolor": "#EBF0F8",
           "ticks": "",
           "title": {
            "standoff": 15
           },
           "zerolinecolor": "#EBF0F8",
           "zerolinewidth": 2
          },
          "yaxis": {
           "automargin": true,
           "gridcolor": "#EBF0F8",
           "linecolor": "#EBF0F8",
           "ticks": "",
           "title": {
            "standoff": 15
           },
           "zerolinecolor": "#EBF0F8",
           "zerolinewidth": 2
          }
         }
        },
        "title": {
         "text": "Top Sectors by Company Count"
        },
        "xaxis": {
         "anchor": "y",
         "autorange": true,
         "domain": [
          0,
          1
         ],
         "range": [
          -0.5,
          9.5
         ],
         "title": {
          "text": "Sector"
         },
         "type": "category"
        },
        "yaxis": {
         "anchor": "x",
         "autorange": true,
         "categoryorder": "total ascending",
         "domain": [
          0,
          1
         ],
         "range": [
          0,
          103.53697749196141
         ],
         "title": {
          "text": "Count"
         },
         "type": "linear"
        }
       }
      },
      "image/png": "[encoded data removed]",
      "text/html": [
       "<div>                            <div id=\"276200a1-17be-4c71-bdfe-03696738a2a4\" class=\"plotly-graph-div\" style=\"height:525px; width:100%;\"></div>            <script type=\"text/javascript\">                require([\"plotly\"], function(Plotly) {                    window.PLOTLYENV=window.PLOTLYENV || {};                                    if (document.getElementById(\"276200a1-17be-4c71-bdfe-03696738a2a4\")) {                    Plotly.newPlot(                        \"276200a1-17be-4c71-bdfe-03696738a2a4\",                        [{\"alignmentgroup\":\"True\",\"hovertemplate\":\"sector=%{x}\\u003cbr\\u003eCompany Count=%{y}\\u003cbr\\u003ecolor=%{marker.color}\\u003cextra\\u003e\\u003c\\u002fextra\\u003e\",\"legendgroup\":\"\",\"marker\":{\"color\":[92,50,49,47,31,31,31,29,24,23],\"coloraxis\":\"coloraxis\",\"pattern\":{\"shape\":\"\"}},\"name\":\"\",\"offsetgroup\":\"\",\"orientation\":\"v\",\"showlegend\":false,\"textposition\":\"auto\",\"x\":[\"Finance\",\"Technology Services\",\"Electronic Technology\",\"Health Technology\",\"Utilities\",\"Consumer Non-Durables\",\"Producer Manufacturing\",\"Consumer Services\",\"Process Industries\",\"Retail Trade\"],\"xaxis\":\"x\",\"y\":[92,50,49,47,31,31,31,29,24,23],\"yaxis\":\"y\",\"type\":\"bar\"}],                        {\"template\":{\"data\":{\"barpolar\":[{\"marker\":{\"line\":{\"color\":\"white\",\"width\":0.5},\"pattern\":{\"fillmode\":\"overlay\",\"size\":10,\"solidity\":0.2}},\"type\":\"barpolar\"}],\"bar\":[{\"error_x\":{\"color\":\"#2a3f5f\"},\"error_y\":{\"color\":\"#2a3f5f\"},\"marker\":{\"line\":{\"color\":\"white\",\"width\":0.5},\"pattern\":{\"fillmode\":\"overlay\",\"size\":10,\"solidity\":0.2}},\"type\":\"bar\"}],\"carpet\":[{\"aaxis\":{\"endlinecolor\":\"#2a3f5f\",\"gridcolor\":\"#C8D4E3\",\"linecolor\":\"#C8D4E3\",\"minorgridcolor\":\"#C8D4E3\",\"startlinecolor\":\"#2a3f5f\"},\"baxis\":{\"endlinecolor\":\"#2a3f5f\",\"gridcolor\":\"#C8D4E3\",\"linecolor\":\"#C8D4E3\",\"minorgridcolor\":\"#C8D4E3\",\"startlinecolor\":\"#2a3f5f\"},\"type\":\"carpet\"}],\"choropleth\":[{\"colorbar\":{\"outlinewidth\":0,\"ticks\":\"\"},\"type\":\"choropleth\"}],\"contourcarpet\":[{\"colorbar\":{\"outlinewidth\":0,\"ticks\":\"\"},\"type\":\"contourcarpet\"}],\"contour\":[{\"colorbar\":{\"outlinewidth\":0,\"ticks\":\"\"},\"colorscale\":[[0.0,\"#0d0887\"],[0.1111111111111111,\"#46039f\"],[0.2222222222222222,\"#7201a8\"],[0.3333333333333333,\"#9c179e\"],[0.4444444444444444,\"#bd3786\"],[0.5555555555555556,\"#d8576b\"],[0.6666666666666666,\"#ed7953\"],[0.7777777777777778,\"#fb9f3a\"],[0.8888888888888888,\"#fdca26\"],[1.0,\"#f0f921\"]],\"type\":\"contour\"}],\"heatmapgl\":[{\"colorbar\":{\"outlinewidth\":0,\"ticks\":\"\"},\"colorscale\":[[0.0,\"#0d0887\"],[0.1111111111111111,\"#46039f\"],[0.2222222222222222,\"#7201a8\"],[0.3333333333333333,\"#9c179e\"],[0.4444444444444444,\"#bd3786\"],[0.5555555555555556,\"#d8576b\"],[0.6666666666666666,\"#ed7953\"],[0.7777777777777778,\"#fb9f3a\"],[0.8888888888888888,\"#fdca26\"],[1.0,\"#f0f921\"]],\"type\":\"heatmapgl\"}],\"heatmap\":[{\"colorbar\":{\"outlinewidth\":0,\"ticks\":\"\"},\"colorscale\":[[0.0,\"#0d0887\"],[0.1111111111111111,\"#46039f\"],[0.2222222222222222,\"#7201a8\"],[0.3333333333333333,\"#9c179e\"],[0.4444444444444444,\"#bd3786\"],[0.5555555555555556,\"#d8576b\"],[0.6666666666666666,\"#ed7953\"],[0.7777777777777778,\"#fb9f3a\"],[0.8888888888888888,\"#fdca26\"],[1.0,\"#f0f921\"]],\"type\":\"heatmap\"}],\"histogram2dcontour\":[{\"colorbar\":{\"outlinewidth\":0,\"ticks\":\"\"},\"colorscale\":[[0.0,\"#0d0887\"],[0.1111111111111111,\"#46039f\"],[0.2222222222222222,\"#7201a8\"],[0.3333333333333333,\"#9c179e\"],[0.4444444444444444,\"#bd3786\"],[0.5555555555555556,\"#d8576b\"],[0.6666666666666666,\"#ed7953\"],[0.7777777777777778,\"#fb9f3a\"],[0.8888888888888888,\"#fdca26\"],[1.0,\"#f0f921\"]],\"type\":\"histogram2dcontour\"}],\"histogram2d\":[{\"colorbar\":{\"outlinewidth\":0,\"ticks\":\"\"},\"colorscale\":[[0.0,\"#0d0887\"],[0.1111111111111111,\"#46039f\"],[0.2222222222222222,\"#7201a8\"],[0.3333333333333333,\"#9c179e\"],[0.4444444444444444,\"#bd3786\"],[0.5555555555555556,\"#d8576b\"],[0.6666666666666666,\"#ed7953\"],[0.7777777777777778,\"#fb9f3a\"],[0.8888888888888888,\"#fdca26\"],[1.0,\"#f0f921\"]],\"type\":\"histogram2d\"}],\"histogram\":[{\"marker\":{\"pattern\":{\"fillmode\":\"overlay\",\"size\":10,\"solidity\":0.2}},\"type\":\"histogram\"}],\"mesh3d\":[{\"colorbar\":{\"outlinewidth\":0,\"ticks\":\"\"},\"type\":\"mesh3d\"}],\"parcoords\":[{\"line\":{\"colorbar\":{\"outlinewidth\":0,\"ticks\":\"\"}},\"type\":\"parcoords\"}],\"pie\":[{\"automargin\":true,\"type\":\"pie\"}],\"scatter3d\":[{\"line\":{\"colorbar\":{\"outlinewidth\":0,\"ticks\":\"\"}},\"marker\":{\"colorbar\":{\"outlinewidth\":0,\"ticks\":\"\"}},\"type\":\"scatter3d\"}],\"scattercarpet\":[{\"marker\":{\"colorbar\":{\"outlinewidth\":0,\"ticks\":\"\"}},\"type\":\"scattercarpet\"}],\"scattergeo\":[{\"marker\":{\"colorbar\":{\"outlinewidth\":0,\"ticks\":\"\"}},\"type\":\"scattergeo\"}],\"scattergl\":[{\"marker\":{\"colorbar\":{\"outlinewidth\":0,\"ticks\":\"\"}},\"type\":\"scattergl\"}],\"scattermapbox\":[{\"marker\":{\"colorbar\":{\"outlinewidth\":0,\"ticks\":\"\"}},\"type\":\"scattermapbox\"}],\"scatterpolargl\":[{\"marker\":{\"colorbar\":{\"outlinewidth\":0,\"ticks\":\"\"}},\"type\":\"scatterpolargl\"}],\"scatterpolar\":[{\"marker\":{\"colorbar\":{\"outlinewidth\":0,\"ticks\":\"\"}},\"type\":\"scatterpolar\"}],\"scatter\":[{\"fillpattern\":{\"fillmode\":\"overlay\",\"size\":10,\"solidity\":0.2},\"type\":\"scatter\"}],\"scatterternary\":[{\"marker\":{\"colorbar\":{\"outlinewidth\":0,\"ticks\":\"\"}},\"type\":\"scatterternary\"}],\"surface\":[{\"colorbar\":{\"outlinewidth\":0,\"ticks\":\"\"},\"colorscale\":[[0.0,\"#0d0887\"],[0.1111111111111111,\"#46039f\"],[0.2222222222222222,\"#7201a8\"],[0.3333333333333333,\"#9c179e\"],[0.4444444444444444,\"#bd3786\"],[0.5555555555555556,\"#d8576b\"],[0.6666666666666666,\"#ed7953\"],[0.7777777777777778,\"#fb9f3a\"],[0.8888888888888888,\"#fdca26\"],[1.0,\"#f0f921\"]],\"type\":\"surface\"}],\"table\":[{\"cells\":{\"fill\":{\"color\":\"#EBF0F8\"},\"line\":{\"color\":\"white\"}},\"header\":{\"fill\":{\"color\":\"#C8D4E3\"},\"line\":{\"color\":\"white\"}},\"type\":\"table\"}]},\"layout\":{\"annotationdefaults\":{\"arrowcolor\":\"#2a3f5f\",\"arrowhead\":0,\"arrowwidth\":1},\"autotypenumbers\":\"strict\",\"coloraxis\":{\"colorbar\":{\"outlinewidth\":0,\"ticks\":\"\"}},\"colorscale\":{\"diverging\":[[0,\"#8e0152\"],[0.1,\"#c51b7d\"],[0.2,\"#de77ae\"],[0.3,\"#f1b6da\"],[0.4,\"#fde0ef\"],[0.5,\"#f7f7f7\"],[0.6,\"#e6f5d0\"],[0.7,\"#b8e186\"],[0.8,\"#7fbc41\"],[0.9,\"#4d9221\"],[1,\"#276419\"]],\"sequential\":[[0.0,\"#0d0887\"],[0.1111111111111111,\"#46039f\"],[0.2222222222222222,\"#7201a8\"],[0.3333333333333333,\"#9c179e\"],[0.4444444444444444,\"#bd3786\"],[0.5555555555555556,\"#d8576b\"],[0.6666666666666666,\"#ed7953\"],[0.7777777777777778,\"#fb9f3a\"],[0.8888888888888888,\"#fdca26\"],[1.0,\"#f0f921\"]],\"sequentialminus\":[[0.0,\"#0d0887\"],[0.1111111111111111,\"#46039f\"],[0.2222222222222222,\"#7201a8\"],[0.3333333333333333,\"#9c179e\"],[0.4444444444444444,\"#bd3786\"],[0.5555555555555556,\"#d8576b\"],[0.6666666666666666,\"#ed7953\"],[0.7777777777777778,\"#fb9f3a\"],[0.8888888888888888,\"#fdca26\"],[1.0,\"#f0f921\"]]},\"colorway\":[\"#636efa\",\"#EF553B\",\"#00cc96\",\"#ab63fa\",\"#FFA15A\",\"#19d3f3\",\"#FF6692\",\"#B6E880\",\"#FF97FF\",\"#FECB52\"],\"font\":{\"color\":\"#2a3f5f\"},\"geo\":{\"bgcolor\":\"white\",\"lakecolor\":\"white\",\"landcolor\":\"white\",\"showlakes\":true,\"showland\":true,\"subunitcolor\":\"#C8D4E3\"},\"hoverlabel\":{\"align\":\"left\"},\"hovermode\":\"closest\",\"mapbox\":{\"style\":\"light\"},\"paper_bgcolor\":\"white\",\"plot_bgcolor\":\"white\",\"polar\":{\"angularaxis\":{\"gridcolor\":\"#EBF0F8\",\"linecolor\":\"#EBF0F8\",\"ticks\":\"\"},\"bgcolor\":\"white\",\"radialaxis\":{\"gridcolor\":\"#EBF0F8\",\"linecolor\":\"#EBF0F8\",\"ticks\":\"\"}},\"scene\":{\"xaxis\":{\"backgroundcolor\":\"white\",\"gridcolor\":\"#DFE8F3\",\"gridwidth\":2,\"linecolor\":\"#EBF0F8\",\"showbackground\":true,\"ticks\":\"\",\"zerolinecolor\":\"#EBF0F8\"},\"yaxis\":{\"backgroundcolor\":\"white\",\"gridcolor\":\"#DFE8F3\",\"gridwidth\":2,\"linecolor\":\"#EBF0F8\",\"showbackground\":true,\"ticks\":\"\",\"zerolinecolor\":\"#EBF0F8\"},\"zaxis\":{\"backgroundcolor\":\"white\",\"gridcolor\":\"#DFE8F3\",\"gridwidth\":2,\"linecolor\":\"#EBF0F8\",\"showbackground\":true,\"ticks\":\"\",\"zerolinecolor\":\"#EBF0F8\"}},\"shapedefaults\":{\"line\":{\"color\":\"#2a3f5f\"}},\"ternary\":{\"aaxis\":{\"gridcolor\":\"#DFE8F3\",\"linecolor\":\"#A2B1C6\",\"ticks\":\"\"},\"baxis\":{\"gridcolor\":\"#DFE8F3\",\"linecolor\":\"#A2B1C6\",\"ticks\":\"\"},\"bgcolor\":\"white\",\"caxis\":{\"gridcolor\":\"#DFE8F3\",\"linecolor\":\"#A2B1C6\",\"ticks\":\"\"}},\"title\":{\"x\":0.05},\"xaxis\":{\"automargin\":true,\"gridcolor\":\"#EBF0F8\",\"linecolor\":\"#EBF0F8\",\"ticks\":\"\",\"title\":{\"standoff\":15},\"zerolinecolor\":\"#EBF0F8\",\"zerolinewidth\":2},\"yaxis\":{\"automargin\":true,\"gridcolor\":\"#EBF0F8\",\"linecolor\":\"#EBF0F8\",\"ticks\":\"\",\"title\":{\"standoff\":15},\"zerolinecolor\":\"#EBF0F8\",\"zerolinewidth\":2}}},\"xaxis\":{\"anchor\":\"y\",\"domain\":[0.0,1.0],\"title\":{\"text\":\"Sector\"}},\"yaxis\":{\"anchor\":\"x\",\"domain\":[0.0,1.0],\"title\":{\"text\":\"Count\"},\"categoryorder\":\"total ascending\"},\"coloraxis\":{\"colorbar\":{\"title\":{\"text\":\"color\"}},\"colorscale\":[[0.0,\"#440154\"],[0.1111111111111111,\"#482878\"],[0.2222222222222222,\"#3e4989\"],[0.3333333333333333,\"#31688e\"],[0.4444444444444444,\"#26828e\"],[0.5555555555555556,\"#1f9e89\"],[0.6666666666666666,\"#35b779\"],[0.7777777777777778,\"#6ece58\"],[0.8888888888888888,\"#b5de2b\"],[1.0,\"#fde725\"]]},\"legend\":{\"tracegroupgap\":0},\"margin\":{\"t\":60},\"barmode\":\"relative\",\"title\":{\"text\":\"Top Sectors by Company Count\"},\"annotations\":[{\"font\":{\"color\":\"#01923F\"},\"showarrow\":false,\"text\":\"18.3%\",\"x\":\"Finance\",\"y\":92,\"yshift\":10},{\"font\":{\"color\":\"white\"},\"showarrow\":false,\"text\":\"92\",\"x\":\"Finance\",\"y\":46.0},{\"font\":{\"color\":\"#01923F\"},\"showarrow\":false,\"text\":\"9.9%\",\"x\":\"Technology Services\",\"y\":50,\"yshift\":10},{\"font\":{\"color\":\"white\"},\"showarrow\":false,\"text\":\"50\",\"x\":\"Technology Services\",\"y\":25.0},{\"font\":{\"color\":\"#01923F\"},\"showarrow\":false,\"text\":\"9.7%\",\"x\":\"Electronic Technology\",\"y\":49,\"yshift\":10},{\"font\":{\"color\":\"white\"},\"showarrow\":false,\"text\":\"49\",\"x\":\"Electronic Technology\",\"y\":24.5},{\"font\":{\"color\":\"#01923F\"},\"showarrow\":false,\"text\":\"9.3%\",\"x\":\"Health Technology\",\"y\":47,\"yshift\":10},{\"font\":{\"color\":\"white\"},\"showarrow\":false,\"text\":\"47\",\"x\":\"Health Technology\",\"y\":23.5},{\"font\":{\"color\":\"#01923F\"},\"showarrow\":false,\"text\":\"6.2%\",\"x\":\"Utilities\",\"y\":31,\"yshift\":10},{\"font\":{\"color\":\"white\"},\"showarrow\":false,\"text\":\"31\",\"x\":\"Utilities\",\"y\":15.5},{\"font\":{\"color\":\"#01923F\"},\"showarrow\":false,\"text\":\"6.2%\",\"x\":\"Consumer Non-Durables\",\"y\":31,\"yshift\":10},{\"font\":{\"color\":\"white\"},\"showarrow\":false,\"text\":\"31\",\"x\":\"Consumer Non-Durables\",\"y\":15.5},{\"font\":{\"color\":\"#01923F\"},\"showarrow\":false,\"text\":\"6.2%\",\"x\":\"Producer Manufacturing\",\"y\":31,\"yshift\":10},{\"font\":{\"color\":\"white\"},\"showarrow\":false,\"text\":\"31\",\"x\":\"Producer Manufacturing\",\"y\":15.5},{\"font\":{\"color\":\"#01923F\"},\"showarrow\":false,\"text\":\"5.8%\",\"x\":\"Consumer Services\",\"y\":29,\"yshift\":10},{\"font\":{\"color\":\"white\"},\"showarrow\":false,\"text\":\"29\",\"x\":\"Consumer Services\",\"y\":14.5},{\"font\":{\"color\":\"#01923F\"},\"showarrow\":false,\"text\":\"4.8%\",\"x\":\"Process Industries\",\"y\":24,\"yshift\":10},{\"font\":{\"color\":\"white\"},\"showarrow\":false,\"text\":\"24\",\"x\":\"Process Industries\",\"y\":12.0},{\"font\":{\"color\":\"#01923F\"},\"showarrow\":false,\"text\":\"4.6%\",\"x\":\"Retail Trade\",\"y\":23,\"yshift\":10},{\"font\":{\"color\":\"white\"},\"showarrow\":false,\"text\":\"23\",\"x\":\"Retail Trade\",\"y\":11.5}]},                        {\"responsive\": true}                    ).then(function(){\n",
       "                            \n",
       "var gd = document.getElementById('276200a1-17be-4c71-bdfe-03696738a2a4');\n",
       "var x = new MutationObserver(function (mutations, observer) {{\n",
       "        var display = window.getComputedStyle(gd).display;\n",
       "        if (!display || display === 'none') {{\n",
       "            console.log([gd, 'removed!']);\n",
       "            Plotly.purge(gd);\n",
       "            observer.disconnect();\n",
       "        }}\n",
       "}});\n",
       "\n",
       "// Listen for the removal of the full notebook cells\n",
       "var notebookContainer = gd.closest('#notebook-container');\n",
       "if (notebookContainer) {{\n",
       "    x.observe(notebookContainer, {childList: true});\n",
       "}}\n",
       "\n",
       "// Listen for the clearing of the current output cell\n",
       "var outputEl = gd.closest('.output');\n",
       "if (outputEl) {{\n",
       "    x.observe(outputEl, {childList: true});\n",
       "}}\n",
       "\n",
       "                        })                };                });            </script>        </div>"
      ]
     },
     "metadata": {},
     "output_type": "display_data"
    }
   ],
   "source": [
    "import plotly.express as px\n",
    "import plotly.graph_objs as go\n",
    "\n",
    "# Doing same as above, but this time looking at the count of companies for each sector\n",
    "fig = px.bar(sector_company_counts[:10],\n",
    "             color=sector_company_counts.values[:10],\n",
    "             color_continuous_scale=px.colors.sequential.Viridis,\n",
    "             labels={'value':'Company Count', 'index':'Sector'})\n",
    "\n",
    "fig.update_layout(\n",
    "    title='Top Sectors by Company Count',\n",
    "    yaxis={'categoryorder':'total ascending'},\n",
    "    xaxis_title='Sector',\n",
    "    yaxis_title='Count',\n",
    "    template='plotly_white'\n",
    ")\n",
    "\n",
    "# Adding absolute and relative annotations of the counts\n",
    "for i, value in enumerate(sector_company_counts.values[:10]):\n",
    "    fig.add_annotation(x=sector_company_counts.index[i], y=value,\n",
    "                       text=f\"{sector_company_counts_percentages_of_total[i]:.1f}%\",\n",
    "                       showarrow=False, yshift=10, \n",
    "                       font=dict(color=\"#01923F\"))\n",
    "\n",
    "    fig.add_annotation(x=sector_company_counts.index[i], y=value/2,\n",
    "                       text=f\"{value}\",\n",
    "                       showarrow=False,\n",
    "                       font=dict(color=\"white\"))\n",
    "\n",
    "fig.show()"
   ]
  },
  {
   "cell_type": "code",
   "execution_count": 100,
   "id": "43b8d5f3-d51e-43d9-9dc2-a163b9a55aab",
   "metadata": {
    "jupyter": {
     "source_hidden": true
    },
    "tags": []
   },
   "outputs": [
    {
     "data": {
      "application/vnd.plotly.v1+json": {
       "config": {
        "plotlyServerURL": "https://plot.ly"
       },
       "data": [
        {
         "hovertemplate": "<b>%{hovertext}</b><br><br>sector=Electronic Technology<br>Market Cap=%{x}<br>Net Income=%{y}<br>revenue=%{marker.size}<extra></extra>",
         "hovertext": [
          "Apple Inc.",
          "NVIDIA Corporation",
          "Broadcom Inc.",
          "Advanced Micro Devices, Inc.",
          "Texas Instruments Incorporated",
          "Intel Corporation",
          "Boeing Company (The)",
          "RTX Corporation",
          "Honeywell International Inc.",
          "QUALCOMM Incorporated",
          "Lockheed Martin Corporation",
          "Analog Devices, Inc."
         ],
         "legendgroup": "Electronic Technology",
         "marker": {
          "color": "#636efa",
          "size": [
           394.33,
           26.91,
           27.45,
           0,
           18.34,
           79.02,
           62.29,
           64.39,
           34.39,
           0,
           67.04,
           7.32
          ],
          "sizemode": "area",
          "sizeref": 1.432,
          "symbol": "circle"
         },
         "mode": "markers",
         "name": "Electronic Technology",
         "orientation": "v",
         "showlegend": true,
         "type": "scatter",
         "x": [
          2728.0172,
          1069.4853,
          340.8121,
          170.3726,
          151.1673,
          137.157,
          136.7161,
          124.8832,
          123.8819,
          122.8716,
          113.3393,
          88.9036
         ],
         "xaxis": "x",
         "y": [
          99.8,
          9.75,
          6.74,
          0,
          7.77,
          19.87,
          0,
          3.86,
          5.61,
          12.94,
          6.32,
          1.39
         ],
         "yaxis": "y"
        },
        {
         "hovertemplate": "<b>%{hovertext}</b><br><br>sector=Technology Services<br>Market Cap=%{x}<br>Net Income=%{y}<br>revenue=%{marker.size}<extra></extra>",
         "hovertext": [
          "Microsoft Corporation",
          "Alphabet Inc.",
          "Alphabet Inc.",
          "Meta Platforms, Inc.",
          "Oracle Corporation",
          "Adobe Inc.",
          "Cisco Systems, Inc.",
          "Accenture plc",
          "Salesforce, Inc.",
          "Netflix, Inc.",
          "Intuit Inc.",
          "International Business Machines Corporation",
          "ServiceNow, Inc.",
          "Automatic Data Processing, Inc."
         ],
         "legendgroup": "Technology Services",
         "marker": {
          "color": "#EF553B",
          "size": [
           198.3,
           257.6,
           257.6,
           117.929,
           0,
           15.785,
           0,
           61.6,
           26.49,
           0,
           0,
           0,
           0,
           0
          ],
          "sizemode": "area",
          "sizeref": 1.432,
          "symbol": "circle"
         },
         "mode": "markers",
         "name": "Technology Services",
         "orientation": "v",
         "showlegend": true,
         "type": "scatter",
         "x": [
          2351.3716,
          1611.8565,
          1610.3439,
          728.9672,
          316.1026,
          231.6057,
          224.2912,
          201.2466,
          199.5044,
          179.2662,
          136.0978,
          128.8254,
          110.6285,
          103.4293
         ],
         "xaxis": "x",
         "y": [
          72.7,
          76,
          76,
          39.37,
          0,
          4.822,
          0,
          6.99,
          1.44,
          0,
          2.066,
          5.74,
          0,
          2.47
         ],
         "yaxis": "y"
        },
        {
         "hovertemplate": "<b>%{hovertext}</b><br><br>sector=Retail Trade<br>Market Cap=%{x}<br>Net Income=%{y}<br>revenue=%{marker.size}<extra></extra>",
         "hovertext": [
          "Amazon.com, Inc.",
          "Walmart Inc.",
          "Home Depot, Inc. (The)",
          "Costco Wholesale Corporation",
          "Lowe’s Companies, Inc.",
          "TJX Companies, Inc. (The)",
          "CVS Health Corporation"
         ],
         "legendgroup": "Retail Trade",
         "marker": {
          "color": "#00cc96",
          "size": [
           469.822,
           572.8,
           151.16,
           226.95,
           72.148,
           0,
           292.11
          ],
          "sizemode": "area",
          "sizeref": 1.432,
          "symbol": "circle"
         },
         "mode": "markers",
         "name": "Retail Trade",
         "orientation": "v",
         "showlegend": true,
         "type": "scatter",
         "x": [
          1366.8843,
          425.2794,
          329.13,
          241.4893,
          128.5349,
          102.8798,
          85.8107
         ],
         "xaxis": "x",
         "y": [
          33.364,
          13.67,
          16.43,
          5.84,
          4.281,
          0,
          7.91
         ],
         "yaxis": "y"
        },
        {
         "hovertemplate": "<b>%{hovertext}</b><br><br>sector=Finance<br>Market Cap=%{x}<br>Net Income=%{y}<br>revenue=%{marker.size}<extra></extra>",
         "hovertext": [
          "Berkshire Hathaway Inc. New",
          "JP Morgan Chase & Co.",
          "Bank of America Corporation",
          "Wells Fargo & Company",
          "Morgan Stanley",
          "American Express Company",
          "Prologis, Inc.",
          "Charles Schwab Corporation (The)",
          "Goldman Sachs Group, Inc. (The)",
          "BlackRock, Inc.",
          "Marsh & McLennan Companies, Inc.",
          "American Tower Corporation (REIT)",
          "Chubb Limited",
          "Citigroup, Inc."
         ],
         "legendgroup": "Finance",
         "marker": {
          "color": "#ab63fa",
          "size": [
           276.1,
           121.65,
           89.11,
           0,
           59.8,
           43.66,
           4.76,
           18.52,
           0,
           19.17,
           19.8,
           9.356,
           40.96,
           71.88
          ],
          "sizemode": "area",
          "sizeref": 1.432,
          "symbol": "circle"
         },
         "mode": "markers",
         "name": "Finance",
         "orientation": "v",
         "showlegend": true,
         "type": "scatter",
         "x": [
          768.8919,
          432.9195,
          231.3189,
          155.4983,
          140.6599,
          118.0028,
          113.8288,
          108.3927,
          107.12,
          100.0701,
          93.2782,
          82.1879,
          82.1059,
          81.3609
         ],
         "xaxis": "x",
         "y": [
          89.8,
          48.33,
          30.56,
          0,
          15.1,
          8.06,
          2.94,
          5.36,
          21.6,
          5.9,
          3.14,
          2.567,
          8.54,
          21.95
         ],
         "yaxis": "y"
        },
        {
         "hovertemplate": "<b>%{hovertext}</b><br><br>sector=Consumer Durables<br>Market Cap=%{x}<br>Net Income=%{y}<br>revenue=%{marker.size}<extra></extra>",
         "hovertext": [
          "Tesla, Inc."
         ],
         "legendgroup": "Consumer Durables",
         "marker": {
          "color": "#FFA15A",
          "size": [
           0
          ],
          "sizemode": "area",
          "sizeref": 1.432,
          "symbol": "circle"
         },
         "mode": "markers",
         "name": "Consumer Durables",
         "orientation": "v",
         "showlegend": true,
         "type": "scatter",
         "x": [
          683.9641
         ],
         "xaxis": "x",
         "y": [
          5.52
         ],
         "yaxis": "y"
        },
        {
         "hovertemplate": "<b>%{hovertext}</b><br><br>sector=Health Technology<br>Market Cap=%{x}<br>Net Income=%{y}<br>revenue=%{marker.size}<extra></extra>",
         "hovertext": [
          "Eli Lilly and Company",
          "Johnson & Johnson",
          "Merck & Company, Inc.",
          "AbbVie Inc.",
          "Pfizer, Inc.",
          "Thermo Fisher Scientific Inc",
          "Danaher Corporation",
          "Abbott Laboratories",
          "Amgen Inc.",
          "Bristol-Myers Squibb Company",
          "Medtronic plc.",
          "Stryker Corporation",
          "Intuitive Surgical, Inc.",
          "Gilead Sciences, Inc.",
          "Vertex Pharmaceuticals Incorporated",
          "Regeneron Pharmaceuticals, Inc.",
          "Zoetis Inc.",
          "Becton, Dickinson and Company"
         ],
         "legendgroup": "Health Technology",
         "marker": {
          "color": "#19d3f3",
          "size": [
           28.32,
           0,
           0,
           56.2,
           81.29,
           39.21,
           29.453,
           43.1,
           0,
           46.39,
           0,
           0,
           5.71,
           27.31,
           3.04,
           16.07,
           7.78,
           20.248
          ],
          "sizemode": "area",
          "sizeref": 1.432,
          "symbol": "circle"
         },
         "mode": "markers",
         "name": "Health Technology",
         "orientation": "v",
         "showlegend": true,
         "type": "scatter",
         "x": [
          518.7233,
          448.2962,
          277.0973,
          265.0041,
          206.9809,
          205.4719,
          185.6291,
          179.974,
          140.0478,
          129.6497,
          108.4546,
          105.5442,
          100.4699,
          94.5476,
          88.9963,
          88.1784,
          83.5797,
          79.3998
         ],
         "xaxis": "x",
         "y": [
          5.58,
          0,
          0,
          11.54,
          21.98,
          7.73,
          6.43,
          7.07,
          5.89,
          6.99,
          0,
          1.994,
          1.7,
          6.23,
          0,
          8.08,
          2.04,
          2.002
         ],
         "yaxis": "y"
        },
        {
         "hovertemplate": "<b>%{hovertext}</b><br><br>sector=Commercial Services<br>Market Cap=%{x}<br>Net Income=%{y}<br>revenue=%{marker.size}<extra></extra>",
         "hovertext": [
          "Visa Inc.",
          "Mastercard Incorporated",
          "S&P Global Inc."
         ],
         "legendgroup": "Commercial Services",
         "marker": {
          "color": "#FF6692",
          "size": [
           0,
           18.88,
           8.297
          ],
          "sizemode": "area",
          "sizeref": 1.432,
          "symbol": "circle"
         },
         "mode": "markers",
         "name": "Commercial Services",
         "orientation": "v",
         "showlegend": true,
         "type": "scatter",
         "x": [
          485.5255,
          369.3645,
          121.5524
         ],
         "xaxis": "x",
         "y": [
          0,
          8.69,
          3.024
         ],
         "yaxis": "y"
        },
        {
         "hovertemplate": "<b>%{hovertext}</b><br><br>sector=Health Services<br>Market Cap=%{x}<br>Net Income=%{y}<br>revenue=%{marker.size}<extra></extra>",
         "hovertext": [
          "UnitedHealth Group Incorporated",
          "Elevance Health, Inc.",
          "The Cigna Group"
         ],
         "legendgroup": "Health Services",
         "marker": {
          "color": "#B6E880",
          "size": [
           285.273,
           136.9,
           174.1
          ],
          "sizemode": "area",
          "sizeref": 1.432,
          "symbol": "circle"
         },
         "mode": "markers",
         "name": "Health Services",
         "orientation": "v",
         "showlegend": true,
         "type": "scatter",
         "x": [
          461.7075,
          109.0531,
          81.6935
         ],
         "xaxis": "x",
         "y": [
          17.285,
          6.1,
          5.4
         ],
         "yaxis": "y"
        },
        {
         "hovertemplate": "<b>%{hovertext}</b><br><br>sector=Energy Minerals<br>Market Cap=%{x}<br>Net Income=%{y}<br>revenue=%{marker.size}<extra></extra>",
         "hovertext": [
          "Exxon Mobil Corporation",
          "Chevron Corporation",
          "ConocoPhillips"
         ],
         "legendgroup": "Energy Minerals",
         "marker": {
          "color": "#FF97FF",
          "size": [
           276.692,
           162.47,
           45.83
          ],
          "sizemode": "area",
          "sizeref": 1.432,
          "symbol": "circle"
         },
         "mode": "markers",
         "name": "Energy Minerals",
         "orientation": "v",
         "showlegend": true,
         "type": "scatter",
         "x": [
          440.5113,
          306.9325,
          140.4537
         ],
         "xaxis": "x",
         "y": [
          23.04,
          15.63,
          8.08
         ],
         "yaxis": "y"
        },
        {
         "hovertemplate": "<b>%{hovertext}</b><br><br>sector=Consumer Non-Durables<br>Market Cap=%{x}<br>Net Income=%{y}<br>revenue=%{marker.size}<extra></extra>",
         "hovertext": [
          "Procter & Gamble Company (The)",
          "Coca-Cola Company (The)",
          "PepsiCo, Inc.",
          "Nike, Inc.",
          "Philip Morris International Inc",
          "Mondelez International, Inc."
         ],
         "legendgroup": "Consumer Non-Durables",
         "marker": {
          "color": "#FECB52",
          "size": [
           0,
           37.27,
           70.37,
           0,
           31.405,
           28.72
          ],
          "sizemode": "area",
          "sizeref": 1.432,
          "symbol": "circle"
         },
         "mode": "markers",
         "name": "Consumer Non-Durables",
         "orientation": "v",
         "showlegend": true,
         "type": "scatter",
         "x": [
          359.5835,
          263.5688,
          245.2791,
          160.3671,
          146.4793,
          96.7665
         ],
         "xaxis": "x",
         "y": [
          0,
          8.92,
          7.353,
          6.05,
          9.109,
          4.3
         ],
         "yaxis": "y"
        },
        {
         "hovertemplate": "<b>%{hovertext}</b><br><br>sector=Consumer Services<br>Market Cap=%{x}<br>Net Income=%{y}<br>revenue=%{marker.size}<extra></extra>",
         "hovertext": [
          "McDonald’s Corporation",
          "Comcast Corporation",
          "Walt Disney Company (The)",
          "Starbucks Corporation",
          "Booking Holdings Inc. Common Stock"
         ],
         "legendgroup": "Consumer Services",
         "marker": {
          "color": "#636efa",
          "size": [
           0,
           116.39,
           82.722,
           0,
           10.96
          ],
          "sizemode": "area",
          "sizeref": 1.432,
          "symbol": "circle"
         },
         "mode": "markers",
         "name": "Consumer Services",
         "orientation": "v",
         "showlegend": true,
         "type": "scatter",
         "x": [
          205.3218,
          188.7661,
          157.0751,
          111.3672,
          109.162
         ],
         "xaxis": "x",
         "y": [
          7.545,
          14.16,
          3.145,
          0,
          1.17
         ],
         "yaxis": "y"
        },
        {
         "hovertemplate": "<b>%{hovertext}</b><br><br>sector=Process Industries<br>Market Cap=%{x}<br>Net Income=%{y}<br>revenue=%{marker.size}<extra></extra>",
         "hovertext": [
          "Linde plc"
         ],
         "legendgroup": "Process Industries",
         "marker": {
          "color": "#EF553B",
          "size": [
           0
          ],
          "sizemode": "area",
          "sizeref": 1.432,
          "symbol": "circle"
         },
         "mode": "markers",
         "name": "Process Industries",
         "orientation": "v",
         "showlegend": true,
         "type": "scatter",
         "x": [
          183.0285
         ],
         "xaxis": "x",
         "y": [
          0
         ],
         "yaxis": "y"
        },
        {
         "hovertemplate": "<b>%{hovertext}</b><br><br>sector=Communications<br>Market Cap=%{x}<br>Net Income=%{y}<br>revenue=%{marker.size}<extra></extra>",
         "hovertext": [
          "T-Mobile US, Inc.",
          "Verizon Communications Inc.",
          "AT&T Inc."
         ],
         "legendgroup": "Communications",
         "marker": {
          "color": "#00cc96",
          "size": [
           68.397,
           0,
           0
          ],
          "sizemode": "area",
          "sizeref": 1.432,
          "symbol": "circle"
         },
         "mode": "markers",
         "name": "Communications",
         "orientation": "v",
         "showlegend": true,
         "type": "scatter",
         "x": [
          160.1629,
          139.4901,
          100.4435
         ],
         "xaxis": "x",
         "y": [
          3.468,
          0,
          20.08
         ],
         "yaxis": "y"
        },
        {
         "hovertemplate": "<b>%{hovertext}</b><br><br>sector=Transportation<br>Market Cap=%{x}<br>Net Income=%{y}<br>revenue=%{marker.size}<extra></extra>",
         "hovertext": [
          "United Parcel Service, Inc.",
          "Union Pacific Corporation"
         ],
         "legendgroup": "Transportation",
         "marker": {
          "color": "#ab63fa",
          "size": [
           97.29,
           21.8
          ],
          "sizemode": "area",
          "sizeref": 1.432,
          "symbol": "circle"
         },
         "mode": "markers",
         "name": "Transportation",
         "orientation": "v",
         "showlegend": true,
         "type": "scatter",
         "x": [
          146.4574,
          137.2861
         ],
         "xaxis": "x",
         "y": [
          12.89,
          6.5
         ],
         "yaxis": "y"
        },
        {
         "hovertemplate": "<b>%{hovertext}</b><br><br>sector=Producer Manufacturing<br>Market Cap=%{x}<br>Net Income=%{y}<br>revenue=%{marker.size}<extra></extra>",
         "hovertext": [
          "Caterpillar, Inc.",
          "General Electric Company",
          "Applied Materials, Inc.",
          "Deere & Company",
          "Lam Research Corporation",
          "Eaton Corporation, PLC"
         ],
         "legendgroup": "Producer Manufacturing",
         "marker": {
          "color": "#FFA15A",
          "size": [
           48.19,
           0,
           23.06,
           39.54,
           17.23,
           0
          ],
          "sizemode": "area",
          "sizeref": 1.432,
          "symbol": "circle"
         },
         "mode": "markers",
         "name": "Producer Manufacturing",
         "orientation": "v",
         "showlegend": true,
         "type": "scatter",
         "x": [
          139.6772,
          121.6698,
          119.7984,
          116.4032,
          86.5222,
          85.6454
         ],
         "xaxis": "x",
         "y": [
          6.49,
          0,
          5.89,
          2.751,
          6.61,
          0
         ],
         "yaxis": "y"
        },
        {
         "hovertemplate": "<b>%{hovertext}</b><br><br>sector=Utilities<br>Market Cap=%{x}<br>Net Income=%{y}<br>revenue=%{marker.size}<extra></extra>",
         "hovertext": [
          "NextEra Energy, Inc."
         ],
         "legendgroup": "Utilities",
         "marker": {
          "color": "#19d3f3",
          "size": [
           17.07
          ],
          "sizemode": "area",
          "sizeref": 1.432,
          "symbol": "circle"
         },
         "mode": "markers",
         "name": "Utilities",
         "orientation": "v",
         "showlegend": true,
         "type": "scatter",
         "x": [
          137.2685
         ],
         "xaxis": "x",
         "y": [
          2.37
         ],
         "yaxis": "y"
        },
        {
         "hovertemplate": "<b>%{hovertext}</b><br><br>sector=Industrial Services<br>Market Cap=%{x}<br>Net Income=%{y}<br>revenue=%{marker.size}<extra></extra>",
         "hovertext": [
          "Schlumberger N.V."
         ],
         "legendgroup": "Industrial Services",
         "marker": {
          "color": "#FF6692",
          "size": [
           23.601
          ],
          "sizemode": "area",
          "sizeref": 1.432,
          "symbol": "circle"
         },
         "mode": "markers",
         "name": "Industrial Services",
         "orientation": "v",
         "showlegend": true,
         "type": "scatter",
         "x": [
          82.4714
         ],
         "xaxis": "x",
         "y": [
          -10.518
         ],
         "yaxis": "y"
        }
       ],
       "layout": {
        "autosize": true,
        "legend": {
         "itemsizing": "constant",
         "title": {
          "text": "sector"
         },
         "tracegroupgap": 0
        },
        "template": {
         "data": {
          "bar": [
           {
            "error_x": {
             "color": "#2a3f5f"
            },
            "error_y": {
             "color": "#2a3f5f"
            },
            "marker": {
             "line": {
              "color": "white",
              "width": 0.5
             },
             "pattern": {
              "fillmode": "overlay",
              "size": 10,
              "solidity": 0.2
             }
            },
            "type": "bar"
           }
          ],
          "barpolar": [
           {
            "marker": {
             "line": {
              "color": "white",
              "width": 0.5
             },
             "pattern": {
              "fillmode": "overlay",
              "size": 10,
              "solidity": 0.2
             }
            },
            "type": "barpolar"
           }
          ],
          "carpet": [
           {
            "aaxis": {
             "endlinecolor": "#2a3f5f",
             "gridcolor": "#C8D4E3",
             "linecolor": "#C8D4E3",
             "minorgridcolor": "#C8D4E3",
             "startlinecolor": "#2a3f5f"
            },
            "baxis": {
             "endlinecolor": "#2a3f5f",
             "gridcolor": "#C8D4E3",
             "linecolor": "#C8D4E3",
             "minorgridcolor": "#C8D4E3",
             "startlinecolor": "#2a3f5f"
            },
            "type": "carpet"
           }
          ],
          "choropleth": [
           {
            "colorbar": {
             "outlinewidth": 0,
             "ticks": ""
            },
            "type": "choropleth"
           }
          ],
          "contour": [
           {
            "colorbar": {
             "outlinewidth": 0,
             "ticks": ""
            },
            "colorscale": [
             [
              0,
              "#0d0887"
             ],
             [
              0.1111111111111111,
              "#46039f"
             ],
             [
              0.2222222222222222,
              "#7201a8"
             ],
             [
              0.3333333333333333,
              "#9c179e"
             ],
             [
              0.4444444444444444,
              "#bd3786"
             ],
             [
              0.5555555555555556,
              "#d8576b"
             ],
             [
              0.6666666666666666,
              "#ed7953"
             ],
             [
              0.7777777777777778,
              "#fb9f3a"
             ],
             [
              0.8888888888888888,
              "#fdca26"
             ],
             [
              1,
              "#f0f921"
             ]
            ],
            "type": "contour"
           }
          ],
          "contourcarpet": [
           {
            "colorbar": {
             "outlinewidth": 0,
             "ticks": ""
            },
            "type": "contourcarpet"
           }
          ],
          "heatmap": [
           {
            "colorbar": {
             "outlinewidth": 0,
             "ticks": ""
            },
            "colorscale": [
             [
              0,
              "#0d0887"
             ],
             [
              0.1111111111111111,
              "#46039f"
             ],
             [
              0.2222222222222222,
              "#7201a8"
             ],
             [
              0.3333333333333333,
              "#9c179e"
             ],
             [
              0.4444444444444444,
              "#bd3786"
             ],
             [
              0.5555555555555556,
              "#d8576b"
             ],
             [
              0.6666666666666666,
              "#ed7953"
             ],
             [
              0.7777777777777778,
              "#fb9f3a"
             ],
             [
              0.8888888888888888,
              "#fdca26"
             ],
             [
              1,
              "#f0f921"
             ]
            ],
            "type": "heatmap"
           }
          ],
          "heatmapgl": [
           {
            "colorbar": {
             "outlinewidth": 0,
             "ticks": ""
            },
            "colorscale": [
             [
              0,
              "#0d0887"
             ],
             [
              0.1111111111111111,
              "#46039f"
             ],
             [
              0.2222222222222222,
              "#7201a8"
             ],
             [
              0.3333333333333333,
              "#9c179e"
             ],
             [
              0.4444444444444444,
              "#bd3786"
             ],
             [
              0.5555555555555556,
              "#d8576b"
             ],
             [
              0.6666666666666666,
              "#ed7953"
             ],
             [
              0.7777777777777778,
              "#fb9f3a"
             ],
             [
              0.8888888888888888,
              "#fdca26"
             ],
             [
              1,
              "#f0f921"
             ]
            ],
            "type": "heatmapgl"
           }
          ],
          "histogram": [
           {
            "marker": {
             "pattern": {
              "fillmode": "overlay",
              "size": 10,
              "solidity": 0.2
             }
            },
            "type": "histogram"
           }
          ],
          "histogram2d": [
           {
            "colorbar": {
             "outlinewidth": 0,
             "ticks": ""
            },
            "colorscale": [
             [
              0,
              "#0d0887"
             ],
             [
              0.1111111111111111,
              "#46039f"
             ],
             [
              0.2222222222222222,
              "#7201a8"
             ],
             [
              0.3333333333333333,
              "#9c179e"
             ],
             [
              0.4444444444444444,
              "#bd3786"
             ],
             [
              0.5555555555555556,
              "#d8576b"
             ],
             [
              0.6666666666666666,
              "#ed7953"
             ],
             [
              0.7777777777777778,
              "#fb9f3a"
             ],
             [
              0.8888888888888888,
              "#fdca26"
             ],
             [
              1,
              "#f0f921"
             ]
            ],
            "type": "histogram2d"
           }
          ],
          "histogram2dcontour": [
           {
            "colorbar": {
             "outlinewidth": 0,
             "ticks": ""
            },
            "colorscale": [
             [
              0,
              "#0d0887"
             ],
             [
              0.1111111111111111,
              "#46039f"
             ],
             [
              0.2222222222222222,
              "#7201a8"
             ],
             [
              0.3333333333333333,
              "#9c179e"
             ],
             [
              0.4444444444444444,
              "#bd3786"
             ],
             [
              0.5555555555555556,
              "#d8576b"
             ],
             [
              0.6666666666666666,
              "#ed7953"
             ],
             [
              0.7777777777777778,
              "#fb9f3a"
             ],
             [
              0.8888888888888888,
              "#fdca26"
             ],
             [
              1,
              "#f0f921"
             ]
            ],
            "type": "histogram2dcontour"
           }
          ],
          "mesh3d": [
           {
            "colorbar": {
             "outlinewidth": 0,
             "ticks": ""
            },
            "type": "mesh3d"
           }
          ],
          "parcoords": [
           {
            "line": {
             "colorbar": {
              "outlinewidth": 0,
              "ticks": ""
             }
            },
            "type": "parcoords"
           }
          ],
          "pie": [
           {
            "automargin": true,
            "type": "pie"
           }
          ],
          "scatter": [
           {
            "fillpattern": {
             "fillmode": "overlay",
             "size": 10,
             "solidity": 0.2
            },
            "type": "scatter"
           }
          ],
          "scatter3d": [
           {
            "line": {
             "colorbar": {
              "outlinewidth": 0,
              "ticks": ""
             }
            },
            "marker": {
             "colorbar": {
              "outlinewidth": 0,
              "ticks": ""
             }
            },
            "type": "scatter3d"
           }
          ],
          "scattercarpet": [
           {
            "marker": {
             "colorbar": {
              "outlinewidth": 0,
              "ticks": ""
             }
            },
            "type": "scattercarpet"
           }
          ],
          "scattergeo": [
           {
            "marker": {
             "colorbar": {
              "outlinewidth": 0,
              "ticks": ""
             }
            },
            "type": "scattergeo"
           }
          ],
          "scattergl": [
           {
            "marker": {
             "colorbar": {
              "outlinewidth": 0,
              "ticks": ""
             }
            },
            "type": "scattergl"
           }
          ],
          "scattermapbox": [
           {
            "marker": {
             "colorbar": {
              "outlinewidth": 0,
              "ticks": ""
             }
            },
            "type": "scattermapbox"
           }
          ],
          "scatterpolar": [
           {
            "marker": {
             "colorbar": {
              "outlinewidth": 0,
              "ticks": ""
             }
            },
            "type": "scatterpolar"
           }
          ],
          "scatterpolargl": [
           {
            "marker": {
             "colorbar": {
              "outlinewidth": 0,
              "ticks": ""
             }
            },
            "type": "scatterpolargl"
           }
          ],
          "scatterternary": [
           {
            "marker": {
             "colorbar": {
              "outlinewidth": 0,
              "ticks": ""
             }
            },
            "type": "scatterternary"
           }
          ],
          "surface": [
           {
            "colorbar": {
             "outlinewidth": 0,
             "ticks": ""
            },
            "colorscale": [
             [
              0,
              "#0d0887"
             ],
             [
              0.1111111111111111,
              "#46039f"
             ],
             [
              0.2222222222222222,
              "#7201a8"
             ],
             [
              0.3333333333333333,
              "#9c179e"
             ],
             [
              0.4444444444444444,
              "#bd3786"
             ],
             [
              0.5555555555555556,
              "#d8576b"
             ],
             [
              0.6666666666666666,
              "#ed7953"
             ],
             [
              0.7777777777777778,
              "#fb9f3a"
             ],
             [
              0.8888888888888888,
              "#fdca26"
             ],
             [
              1,
              "#f0f921"
             ]
            ],
            "type": "surface"
           }
          ],
          "table": [
           {
            "cells": {
             "fill": {
              "color": "#EBF0F8"
             },
             "line": {
              "color": "white"
             }
            },
            "header": {
             "fill": {
              "color": "#C8D4E3"
             },
             "line": {
              "color": "white"
             }
            },
            "type": "table"
           }
          ]
         },
         "layout": {
          "annotationdefaults": {
           "arrowcolor": "#2a3f5f",
           "arrowhead": 0,
           "arrowwidth": 1
          },
          "autotypenumbers": "strict",
          "coloraxis": {
           "colorbar": {
            "outlinewidth": 0,
            "ticks": ""
           }
          },
          "colorscale": {
           "diverging": [
            [
             0,
             "#8e0152"
            ],
            [
             0.1,
             "#c51b7d"
            ],
            [
             0.2,
             "#de77ae"
            ],
            [
             0.3,
             "#f1b6da"
            ],
            [
             0.4,
             "#fde0ef"
            ],
            [
             0.5,
             "#f7f7f7"
            ],
            [
             0.6,
             "#e6f5d0"
            ],
            [
             0.7,
             "#b8e186"
            ],
            [
             0.8,
             "#7fbc41"
            ],
            [
             0.9,
             "#4d9221"
            ],
            [
             1,
             "#276419"
            ]
           ],
           "sequential": [
            [
             0,
             "#0d0887"
            ],
            [
             0.1111111111111111,
             "#46039f"
            ],
            [
             0.2222222222222222,
             "#7201a8"
            ],
            [
             0.3333333333333333,
             "#9c179e"
            ],
            [
             0.4444444444444444,
             "#bd3786"
            ],
            [
             0.5555555555555556,
             "#d8576b"
            ],
            [
             0.6666666666666666,
             "#ed7953"
            ],
            [
             0.7777777777777778,
             "#fb9f3a"
            ],
            [
             0.8888888888888888,
             "#fdca26"
            ],
            [
             1,
             "#f0f921"
            ]
           ],
           "sequentialminus": [
            [
             0,
             "#0d0887"
            ],
            [
             0.1111111111111111,
             "#46039f"
            ],
            [
             0.2222222222222222,
             "#7201a8"
            ],
            [
             0.3333333333333333,
             "#9c179e"
            ],
            [
             0.4444444444444444,
             "#bd3786"
            ],
            [
             0.5555555555555556,
             "#d8576b"
            ],
            [
             0.6666666666666666,
             "#ed7953"
            ],
            [
             0.7777777777777778,
             "#fb9f3a"
            ],
            [
             0.8888888888888888,
             "#fdca26"
            ],
            [
             1,
             "#f0f921"
            ]
           ]
          },
          "colorway": [
           "#636efa",
           "#EF553B",
           "#00cc96",
           "#ab63fa",
           "#FFA15A",
           "#19d3f3",
           "#FF6692",
           "#B6E880",
           "#FF97FF",
           "#FECB52"
          ],
          "font": {
           "color": "#2a3f5f"
          },
          "geo": {
           "bgcolor": "white",
           "lakecolor": "white",
           "landcolor": "white",
           "showlakes": true,
           "showland": true,
           "subunitcolor": "#C8D4E3"
          },
          "hoverlabel": {
           "align": "left"
          },
          "hovermode": "closest",
          "mapbox": {
           "style": "light"
          },
          "paper_bgcolor": "white",
          "plot_bgcolor": "white",
          "polar": {
           "angularaxis": {
            "gridcolor": "#EBF0F8",
            "linecolor": "#EBF0F8",
            "ticks": ""
           },
           "bgcolor": "white",
           "radialaxis": {
            "gridcolor": "#EBF0F8",
            "linecolor": "#EBF0F8",
            "ticks": ""
           }
          },
          "scene": {
           "xaxis": {
            "backgroundcolor": "white",
            "gridcolor": "#DFE8F3",
            "gridwidth": 2,
            "linecolor": "#EBF0F8",
            "showbackground": true,
            "ticks": "",
            "zerolinecolor": "#EBF0F8"
           },
           "yaxis": {
            "backgroundcolor": "white",
            "gridcolor": "#DFE8F3",
            "gridwidth": 2,
            "linecolor": "#EBF0F8",
            "showbackground": true,
            "ticks": "",
            "zerolinecolor": "#EBF0F8"
           },
           "zaxis": {
            "backgroundcolor": "white",
            "gridcolor": "#DFE8F3",
            "gridwidth": 2,
            "linecolor": "#EBF0F8",
            "showbackground": true,
            "ticks": "",
            "zerolinecolor": "#EBF0F8"
           }
          },
          "shapedefaults": {
           "line": {
            "color": "#2a3f5f"
           }
          },
          "ternary": {
           "aaxis": {
            "gridcolor": "#DFE8F3",
            "linecolor": "#A2B1C6",
            "ticks": ""
           },
           "baxis": {
            "gridcolor": "#DFE8F3",
            "linecolor": "#A2B1C6",
            "ticks": ""
           },
           "bgcolor": "white",
           "caxis": {
            "gridcolor": "#DFE8F3",
            "linecolor": "#A2B1C6",
            "ticks": ""
           }
          },
          "title": {
           "x": 0.05
          },
          "xaxis": {
           "automargin": true,
           "gridcolor": "#EBF0F8",
           "linecolor": "#EBF0F8",
           "ticks": "",
           "title": {
            "standoff": 15
           },
           "zerolinecolor": "#EBF0F8",
           "zerolinewidth": 2
          },
          "yaxis": {
           "automargin": true,
           "gridcolor": "#EBF0F8",
           "linecolor": "#EBF0F8",
           "ticks": "",
           "title": {
            "standoff": 15
           },
           "zerolinecolor": "#EBF0F8",
           "zerolinewidth": 2
          }
         }
        },
        "title": {
         "text": "Market Cap vs. Net Income by Sector and Revenue"
        },
        "xaxis": {
         "anchor": "y",
         "autorange": true,
         "domain": [
          0,
          1
         ],
         "range": [
          -110.42727232462715,
          2931.4010758241934
         ],
         "title": {
          "text": "Market Cap"
         },
         "type": "linear"
        },
        "yaxis": {
         "anchor": "x",
         "autorange": true,
         "domain": [
          0,
          1
         ],
         "range": [
          -19.764309143563224,
          116.55080211326657
         ],
         "title": {
          "text": "Net Income"
         },
         "type": "linear"
        }
       }
      },
      "image/png": "[encoded data removed]",
      "text/html": [
       "<div>                            <div id=\"77a78b42-b183-4db6-bbd5-7dc02c321829\" class=\"plotly-graph-div\" style=\"height:525px; width:100%;\"></div>            <script type=\"text/javascript\">                require([\"plotly\"], function(Plotly) {                    window.PLOTLYENV=window.PLOTLYENV || {};                                    if (document.getElementById(\"77a78b42-b183-4db6-bbd5-7dc02c321829\")) {                    Plotly.newPlot(                        \"77a78b42-b183-4db6-bbd5-7dc02c321829\",                        [{\"hovertemplate\":\"\\u003cb\\u003e%{hovertext}\\u003c\\u002fb\\u003e\\u003cbr\\u003e\\u003cbr\\u003esector=Electronic Technology\\u003cbr\\u003eMarket Cap=%{x}\\u003cbr\\u003eNet Income=%{y}\\u003cbr\\u003erevenue=%{marker.size}\\u003cextra\\u003e\\u003c\\u002fextra\\u003e\",\"hovertext\":[\"Apple Inc.\",\"NVIDIA Corporation\",\"Broadcom Inc.\",\"Advanced Micro Devices, Inc.\",\"Texas Instruments Incorporated\",\"Intel Corporation\",\"Boeing Company (The)\",\"RTX Corporation\",\"Honeywell International Inc.\",\"QUALCOMM Incorporated\",\"Lockheed Martin Corporation\",\"Analog Devices, Inc.\"],\"legendgroup\":\"Electronic Technology\",\"marker\":{\"color\":\"#636efa\",\"size\":[394.33,26.91,27.45,0.0,18.34,79.02,62.29,64.39,34.39,0.0,67.04,7.32],\"sizemode\":\"area\",\"sizeref\":1.432,\"symbol\":\"circle\"},\"mode\":\"markers\",\"name\":\"Electronic Technology\",\"orientation\":\"v\",\"showlegend\":true,\"x\":[2728.0172,1069.4853,340.8121,170.3726,151.1673,137.157,136.7161,124.8832,123.8819,122.8716,113.3393,88.9036],\"xaxis\":\"x\",\"y\":[99.8,9.75,6.74,0.0,7.77,19.87,0.0,3.86,5.61,12.94,6.32,1.39],\"yaxis\":\"y\",\"type\":\"scatter\"},{\"hovertemplate\":\"\\u003cb\\u003e%{hovertext}\\u003c\\u002fb\\u003e\\u003cbr\\u003e\\u003cbr\\u003esector=Technology Services\\u003cbr\\u003eMarket Cap=%{x}\\u003cbr\\u003eNet Income=%{y}\\u003cbr\\u003erevenue=%{marker.size}\\u003cextra\\u003e\\u003c\\u002fextra\\u003e\",\"hovertext\":[\"Microsoft Corporation\",\"Alphabet Inc.\",\"Alphabet Inc.\",\"Meta Platforms, Inc.\",\"Oracle Corporation\",\"Adobe Inc.\",\"Cisco Systems, Inc.\",\"Accenture plc\",\"Salesforce, Inc.\",\"Netflix, Inc.\",\"Intuit Inc.\",\"International Business Machines Corporation\",\"ServiceNow, Inc.\",\"Automatic Data Processing, Inc.\"],\"legendgroup\":\"Technology Services\",\"marker\":{\"color\":\"#EF553B\",\"size\":[198.3,257.6,257.6,117.929,0.0,15.785,0.0,61.6,26.49,0.0,0.0,0.0,0.0,0.0],\"sizemode\":\"area\",\"sizeref\":1.432,\"symbol\":\"circle\"},\"mode\":\"markers\",\"name\":\"Technology Services\",\"orientation\":\"v\",\"showlegend\":true,\"x\":[2351.3716,1611.8565,1610.3439,728.9672,316.1026,231.6057,224.2912,201.2466,199.5044,179.2662,136.0978,128.8254,110.6285,103.4293],\"xaxis\":\"x\",\"y\":[72.7,76.0,76.0,39.37,0.0,4.822,0.0,6.99,1.44,0.0,2.066,5.74,0.0,2.47],\"yaxis\":\"y\",\"type\":\"scatter\"},{\"hovertemplate\":\"\\u003cb\\u003e%{hovertext}\\u003c\\u002fb\\u003e\\u003cbr\\u003e\\u003cbr\\u003esector=Retail Trade\\u003cbr\\u003eMarket Cap=%{x}\\u003cbr\\u003eNet Income=%{y}\\u003cbr\\u003erevenue=%{marker.size}\\u003cextra\\u003e\\u003c\\u002fextra\\u003e\",\"hovertext\":[\"Amazon.com, Inc.\",\"Walmart Inc.\",\"Home Depot, Inc. (The)\",\"Costco Wholesale Corporation\",\"Lowe\\u2019s Companies, Inc.\",\"TJX Companies, Inc. (The)\",\"CVS Health Corporation\"],\"legendgroup\":\"Retail Trade\",\"marker\":{\"color\":\"#00cc96\",\"size\":[469.822,572.8,151.16,226.95,72.148,0.0,292.11],\"sizemode\":\"area\",\"sizeref\":1.432,\"symbol\":\"circle\"},\"mode\":\"markers\",\"name\":\"Retail Trade\",\"orientation\":\"v\",\"showlegend\":true,\"x\":[1366.8843,425.2794,329.13,241.4893,128.5349,102.8798,85.8107],\"xaxis\":\"x\",\"y\":[33.364,13.67,16.43,5.84,4.281,0.0,7.91],\"yaxis\":\"y\",\"type\":\"scatter\"},{\"hovertemplate\":\"\\u003cb\\u003e%{hovertext}\\u003c\\u002fb\\u003e\\u003cbr\\u003e\\u003cbr\\u003esector=Finance\\u003cbr\\u003eMarket Cap=%{x}\\u003cbr\\u003eNet Income=%{y}\\u003cbr\\u003erevenue=%{marker.size}\\u003cextra\\u003e\\u003c\\u002fextra\\u003e\",\"hovertext\":[\"Berkshire Hathaway Inc. New\",\"JP Morgan Chase & Co.\",\"Bank of America Corporation\",\"Wells Fargo & Company\",\"Morgan Stanley\",\"American Express Company\",\"Prologis, Inc.\",\"Charles Schwab Corporation (The)\",\"Goldman Sachs Group, Inc. (The)\",\"BlackRock, Inc.\",\"Marsh & McLennan Companies, Inc.\",\"American Tower Corporation (REIT)\",\"Chubb Limited\",\"Citigroup, Inc.\"],\"legendgroup\":\"Finance\",\"marker\":{\"color\":\"#ab63fa\",\"size\":[276.1,121.65,89.11,0.0,59.8,43.66,4.76,18.52,0.0,19.17,19.8,9.356,40.96,71.88],\"sizemode\":\"area\",\"sizeref\":1.432,\"symbol\":\"circle\"},\"mode\":\"markers\",\"name\":\"Finance\",\"orientation\":\"v\",\"showlegend\":true,\"x\":[768.8919,432.9195,231.3189,155.4983,140.6599,118.0028,113.8288,108.3927,107.12,100.0701,93.2782,82.1879,82.1059,81.3609],\"xaxis\":\"x\",\"y\":[89.8,48.33,30.56,0.0,15.1,8.06,2.94,5.36,21.6,5.9,3.14,2.567,8.54,21.95],\"yaxis\":\"y\",\"type\":\"scatter\"},{\"hovertemplate\":\"\\u003cb\\u003e%{hovertext}\\u003c\\u002fb\\u003e\\u003cbr\\u003e\\u003cbr\\u003esector=Consumer Durables\\u003cbr\\u003eMarket Cap=%{x}\\u003cbr\\u003eNet Income=%{y}\\u003cbr\\u003erevenue=%{marker.size}\\u003cextra\\u003e\\u003c\\u002fextra\\u003e\",\"hovertext\":[\"Tesla, Inc.\"],\"legendgroup\":\"Consumer Durables\",\"marker\":{\"color\":\"#FFA15A\",\"size\":[0.0],\"sizemode\":\"area\",\"sizeref\":1.432,\"symbol\":\"circle\"},\"mode\":\"markers\",\"name\":\"Consumer Durables\",\"orientation\":\"v\",\"showlegend\":true,\"x\":[683.9641],\"xaxis\":\"x\",\"y\":[5.52],\"yaxis\":\"y\",\"type\":\"scatter\"},{\"hovertemplate\":\"\\u003cb\\u003e%{hovertext}\\u003c\\u002fb\\u003e\\u003cbr\\u003e\\u003cbr\\u003esector=Health Technology\\u003cbr\\u003eMarket Cap=%{x}\\u003cbr\\u003eNet Income=%{y}\\u003cbr\\u003erevenue=%{marker.size}\\u003cextra\\u003e\\u003c\\u002fextra\\u003e\",\"hovertext\":[\"Eli Lilly and Company\",\"Johnson & Johnson\",\"Merck & Company, Inc.\",\"AbbVie Inc.\",\"Pfizer, Inc.\",\"Thermo Fisher Scientific Inc\",\"Danaher Corporation\",\"Abbott Laboratories\",\"Amgen Inc.\",\"Bristol-Myers Squibb Company\",\"Medtronic plc.\",\"Stryker Corporation\",\"Intuitive Surgical, Inc.\",\"Gilead Sciences, Inc.\",\"Vertex Pharmaceuticals Incorporated\",\"Regeneron Pharmaceuticals, Inc.\",\"Zoetis Inc.\",\"Becton, Dickinson and Company\"],\"legendgroup\":\"Health Technology\",\"marker\":{\"color\":\"#19d3f3\",\"size\":[28.32,0.0,0.0,56.2,81.29,39.21,29.453,43.1,0.0,46.39,0.0,0.0,5.71,27.31,3.04,16.07,7.78,20.248],\"sizemode\":\"area\",\"sizeref\":1.432,\"symbol\":\"circle\"},\"mode\":\"markers\",\"name\":\"Health Technology\",\"orientation\":\"v\",\"showlegend\":true,\"x\":[518.7233,448.2962,277.0973,265.0041,206.9809,205.4719,185.6291,179.974,140.0478,129.6497,108.4546,105.5442,100.4699,94.5476,88.9963,88.1784,83.5797,79.3998],\"xaxis\":\"x\",\"y\":[5.58,0.0,0.0,11.54,21.98,7.73,6.43,7.07,5.89,6.99,0.0,1.994,1.7,6.23,0.0,8.08,2.04,2.002],\"yaxis\":\"y\",\"type\":\"scatter\"},{\"hovertemplate\":\"\\u003cb\\u003e%{hovertext}\\u003c\\u002fb\\u003e\\u003cbr\\u003e\\u003cbr\\u003esector=Commercial Services\\u003cbr\\u003eMarket Cap=%{x}\\u003cbr\\u003eNet Income=%{y}\\u003cbr\\u003erevenue=%{marker.size}\\u003cextra\\u003e\\u003c\\u002fextra\\u003e\",\"hovertext\":[\"Visa Inc.\",\"Mastercard Incorporated\",\"S&P Global Inc.\"],\"legendgroup\":\"Commercial Services\",\"marker\":{\"color\":\"#FF6692\",\"size\":[0.0,18.88,8.297],\"sizemode\":\"area\",\"sizeref\":1.432,\"symbol\":\"circle\"},\"mode\":\"markers\",\"name\":\"Commercial Services\",\"orientation\":\"v\",\"showlegend\":true,\"x\":[485.5255,369.3645,121.5524],\"xaxis\":\"x\",\"y\":[0.0,8.69,3.024],\"yaxis\":\"y\",\"type\":\"scatter\"},{\"hovertemplate\":\"\\u003cb\\u003e%{hovertext}\\u003c\\u002fb\\u003e\\u003cbr\\u003e\\u003cbr\\u003esector=Health Services\\u003cbr\\u003eMarket Cap=%{x}\\u003cbr\\u003eNet Income=%{y}\\u003cbr\\u003erevenue=%{marker.size}\\u003cextra\\u003e\\u003c\\u002fextra\\u003e\",\"hovertext\":[\"UnitedHealth Group Incorporated\",\"Elevance Health, Inc.\",\"The Cigna Group\"],\"legendgroup\":\"Health Services\",\"marker\":{\"color\":\"#B6E880\",\"size\":[285.273,136.9,174.1],\"sizemode\":\"area\",\"sizeref\":1.432,\"symbol\":\"circle\"},\"mode\":\"markers\",\"name\":\"Health Services\",\"orientation\":\"v\",\"showlegend\":true,\"x\":[461.7075,109.0531,81.6935],\"xaxis\":\"x\",\"y\":[17.285,6.1,5.4],\"yaxis\":\"y\",\"type\":\"scatter\"},{\"hovertemplate\":\"\\u003cb\\u003e%{hovertext}\\u003c\\u002fb\\u003e\\u003cbr\\u003e\\u003cbr\\u003esector=Energy Minerals\\u003cbr\\u003eMarket Cap=%{x}\\u003cbr\\u003eNet Income=%{y}\\u003cbr\\u003erevenue=%{marker.size}\\u003cextra\\u003e\\u003c\\u002fextra\\u003e\",\"hovertext\":[\"Exxon Mobil Corporation\",\"Chevron Corporation\",\"ConocoPhillips\"],\"legendgroup\":\"Energy Minerals\",\"marker\":{\"color\":\"#FF97FF\",\"size\":[276.692,162.47,45.83],\"sizemode\":\"area\",\"sizeref\":1.432,\"symbol\":\"circle\"},\"mode\":\"markers\",\"name\":\"Energy Minerals\",\"orientation\":\"v\",\"showlegend\":true,\"x\":[440.5113,306.9325,140.4537],\"xaxis\":\"x\",\"y\":[23.04,15.63,8.08],\"yaxis\":\"y\",\"type\":\"scatter\"},{\"hovertemplate\":\"\\u003cb\\u003e%{hovertext}\\u003c\\u002fb\\u003e\\u003cbr\\u003e\\u003cbr\\u003esector=Consumer Non-Durables\\u003cbr\\u003eMarket Cap=%{x}\\u003cbr\\u003eNet Income=%{y}\\u003cbr\\u003erevenue=%{marker.size}\\u003cextra\\u003e\\u003c\\u002fextra\\u003e\",\"hovertext\":[\"Procter & Gamble Company (The)\",\"Coca-Cola Company (The)\",\"PepsiCo, Inc.\",\"Nike, Inc.\",\"Philip Morris International Inc\",\"Mondelez International, Inc.\"],\"legendgroup\":\"Consumer Non-Durables\",\"marker\":{\"color\":\"#FECB52\",\"size\":[0.0,37.27,70.37,0.0,31.405,28.72],\"sizemode\":\"area\",\"sizeref\":1.432,\"symbol\":\"circle\"},\"mode\":\"markers\",\"name\":\"Consumer Non-Durables\",\"orientation\":\"v\",\"showlegend\":true,\"x\":[359.5835,263.5688,245.2791,160.3671,146.4793,96.7665],\"xaxis\":\"x\",\"y\":[0.0,8.92,7.353,6.05,9.109,4.3],\"yaxis\":\"y\",\"type\":\"scatter\"},{\"hovertemplate\":\"\\u003cb\\u003e%{hovertext}\\u003c\\u002fb\\u003e\\u003cbr\\u003e\\u003cbr\\u003esector=Consumer Services\\u003cbr\\u003eMarket Cap=%{x}\\u003cbr\\u003eNet Income=%{y}\\u003cbr\\u003erevenue=%{marker.size}\\u003cextra\\u003e\\u003c\\u002fextra\\u003e\",\"hovertext\":[\"McDonald\\u2019s Corporation\",\"Comcast Corporation\",\"Walt Disney Company (The)\",\"Starbucks Corporation\",\"Booking Holdings Inc. Common Stock\"],\"legendgroup\":\"Consumer Services\",\"marker\":{\"color\":\"#636efa\",\"size\":[0.0,116.39,82.722,0.0,10.96],\"sizemode\":\"area\",\"sizeref\":1.432,\"symbol\":\"circle\"},\"mode\":\"markers\",\"name\":\"Consumer Services\",\"orientation\":\"v\",\"showlegend\":true,\"x\":[205.3218,188.7661,157.0751,111.3672,109.162],\"xaxis\":\"x\",\"y\":[7.545,14.16,3.145,0.0,1.17],\"yaxis\":\"y\",\"type\":\"scatter\"},{\"hovertemplate\":\"\\u003cb\\u003e%{hovertext}\\u003c\\u002fb\\u003e\\u003cbr\\u003e\\u003cbr\\u003esector=Process Industries\\u003cbr\\u003eMarket Cap=%{x}\\u003cbr\\u003eNet Income=%{y}\\u003cbr\\u003erevenue=%{marker.size}\\u003cextra\\u003e\\u003c\\u002fextra\\u003e\",\"hovertext\":[\"Linde plc\"],\"legendgroup\":\"Process Industries\",\"marker\":{\"color\":\"#EF553B\",\"size\":[0.0],\"sizemode\":\"area\",\"sizeref\":1.432,\"symbol\":\"circle\"},\"mode\":\"markers\",\"name\":\"Process Industries\",\"orientation\":\"v\",\"showlegend\":true,\"x\":[183.0285],\"xaxis\":\"x\",\"y\":[0.0],\"yaxis\":\"y\",\"type\":\"scatter\"},{\"hovertemplate\":\"\\u003cb\\u003e%{hovertext}\\u003c\\u002fb\\u003e\\u003cbr\\u003e\\u003cbr\\u003esector=Communications\\u003cbr\\u003eMarket Cap=%{x}\\u003cbr\\u003eNet Income=%{y}\\u003cbr\\u003erevenue=%{marker.size}\\u003cextra\\u003e\\u003c\\u002fextra\\u003e\",\"hovertext\":[\"T-Mobile US, Inc.\",\"Verizon Communications Inc.\",\"AT&T Inc.\"],\"legendgroup\":\"Communications\",\"marker\":{\"color\":\"#00cc96\",\"size\":[68.397,0.0,0.0],\"sizemode\":\"area\",\"sizeref\":1.432,\"symbol\":\"circle\"},\"mode\":\"markers\",\"name\":\"Communications\",\"orientation\":\"v\",\"showlegend\":true,\"x\":[160.1629,139.4901,100.4435],\"xaxis\":\"x\",\"y\":[3.468,0.0,20.08],\"yaxis\":\"y\",\"type\":\"scatter\"},{\"hovertemplate\":\"\\u003cb\\u003e%{hovertext}\\u003c\\u002fb\\u003e\\u003cbr\\u003e\\u003cbr\\u003esector=Transportation\\u003cbr\\u003eMarket Cap=%{x}\\u003cbr\\u003eNet Income=%{y}\\u003cbr\\u003erevenue=%{marker.size}\\u003cextra\\u003e\\u003c\\u002fextra\\u003e\",\"hovertext\":[\"United Parcel Service, Inc.\",\"Union Pacific Corporation\"],\"legendgroup\":\"Transportation\",\"marker\":{\"color\":\"#ab63fa\",\"size\":[97.29,21.8],\"sizemode\":\"area\",\"sizeref\":1.432,\"symbol\":\"circle\"},\"mode\":\"markers\",\"name\":\"Transportation\",\"orientation\":\"v\",\"showlegend\":true,\"x\":[146.4574,137.2861],\"xaxis\":\"x\",\"y\":[12.89,6.5],\"yaxis\":\"y\",\"type\":\"scatter\"},{\"hovertemplate\":\"\\u003cb\\u003e%{hovertext}\\u003c\\u002fb\\u003e\\u003cbr\\u003e\\u003cbr\\u003esector=Producer Manufacturing\\u003cbr\\u003eMarket Cap=%{x}\\u003cbr\\u003eNet Income=%{y}\\u003cbr\\u003erevenue=%{marker.size}\\u003cextra\\u003e\\u003c\\u002fextra\\u003e\",\"hovertext\":[\"Caterpillar, Inc.\",\"General Electric Company\",\"Applied Materials, Inc.\",\"Deere & Company\",\"Lam Research Corporation\",\"Eaton Corporation, PLC\"],\"legendgroup\":\"Producer Manufacturing\",\"marker\":{\"color\":\"#FFA15A\",\"size\":[48.19,0.0,23.06,39.54,17.23,0.0],\"sizemode\":\"area\",\"sizeref\":1.432,\"symbol\":\"circle\"},\"mode\":\"markers\",\"name\":\"Producer Manufacturing\",\"orientation\":\"v\",\"showlegend\":true,\"x\":[139.6772,121.6698,119.7984,116.4032,86.5222,85.6454],\"xaxis\":\"x\",\"y\":[6.49,0.0,5.89,2.751,6.61,0.0],\"yaxis\":\"y\",\"type\":\"scatter\"},{\"hovertemplate\":\"\\u003cb\\u003e%{hovertext}\\u003c\\u002fb\\u003e\\u003cbr\\u003e\\u003cbr\\u003esector=Utilities\\u003cbr\\u003eMarket Cap=%{x}\\u003cbr\\u003eNet Income=%{y}\\u003cbr\\u003erevenue=%{marker.size}\\u003cextra\\u003e\\u003c\\u002fextra\\u003e\",\"hovertext\":[\"NextEra Energy, Inc.\"],\"legendgroup\":\"Utilities\",\"marker\":{\"color\":\"#19d3f3\",\"size\":[17.07],\"sizemode\":\"area\",\"sizeref\":1.432,\"symbol\":\"circle\"},\"mode\":\"markers\",\"name\":\"Utilities\",\"orientation\":\"v\",\"showlegend\":true,\"x\":[137.2685],\"xaxis\":\"x\",\"y\":[2.37],\"yaxis\":\"y\",\"type\":\"scatter\"},{\"hovertemplate\":\"\\u003cb\\u003e%{hovertext}\\u003c\\u002fb\\u003e\\u003cbr\\u003e\\u003cbr\\u003esector=Industrial Services\\u003cbr\\u003eMarket Cap=%{x}\\u003cbr\\u003eNet Income=%{y}\\u003cbr\\u003erevenue=%{marker.size}\\u003cextra\\u003e\\u003c\\u002fextra\\u003e\",\"hovertext\":[\"Schlumberger N.V.\"],\"legendgroup\":\"Industrial Services\",\"marker\":{\"color\":\"#FF6692\",\"size\":[23.601],\"sizemode\":\"area\",\"sizeref\":1.432,\"symbol\":\"circle\"},\"mode\":\"markers\",\"name\":\"Industrial Services\",\"orientation\":\"v\",\"showlegend\":true,\"x\":[82.4714],\"xaxis\":\"x\",\"y\":[-10.518],\"yaxis\":\"y\",\"type\":\"scatter\"}],                        {\"template\":{\"data\":{\"barpolar\":[{\"marker\":{\"line\":{\"color\":\"white\",\"width\":0.5},\"pattern\":{\"fillmode\":\"overlay\",\"size\":10,\"solidity\":0.2}},\"type\":\"barpolar\"}],\"bar\":[{\"error_x\":{\"color\":\"#2a3f5f\"},\"error_y\":{\"color\":\"#2a3f5f\"},\"marker\":{\"line\":{\"color\":\"white\",\"width\":0.5},\"pattern\":{\"fillmode\":\"overlay\",\"size\":10,\"solidity\":0.2}},\"type\":\"bar\"}],\"carpet\":[{\"aaxis\":{\"endlinecolor\":\"#2a3f5f\",\"gridcolor\":\"#C8D4E3\",\"linecolor\":\"#C8D4E3\",\"minorgridcolor\":\"#C8D4E3\",\"startlinecolor\":\"#2a3f5f\"},\"baxis\":{\"endlinecolor\":\"#2a3f5f\",\"gridcolor\":\"#C8D4E3\",\"linecolor\":\"#C8D4E3\",\"minorgridcolor\":\"#C8D4E3\",\"startlinecolor\":\"#2a3f5f\"},\"type\":\"carpet\"}],\"choropleth\":[{\"colorbar\":{\"outlinewidth\":0,\"ticks\":\"\"},\"type\":\"choropleth\"}],\"contourcarpet\":[{\"colorbar\":{\"outlinewidth\":0,\"ticks\":\"\"},\"type\":\"contourcarpet\"}],\"contour\":[{\"colorbar\":{\"outlinewidth\":0,\"ticks\":\"\"},\"colorscale\":[[0.0,\"#0d0887\"],[0.1111111111111111,\"#46039f\"],[0.2222222222222222,\"#7201a8\"],[0.3333333333333333,\"#9c179e\"],[0.4444444444444444,\"#bd3786\"],[0.5555555555555556,\"#d8576b\"],[0.6666666666666666,\"#ed7953\"],[0.7777777777777778,\"#fb9f3a\"],[0.8888888888888888,\"#fdca26\"],[1.0,\"#f0f921\"]],\"type\":\"contour\"}],\"heatmapgl\":[{\"colorbar\":{\"outlinewidth\":0,\"ticks\":\"\"},\"colorscale\":[[0.0,\"#0d0887\"],[0.1111111111111111,\"#46039f\"],[0.2222222222222222,\"#7201a8\"],[0.3333333333333333,\"#9c179e\"],[0.4444444444444444,\"#bd3786\"],[0.5555555555555556,\"#d8576b\"],[0.6666666666666666,\"#ed7953\"],[0.7777777777777778,\"#fb9f3a\"],[0.8888888888888888,\"#fdca26\"],[1.0,\"#f0f921\"]],\"type\":\"heatmapgl\"}],\"heatmap\":[{\"colorbar\":{\"outlinewidth\":0,\"ticks\":\"\"},\"colorscale\":[[0.0,\"#0d0887\"],[0.1111111111111111,\"#46039f\"],[0.2222222222222222,\"#7201a8\"],[0.3333333333333333,\"#9c179e\"],[0.4444444444444444,\"#bd3786\"],[0.5555555555555556,\"#d8576b\"],[0.6666666666666666,\"#ed7953\"],[0.7777777777777778,\"#fb9f3a\"],[0.8888888888888888,\"#fdca26\"],[1.0,\"#f0f921\"]],\"type\":\"heatmap\"}],\"histogram2dcontour\":[{\"colorbar\":{\"outlinewidth\":0,\"ticks\":\"\"},\"colorscale\":[[0.0,\"#0d0887\"],[0.1111111111111111,\"#46039f\"],[0.2222222222222222,\"#7201a8\"],[0.3333333333333333,\"#9c179e\"],[0.4444444444444444,\"#bd3786\"],[0.5555555555555556,\"#d8576b\"],[0.6666666666666666,\"#ed7953\"],[0.7777777777777778,\"#fb9f3a\"],[0.8888888888888888,\"#fdca26\"],[1.0,\"#f0f921\"]],\"type\":\"histogram2dcontour\"}],\"histogram2d\":[{\"colorbar\":{\"outlinewidth\":0,\"ticks\":\"\"},\"colorscale\":[[0.0,\"#0d0887\"],[0.1111111111111111,\"#46039f\"],[0.2222222222222222,\"#7201a8\"],[0.3333333333333333,\"#9c179e\"],[0.4444444444444444,\"#bd3786\"],[0.5555555555555556,\"#d8576b\"],[0.6666666666666666,\"#ed7953\"],[0.7777777777777778,\"#fb9f3a\"],[0.8888888888888888,\"#fdca26\"],[1.0,\"#f0f921\"]],\"type\":\"histogram2d\"}],\"histogram\":[{\"marker\":{\"pattern\":{\"fillmode\":\"overlay\",\"size\":10,\"solidity\":0.2}},\"type\":\"histogram\"}],\"mesh3d\":[{\"colorbar\":{\"outlinewidth\":0,\"ticks\":\"\"},\"type\":\"mesh3d\"}],\"parcoords\":[{\"line\":{\"colorbar\":{\"outlinewidth\":0,\"ticks\":\"\"}},\"type\":\"parcoords\"}],\"pie\":[{\"automargin\":true,\"type\":\"pie\"}],\"scatter3d\":[{\"line\":{\"colorbar\":{\"outlinewidth\":0,\"ticks\":\"\"}},\"marker\":{\"colorbar\":{\"outlinewidth\":0,\"ticks\":\"\"}},\"type\":\"scatter3d\"}],\"scattercarpet\":[{\"marker\":{\"colorbar\":{\"outlinewidth\":0,\"ticks\":\"\"}},\"type\":\"scattercarpet\"}],\"scattergeo\":[{\"marker\":{\"colorbar\":{\"outlinewidth\":0,\"ticks\":\"\"}},\"type\":\"scattergeo\"}],\"scattergl\":[{\"marker\":{\"colorbar\":{\"outlinewidth\":0,\"ticks\":\"\"}},\"type\":\"scattergl\"}],\"scattermapbox\":[{\"marker\":{\"colorbar\":{\"outlinewidth\":0,\"ticks\":\"\"}},\"type\":\"scattermapbox\"}],\"scatterpolargl\":[{\"marker\":{\"colorbar\":{\"outlinewidth\":0,\"ticks\":\"\"}},\"type\":\"scatterpolargl\"}],\"scatterpolar\":[{\"marker\":{\"colorbar\":{\"outlinewidth\":0,\"ticks\":\"\"}},\"type\":\"scatterpolar\"}],\"scatter\":[{\"fillpattern\":{\"fillmode\":\"overlay\",\"size\":10,\"solidity\":0.2},\"type\":\"scatter\"}],\"scatterternary\":[{\"marker\":{\"colorbar\":{\"outlinewidth\":0,\"ticks\":\"\"}},\"type\":\"scatterternary\"}],\"surface\":[{\"colorbar\":{\"outlinewidth\":0,\"ticks\":\"\"},\"colorscale\":[[0.0,\"#0d0887\"],[0.1111111111111111,\"#46039f\"],[0.2222222222222222,\"#7201a8\"],[0.3333333333333333,\"#9c179e\"],[0.4444444444444444,\"#bd3786\"],[0.5555555555555556,\"#d8576b\"],[0.6666666666666666,\"#ed7953\"],[0.7777777777777778,\"#fb9f3a\"],[0.8888888888888888,\"#fdca26\"],[1.0,\"#f0f921\"]],\"type\":\"surface\"}],\"table\":[{\"cells\":{\"fill\":{\"color\":\"#EBF0F8\"},\"line\":{\"color\":\"white\"}},\"header\":{\"fill\":{\"color\":\"#C8D4E3\"},\"line\":{\"color\":\"white\"}},\"type\":\"table\"}]},\"layout\":{\"annotationdefaults\":{\"arrowcolor\":\"#2a3f5f\",\"arrowhead\":0,\"arrowwidth\":1},\"autotypenumbers\":\"strict\",\"coloraxis\":{\"colorbar\":{\"outlinewidth\":0,\"ticks\":\"\"}},\"colorscale\":{\"diverging\":[[0,\"#8e0152\"],[0.1,\"#c51b7d\"],[0.2,\"#de77ae\"],[0.3,\"#f1b6da\"],[0.4,\"#fde0ef\"],[0.5,\"#f7f7f7\"],[0.6,\"#e6f5d0\"],[0.7,\"#b8e186\"],[0.8,\"#7fbc41\"],[0.9,\"#4d9221\"],[1,\"#276419\"]],\"sequential\":[[0.0,\"#0d0887\"],[0.1111111111111111,\"#46039f\"],[0.2222222222222222,\"#7201a8\"],[0.3333333333333333,\"#9c179e\"],[0.4444444444444444,\"#bd3786\"],[0.5555555555555556,\"#d8576b\"],[0.6666666666666666,\"#ed7953\"],[0.7777777777777778,\"#fb9f3a\"],[0.8888888888888888,\"#fdca26\"],[1.0,\"#f0f921\"]],\"sequentialminus\":[[0.0,\"#0d0887\"],[0.1111111111111111,\"#46039f\"],[0.2222222222222222,\"#7201a8\"],[0.3333333333333333,\"#9c179e\"],[0.4444444444444444,\"#bd3786\"],[0.5555555555555556,\"#d8576b\"],[0.6666666666666666,\"#ed7953\"],[0.7777777777777778,\"#fb9f3a\"],[0.8888888888888888,\"#fdca26\"],[1.0,\"#f0f921\"]]},\"colorway\":[\"#636efa\",\"#EF553B\",\"#00cc96\",\"#ab63fa\",\"#FFA15A\",\"#19d3f3\",\"#FF6692\",\"#B6E880\",\"#FF97FF\",\"#FECB52\"],\"font\":{\"color\":\"#2a3f5f\"},\"geo\":{\"bgcolor\":\"white\",\"lakecolor\":\"white\",\"landcolor\":\"white\",\"showlakes\":true,\"showland\":true,\"subunitcolor\":\"#C8D4E3\"},\"hoverlabel\":{\"align\":\"left\"},\"hovermode\":\"closest\",\"mapbox\":{\"style\":\"light\"},\"paper_bgcolor\":\"white\",\"plot_bgcolor\":\"white\",\"polar\":{\"angularaxis\":{\"gridcolor\":\"#EBF0F8\",\"linecolor\":\"#EBF0F8\",\"ticks\":\"\"},\"bgcolor\":\"white\",\"radialaxis\":{\"gridcolor\":\"#EBF0F8\",\"linecolor\":\"#EBF0F8\",\"ticks\":\"\"}},\"scene\":{\"xaxis\":{\"backgroundcolor\":\"white\",\"gridcolor\":\"#DFE8F3\",\"gridwidth\":2,\"linecolor\":\"#EBF0F8\",\"showbackground\":true,\"ticks\":\"\",\"zerolinecolor\":\"#EBF0F8\"},\"yaxis\":{\"backgroundcolor\":\"white\",\"gridcolor\":\"#DFE8F3\",\"gridwidth\":2,\"linecolor\":\"#EBF0F8\",\"showbackground\":true,\"ticks\":\"\",\"zerolinecolor\":\"#EBF0F8\"},\"zaxis\":{\"backgroundcolor\":\"white\",\"gridcolor\":\"#DFE8F3\",\"gridwidth\":2,\"linecolor\":\"#EBF0F8\",\"showbackground\":true,\"ticks\":\"\",\"zerolinecolor\":\"#EBF0F8\"}},\"shapedefaults\":{\"line\":{\"color\":\"#2a3f5f\"}},\"ternary\":{\"aaxis\":{\"gridcolor\":\"#DFE8F3\",\"linecolor\":\"#A2B1C6\",\"ticks\":\"\"},\"baxis\":{\"gridcolor\":\"#DFE8F3\",\"linecolor\":\"#A2B1C6\",\"ticks\":\"\"},\"bgcolor\":\"white\",\"caxis\":{\"gridcolor\":\"#DFE8F3\",\"linecolor\":\"#A2B1C6\",\"ticks\":\"\"}},\"title\":{\"x\":0.05},\"xaxis\":{\"automargin\":true,\"gridcolor\":\"#EBF0F8\",\"linecolor\":\"#EBF0F8\",\"ticks\":\"\",\"title\":{\"standoff\":15},\"zerolinecolor\":\"#EBF0F8\",\"zerolinewidth\":2},\"yaxis\":{\"automargin\":true,\"gridcolor\":\"#EBF0F8\",\"linecolor\":\"#EBF0F8\",\"ticks\":\"\",\"title\":{\"standoff\":15},\"zerolinecolor\":\"#EBF0F8\",\"zerolinewidth\":2}}},\"xaxis\":{\"anchor\":\"y\",\"domain\":[0.0,1.0],\"title\":{\"text\":\"Market Cap\"}},\"yaxis\":{\"anchor\":\"x\",\"domain\":[0.0,1.0],\"title\":{\"text\":\"Net Income\"}},\"legend\":{\"title\":{\"text\":\"sector\"},\"tracegroupgap\":0,\"itemsizing\":\"constant\"},\"title\":{\"text\":\"Market Cap vs. Net Income by Sector and Revenue\"}},                        {\"responsive\": true}                    ).then(function(){\n",
       "                            \n",
       "var gd = document.getElementById('77a78b42-b183-4db6-bbd5-7dc02c321829');\n",
       "var x = new MutationObserver(function (mutations, observer) {{\n",
       "        var display = window.getComputedStyle(gd).display;\n",
       "        if (!display || display === 'none') {{\n",
       "            console.log([gd, 'removed!']);\n",
       "            Plotly.purge(gd);\n",
       "            observer.disconnect();\n",
       "        }}\n",
       "}});\n",
       "\n",
       "// Listen for the removal of the full notebook cells\n",
       "var notebookContainer = gd.closest('#notebook-container');\n",
       "if (notebookContainer) {{\n",
       "    x.observe(notebookContainer, {childList: true});\n",
       "}}\n",
       "\n",
       "// Listen for the clearing of the current output cell\n",
       "var outputEl = gd.closest('.output');\n",
       "if (outputEl) {{\n",
       "    x.observe(outputEl, {childList: true});\n",
       "}}\n",
       "\n",
       "                        })                };                });            </script>        </div>"
      ]
     },
     "metadata": {},
     "output_type": "display_data"
    }
   ],
   "source": [
    "# Replace NaN values in 'equity' with a default value, e.g., the mean or a small number\n",
    "\n",
    "scatter_marketcap_vs_income = df_merged.fillna(0).sort_values(by='market_cap', ascending=False).head(100)\n",
    "# Now, creating the scatter plot with Plotly\n",
    "fig = px.scatter(scatter_marketcap_vs_income,\n",
    "                 x='market_cap',\n",
    "                 y='net_income',\n",
    "                 size='revenue',\n",
    "                 color='sector',\n",
    "                 hover_name='company_name',\n",
    "                 labels={'market_cap': 'Market Cap', 'net_income': 'Net Income', 'equity': 'Equity'},\n",
    "                 title='Market Cap vs. Net Income by Sector and Revenue',\n",
    "                 template='plotly_white')\n",
    "\n",
    "fig.show()"
   ]
  },
  {
   "cell_type": "code",
   "execution_count": 101,
   "id": "e69f7f92-98dd-48b9-9b3c-254af4530d69",
   "metadata": {},
   "outputs": [
    {
     "name": "stdout",
     "output_type": "stream",
     "text": [
      " * sqlite:///sp500_stock_market_index_data.db\n",
      "Done.\n"
     ]
    },
    {
     "data": {
      "text/html": [
       "<table>\n",
       "    <thead>\n",
       "        <tr>\n",
       "            <th>index</th>\n",
       "            <th>symbol</th>\n",
       "            <th>company_name</th>\n",
       "            <th>sector</th>\n",
       "            <th>market_cap</th>\n",
       "            <th>revenue</th>\n",
       "            <th>net_income</th>\n",
       "            <th>assets</th>\n",
       "            <th>equity</th>\n",
       "            <th>num_of_employees</th>\n",
       "        </tr>\n",
       "    </thead>\n",
       "    <tbody>\n",
       "        <tr>\n",
       "            <td>94</td>\n",
       "            <td>SLB</td>\n",
       "            <td>Schlumberger N.V.</td>\n",
       "            <td>Industrial Services</td>\n",
       "            <td>82.4714</td>\n",
       "            <td>23.601</td>\n",
       "            <td>-10.518</td>\n",
       "            <td>42.434</td>\n",
       "            <td>12.489</td>\n",
       "            <td>86000.0</td>\n",
       "        </tr>\n",
       "        <tr>\n",
       "            <td>221</td>\n",
       "            <td>BKR</td>\n",
       "            <td>Baker Hughes Company</td>\n",
       "            <td>Industrial Services</td>\n",
       "            <td>35.6004</td>\n",
       "            <td>20.5</td>\n",
       "            <td>-0.219</td>\n",
       "            <td>35.31</td>\n",
       "            <td>16.75</td>\n",
       "            <td>54000.0</td>\n",
       "        </tr>\n",
       "        <tr>\n",
       "            <td>225</td>\n",
       "            <td>PCG</td>\n",
       "            <td>Pacific Gas &amp; Electric Co.</td>\n",
       "            <td>Utilities</td>\n",
       "            <td>34.9656</td>\n",
       "            <td>20.64</td>\n",
       "            <td>-0.102</td>\n",
       "            <td>103.33</td>\n",
       "            <td>20.97</td>\n",
       "            <td>26000.0</td>\n",
       "        </tr>\n",
       "        <tr>\n",
       "            <td>235</td>\n",
       "            <td>PRU</td>\n",
       "            <td>Prudential Financial, Inc.</td>\n",
       "            <td>Finance</td>\n",
       "            <td>33.6864</td>\n",
       "            <td>57.033</td>\n",
       "            <td>-0.374</td>\n",
       "            <td>940.722</td>\n",
       "            <td>68.21</td>\n",
       "            <td>41671.0</td>\n",
       "        </tr>\n",
       "        <tr>\n",
       "            <td>284</td>\n",
       "            <td>RCL</td>\n",
       "            <td>Royal Caribbean Cruises Ltd.</td>\n",
       "            <td>Consumer Services</td>\n",
       "            <td>25.4124</td>\n",
       "            <td>1.53</td>\n",
       "            <td>-5.26</td>\n",
       "            <td>32.26</td>\n",
       "            <td>5.09</td>\n",
       "            <td>85000.0</td>\n",
       "        </tr>\n",
       "        <tr>\n",
       "            <td>335</td>\n",
       "            <td>CCL</td>\n",
       "            <td>Carnival Corporation</td>\n",
       "            <td>Consumer Services</td>\n",
       "            <td>19.5395</td>\n",
       "            <td>1.908</td>\n",
       "            <td>-9.501</td>\n",
       "            <td>53.344</td>\n",
       "            <td>12.144</td>\n",
       "            <td>150000.0</td>\n",
       "        </tr>\n",
       "        <tr>\n",
       "            <td>338</td>\n",
       "            <td>LYV</td>\n",
       "            <td>Live Nation Entertainment, Inc.</td>\n",
       "            <td>Consumer Services</td>\n",
       "            <td>19.4225</td>\n",
       "            <td>1.861</td>\n",
       "            <td>-1.828</td>\n",
       "            <td>10.59</td>\n",
       "            <td>-0.1338</td>\n",
       "            <td>8200.0</td>\n",
       "        </tr>\n",
       "        <tr>\n",
       "            <td>445</td>\n",
       "            <td>CZR</td>\n",
       "            <td>Caesars Entertainment, Inc.</td>\n",
       "            <td>Consumer Services</td>\n",
       "            <td>11.2166</td>\n",
       "            <td>3.5</td>\n",
       "            <td>-1.8</td>\n",
       "            <td>36.4</td>\n",
       "            <td>5.0</td>\n",
       "            <td>54000.0</td>\n",
       "        </tr>\n",
       "        <tr>\n",
       "            <td>452</td>\n",
       "            <td>CDAY</td>\n",
       "            <td>Ceridian HCM Holding Inc.</td>\n",
       "            <td>Technology Services</td>\n",
       "            <td>10.8711</td>\n",
       "            <td>1.02</td>\n",
       "            <td>-0.0754</td>\n",
       "            <td>7.17</td>\n",
       "            <td>2.23</td>\n",
       "            <td>7462.0</td>\n",
       "        </tr>\n",
       "        <tr>\n",
       "            <td>463</td>\n",
       "            <td>AAL</td>\n",
       "            <td>American Airlines Group, Inc.</td>\n",
       "            <td>Transportation</td>\n",
       "            <td>9.8266</td>\n",
       "            <td>17.335</td>\n",
       "            <td>-8.45</td>\n",
       "            <td>62.008</td>\n",
       "            <td>-6.867</td>\n",
       "            <td>133700.0</td>\n",
       "        </tr>\n",
       "    </tbody>\n",
       "</table>"
      ],
      "text/plain": [
       "[(94, 'SLB', 'Schlumberger N.V.', 'Industrial Services', 82.4714, 23.601, -10.518, 42.434, 12.489, 86000.0),\n",
       " (221, 'BKR', 'Baker Hughes Company', 'Industrial Services', 35.6004, 20.5, -0.219, 35.31, 16.75, 54000.0),\n",
       " (225, 'PCG', 'Pacific Gas & Electric Co.', 'Utilities', 34.9656, 20.64, -0.102, 103.33, 20.97, 26000.0),\n",
       " (235, 'PRU', 'Prudential Financial, Inc.', 'Finance', 33.6864, 57.033, -0.374, 940.722, 68.21, 41671.0),\n",
       " (284, 'RCL', 'Royal Caribbean Cruises Ltd.', 'Consumer Services', 25.4124, 1.53, -5.26, 32.26, 5.09, 85000.0),\n",
       " (335, 'CCL', 'Carnival Corporation', 'Consumer Services', 19.5395, 1.908, -9.501, 53.344, 12.144, 150000.0),\n",
       " (338, 'LYV', 'Live Nation Entertainment, Inc.', 'Consumer Services', 19.4225, 1.861, -1.828, 10.59, -0.1338, 8200.0),\n",
       " (445, 'CZR', 'Caesars Entertainment, Inc.', 'Consumer Services', 11.2166, 3.5, -1.8, 36.4, 5.0, 54000.0),\n",
       " (452, 'CDAY', 'Ceridian HCM Holding Inc.', 'Technology Services', 10.8711, 1.02, -0.0754, 7.17, 2.23, 7462.0),\n",
       " (463, 'AAL', 'American Airlines Group, Inc.', 'Transportation', 9.8266, 17.335, -8.45, 62.008, -6.867, 133700.0)]"
      ]
     },
     "execution_count": 101,
     "metadata": {},
     "output_type": "execute_result"
    }
   ],
   "source": [
    "%%sql\n",
    "SELECT *\n",
    "FROM companies_merged\n",
    "WHERE market_cap <= 100 AND net_income < 0"
   ]
  },
  {
   "cell_type": "markdown",
   "id": "afcaf2b7-d365-4956-8534-4ae4c55c7fb9",
   "metadata": {},
   "source": [
    "According to our data there are there are 10 companies in the S&P 500 with a market capitalization with less than or equal to 100 billion dollars which have a **negative net income**.<br>\n",
    "Consumer Services are dominating in the loss race. There is also only 1 company belonging to Technology Services out of all S&P 500 companies."
   ]
  },
  {
   "cell_type": "markdown",
   "id": "de3de579-1289-442a-a985-c912a2c78398",
   "metadata": {},
   "source": [
    "Which companies with Market Capitalization more or equal to 100 billion have a negative net income ?"
   ]
  },
  {
   "cell_type": "code",
   "execution_count": 102,
   "id": "abd10c71-fa81-4403-8ff9-8b3a4e153b32",
   "metadata": {},
   "outputs": [
    {
     "name": "stdout",
     "output_type": "stream",
     "text": [
      " * sqlite:///sp500_stock_market_index_data.db\n",
      "Done.\n"
     ]
    },
    {
     "data": {
      "text/html": [
       "<table>\n",
       "    <thead>\n",
       "        <tr>\n",
       "            <th>index</th>\n",
       "            <th>symbol</th>\n",
       "            <th>company_name</th>\n",
       "            <th>sector</th>\n",
       "            <th>market_cap</th>\n",
       "            <th>revenue</th>\n",
       "            <th>net_income</th>\n",
       "            <th>assets</th>\n",
       "            <th>equity</th>\n",
       "            <th>num_of_employees</th>\n",
       "        </tr>\n",
       "    </thead>\n",
       "    <tbody>\n",
       "    </tbody>\n",
       "</table>"
      ],
      "text/plain": [
       "[]"
      ]
     },
     "execution_count": 102,
     "metadata": {},
     "output_type": "execute_result"
    }
   ],
   "source": [
    "%%sql\n",
    "SELECT *\n",
    "FROM companies_merged\n",
    "WHERE market_cap >= 100 AND net_income < 0"
   ]
  },
  {
   "cell_type": "markdown",
   "id": "d4ecc311-9c01-4267-b0ef-370159a086b3",
   "metadata": {},
   "source": [
    "It turns out there are no companies in the S&P 500 with a market capitalization with more than or equal to 100 billion dollars which have a **negative net income**."
   ]
  },
  {
   "cell_type": "markdown",
   "id": "a14e0c95-4698-47c4-9b44-7e5b966f00c6",
   "metadata": {},
   "source": [
    "### Time Series Charts"
   ]
  },
  {
   "cell_type": "code",
   "execution_count": 103,
   "id": "07911a91-9084-479d-87f6-52cecf5f8f26",
   "metadata": {
    "tags": []
   },
   "outputs": [],
   "source": [
    "import yfinance\n",
    "import datetime as dt"
   ]
  },
  {
   "cell_type": "code",
   "execution_count": 104,
   "id": "2f82a63b-227a-43ad-ac60-ae201a471d7d",
   "metadata": {
    "tags": []
   },
   "outputs": [
    {
     "data": {
      "text/html": [
       "<div>\n",
       "<style scoped>\n",
       "    .dataframe tbody tr th:only-of-type {\n",
       "        vertical-align: middle;\n",
       "    }\n",
       "\n",
       "    .dataframe tbody tr th {\n",
       "        vertical-align: top;\n",
       "    }\n",
       "\n",
       "    .dataframe thead th {\n",
       "        text-align: right;\n",
       "    }\n",
       "</style>\n",
       "<table border=\"1\" class=\"dataframe\">\n",
       "  <thead>\n",
       "    <tr style=\"text-align: right;\">\n",
       "      <th></th>\n",
       "      <th>Date</th>\n",
       "      <th>Close</th>\n",
       "      <th>Low</th>\n",
       "      <th>High</th>\n",
       "      <th>Open</th>\n",
       "    </tr>\n",
       "  </thead>\n",
       "  <tbody>\n",
       "    <tr>\n",
       "      <th>0</th>\n",
       "      <td>2023-11-21 00:00:00-05:00</td>\n",
       "      <td>190.639999</td>\n",
       "      <td>189.740005</td>\n",
       "      <td>191.520004</td>\n",
       "      <td>191.410004</td>\n",
       "    </tr>\n",
       "    <tr>\n",
       "      <th>1</th>\n",
       "      <td>2023-11-22 00:00:00-05:00</td>\n",
       "      <td>191.309998</td>\n",
       "      <td>190.830002</td>\n",
       "      <td>192.929993</td>\n",
       "      <td>191.490005</td>\n",
       "    </tr>\n",
       "    <tr>\n",
       "      <th>2</th>\n",
       "      <td>2023-11-24 00:00:00-05:00</td>\n",
       "      <td>189.970001</td>\n",
       "      <td>189.250000</td>\n",
       "      <td>190.899994</td>\n",
       "      <td>190.869995</td>\n",
       "    </tr>\n",
       "    <tr>\n",
       "      <th>3</th>\n",
       "      <td>2023-11-27 00:00:00-05:00</td>\n",
       "      <td>189.789993</td>\n",
       "      <td>188.899994</td>\n",
       "      <td>190.669998</td>\n",
       "      <td>189.919998</td>\n",
       "    </tr>\n",
       "    <tr>\n",
       "      <th>4</th>\n",
       "      <td>2023-11-28 00:00:00-05:00</td>\n",
       "      <td>190.399994</td>\n",
       "      <td>189.399994</td>\n",
       "      <td>191.080002</td>\n",
       "      <td>189.779999</td>\n",
       "    </tr>\n",
       "    <tr>\n",
       "      <th>5</th>\n",
       "      <td>2023-11-29 00:00:00-05:00</td>\n",
       "      <td>189.369995</td>\n",
       "      <td>188.970001</td>\n",
       "      <td>192.089996</td>\n",
       "      <td>190.899994</td>\n",
       "    </tr>\n",
       "    <tr>\n",
       "      <th>6</th>\n",
       "      <td>2023-11-30 00:00:00-05:00</td>\n",
       "      <td>189.949997</td>\n",
       "      <td>188.190002</td>\n",
       "      <td>190.320007</td>\n",
       "      <td>189.839996</td>\n",
       "    </tr>\n",
       "    <tr>\n",
       "      <th>7</th>\n",
       "      <td>2023-12-01 00:00:00-05:00</td>\n",
       "      <td>191.240005</td>\n",
       "      <td>189.229996</td>\n",
       "      <td>191.559998</td>\n",
       "      <td>190.330002</td>\n",
       "    </tr>\n",
       "    <tr>\n",
       "      <th>8</th>\n",
       "      <td>2023-12-04 00:00:00-05:00</td>\n",
       "      <td>189.429993</td>\n",
       "      <td>187.449997</td>\n",
       "      <td>190.050003</td>\n",
       "      <td>189.979996</td>\n",
       "    </tr>\n",
       "    <tr>\n",
       "      <th>9</th>\n",
       "      <td>2023-12-05 00:00:00-05:00</td>\n",
       "      <td>193.419998</td>\n",
       "      <td>190.179993</td>\n",
       "      <td>194.399994</td>\n",
       "      <td>190.210007</td>\n",
       "    </tr>\n",
       "  </tbody>\n",
       "</table>\n",
       "</div>"
      ],
      "text/plain": [
       "                       Date       Close         Low        High        Open\n",
       "0 2023-11-21 00:00:00-05:00  190.639999  189.740005  191.520004  191.410004\n",
       "1 2023-11-22 00:00:00-05:00  191.309998  190.830002  192.929993  191.490005\n",
       "2 2023-11-24 00:00:00-05:00  189.970001  189.250000  190.899994  190.869995\n",
       "3 2023-11-27 00:00:00-05:00  189.789993  188.899994  190.669998  189.919998\n",
       "4 2023-11-28 00:00:00-05:00  190.399994  189.399994  191.080002  189.779999\n",
       "5 2023-11-29 00:00:00-05:00  189.369995  188.970001  192.089996  190.899994\n",
       "6 2023-11-30 00:00:00-05:00  189.949997  188.190002  190.320007  189.839996\n",
       "7 2023-12-01 00:00:00-05:00  191.240005  189.229996  191.559998  190.330002\n",
       "8 2023-12-04 00:00:00-05:00  189.429993  187.449997  190.050003  189.979996\n",
       "9 2023-12-05 00:00:00-05:00  193.419998  190.179993  194.399994  190.210007"
      ]
     },
     "execution_count": 104,
     "metadata": {},
     "output_type": "execute_result"
    }
   ],
   "source": [
    "prices_past_30_days = yfinance.Ticker('AAPL').history()[['Close', 'Low', 'High', 'Open']].reset_index()\n",
    "prices_past_30_days[:10]"
   ]
  },
  {
   "cell_type": "code",
   "execution_count": 105,
   "id": "541d9a13-386c-4c0a-b046-9f864a8b4111",
   "metadata": {},
   "outputs": [],
   "source": [
    "prices_past_30_days = pd.concat([prices_past_30_days.Date.dt.date, prices_past_30_days[['Open', 'Low', 'High', 'Close']]], axis=1)"
   ]
  },
  {
   "cell_type": "code",
   "execution_count": 106,
   "id": "cf9f0361-7e8a-4575-a4c2-b5de098bce1f",
   "metadata": {
    "tags": []
   },
   "outputs": [
    {
     "data": {
      "application/vnd.plotly.v1+json": {
       "config": {
        "plotlyServerURL": "https://plot.ly"
       },
       "data": [
        {
         "close": [
          190.63999938964844,
          191.30999755859375,
          189.97000122070312,
          189.7899932861328,
          190.39999389648438,
          189.3699951171875,
          189.9499969482422,
          191.24000549316406,
          189.42999267578125,
          193.4199981689453,
          192.32000732421875,
          194.27000427246094,
          195.7100067138672,
          193.17999267578125,
          194.7100067138672,
          197.9600067138672,
          198.11000061035156,
          197.57000732421875,
          195.88999938964844,
          196.94000244140625,
          194.8300018310547,
          193.9687042236328
         ],
         "high": [
          191.52000427246094,
          192.92999267578125,
          190.89999389648438,
          190.6699981689453,
          191.0800018310547,
          192.08999633789062,
          190.32000732421875,
          191.55999755859375,
          190.0500030517578,
          194.39999389648438,
          194.75999450683594,
          195,
          195.99000549316406,
          193.49000549316406,
          194.72000122070312,
          198,
          199.6199951171875,
          198.39999389648438,
          196.6300048828125,
          196.9499969482422,
          197.67999267578125,
          197.07989501953125
         ],
         "low": [
          189.74000549316406,
          190.8300018310547,
          189.25,
          188.89999389648438,
          189.39999389648438,
          188.97000122070312,
          188.19000244140625,
          189.22999572753906,
          187.4499969482422,
          190.17999267578125,
          192.11000061035156,
          193.58999633789062,
          193.6699981689453,
          191.4199981689453,
          191.72000122070312,
          194.85000610351562,
          196.16000366210938,
          197,
          194.38999938964844,
          195.88999938964844,
          194.8300018310547,
          193.50999450683594
         ],
         "open": [
          191.41000366210938,
          191.49000549316406,
          190.8699951171875,
          189.9199981689453,
          189.77999877929688,
          190.89999389648438,
          189.83999633789062,
          190.3300018310547,
          189.97999572753906,
          190.2100067138672,
          194.4499969482422,
          193.6300048828125,
          194.1999969482422,
          193.11000061035156,
          193.0800018310547,
          195.08999633789062,
          198.02000427246094,
          197.52999877929688,
          196.08999633789062,
          196.16000366210938,
          196.89999389648438,
          196.10000610351562
         ],
         "type": "candlestick",
         "x": [
          "2023-11-21",
          "2023-11-22",
          "2023-11-24",
          "2023-11-27",
          "2023-11-28",
          "2023-11-29",
          "2023-11-30",
          "2023-12-01",
          "2023-12-04",
          "2023-12-05",
          "2023-12-06",
          "2023-12-07",
          "2023-12-08",
          "2023-12-11",
          "2023-12-12",
          "2023-12-13",
          "2023-12-14",
          "2023-12-15",
          "2023-12-18",
          "2023-12-19",
          "2023-12-20",
          "2023-12-21"
         ]
        }
       ],
       "layout": {
        "autosize": true,
        "template": {
         "data": {
          "bar": [
           {
            "error_x": {
             "color": "#2a3f5f"
            },
            "error_y": {
             "color": "#2a3f5f"
            },
            "marker": {
             "line": {
              "color": "#E5ECF6",
              "width": 0.5
             },
             "pattern": {
              "fillmode": "overlay",
              "size": 10,
              "solidity": 0.2
             }
            },
            "type": "bar"
           }
          ],
          "barpolar": [
           {
            "marker": {
             "line": {
              "color": "#E5ECF6",
              "width": 0.5
             },
             "pattern": {
              "fillmode": "overlay",
              "size": 10,
              "solidity": 0.2
             }
            },
            "type": "barpolar"
           }
          ],
          "carpet": [
           {
            "aaxis": {
             "endlinecolor": "#2a3f5f",
             "gridcolor": "white",
             "linecolor": "white",
             "minorgridcolor": "white",
             "startlinecolor": "#2a3f5f"
            },
            "baxis": {
             "endlinecolor": "#2a3f5f",
             "gridcolor": "white",
             "linecolor": "white",
             "minorgridcolor": "white",
             "startlinecolor": "#2a3f5f"
            },
            "type": "carpet"
           }
          ],
          "choropleth": [
           {
            "colorbar": {
             "outlinewidth": 0,
             "ticks": ""
            },
            "type": "choropleth"
           }
          ],
          "contour": [
           {
            "colorbar": {
             "outlinewidth": 0,
             "ticks": ""
            },
            "colorscale": [
             [
              0,
              "#0d0887"
             ],
             [
              0.1111111111111111,
              "#46039f"
             ],
             [
              0.2222222222222222,
              "#7201a8"
             ],
             [
              0.3333333333333333,
              "#9c179e"
             ],
             [
              0.4444444444444444,
              "#bd3786"
             ],
             [
              0.5555555555555556,
              "#d8576b"
             ],
             [
              0.6666666666666666,
              "#ed7953"
             ],
             [
              0.7777777777777778,
              "#fb9f3a"
             ],
             [
              0.8888888888888888,
              "#fdca26"
             ],
             [
              1,
              "#f0f921"
             ]
            ],
            "type": "contour"
           }
          ],
          "contourcarpet": [
           {
            "colorbar": {
             "outlinewidth": 0,
             "ticks": ""
            },
            "type": "contourcarpet"
           }
          ],
          "heatmap": [
           {
            "colorbar": {
             "outlinewidth": 0,
             "ticks": ""
            },
            "colorscale": [
             [
              0,
              "#0d0887"
             ],
             [
              0.1111111111111111,
              "#46039f"
             ],
             [
              0.2222222222222222,
              "#7201a8"
             ],
             [
              0.3333333333333333,
              "#9c179e"
             ],
             [
              0.4444444444444444,
              "#bd3786"
             ],
             [
              0.5555555555555556,
              "#d8576b"
             ],
             [
              0.6666666666666666,
              "#ed7953"
             ],
             [
              0.7777777777777778,
              "#fb9f3a"
             ],
             [
              0.8888888888888888,
              "#fdca26"
             ],
             [
              1,
              "#f0f921"
             ]
            ],
            "type": "heatmap"
           }
          ],
          "heatmapgl": [
           {
            "colorbar": {
             "outlinewidth": 0,
             "ticks": ""
            },
            "colorscale": [
             [
              0,
              "#0d0887"
             ],
             [
              0.1111111111111111,
              "#46039f"
             ],
             [
              0.2222222222222222,
              "#7201a8"
             ],
             [
              0.3333333333333333,
              "#9c179e"
             ],
             [
              0.4444444444444444,
              "#bd3786"
             ],
             [
              0.5555555555555556,
              "#d8576b"
             ],
             [
              0.6666666666666666,
              "#ed7953"
             ],
             [
              0.7777777777777778,
              "#fb9f3a"
             ],
             [
              0.8888888888888888,
              "#fdca26"
             ],
             [
              1,
              "#f0f921"
             ]
            ],
            "type": "heatmapgl"
           }
          ],
          "histogram": [
           {
            "marker": {
             "pattern": {
              "fillmode": "overlay",
              "size": 10,
              "solidity": 0.2
             }
            },
            "type": "histogram"
           }
          ],
          "histogram2d": [
           {
            "colorbar": {
             "outlinewidth": 0,
             "ticks": ""
            },
            "colorscale": [
             [
              0,
              "#0d0887"
             ],
             [
              0.1111111111111111,
              "#46039f"
             ],
             [
              0.2222222222222222,
              "#7201a8"
             ],
             [
              0.3333333333333333,
              "#9c179e"
             ],
             [
              0.4444444444444444,
              "#bd3786"
             ],
             [
              0.5555555555555556,
              "#d8576b"
             ],
             [
              0.6666666666666666,
              "#ed7953"
             ],
             [
              0.7777777777777778,
              "#fb9f3a"
             ],
             [
              0.8888888888888888,
              "#fdca26"
             ],
             [
              1,
              "#f0f921"
             ]
            ],
            "type": "histogram2d"
           }
          ],
          "histogram2dcontour": [
           {
            "colorbar": {
             "outlinewidth": 0,
             "ticks": ""
            },
            "colorscale": [
             [
              0,
              "#0d0887"
             ],
             [
              0.1111111111111111,
              "#46039f"
             ],
             [
              0.2222222222222222,
              "#7201a8"
             ],
             [
              0.3333333333333333,
              "#9c179e"
             ],
             [
              0.4444444444444444,
              "#bd3786"
             ],
             [
              0.5555555555555556,
              "#d8576b"
             ],
             [
              0.6666666666666666,
              "#ed7953"
             ],
             [
              0.7777777777777778,
              "#fb9f3a"
             ],
             [
              0.8888888888888888,
              "#fdca26"
             ],
             [
              1,
              "#f0f921"
             ]
            ],
            "type": "histogram2dcontour"
           }
          ],
          "mesh3d": [
           {
            "colorbar": {
             "outlinewidth": 0,
             "ticks": ""
            },
            "type": "mesh3d"
           }
          ],
          "parcoords": [
           {
            "line": {
             "colorbar": {
              "outlinewidth": 0,
              "ticks": ""
             }
            },
            "type": "parcoords"
           }
          ],
          "pie": [
           {
            "automargin": true,
            "type": "pie"
           }
          ],
          "scatter": [
           {
            "fillpattern": {
             "fillmode": "overlay",
             "size": 10,
             "solidity": 0.2
            },
            "type": "scatter"
           }
          ],
          "scatter3d": [
           {
            "line": {
             "colorbar": {
              "outlinewidth": 0,
              "ticks": ""
             }
            },
            "marker": {
             "colorbar": {
              "outlinewidth": 0,
              "ticks": ""
             }
            },
            "type": "scatter3d"
           }
          ],
          "scattercarpet": [
           {
            "marker": {
             "colorbar": {
              "outlinewidth": 0,
              "ticks": ""
             }
            },
            "type": "scattercarpet"
           }
          ],
          "scattergeo": [
           {
            "marker": {
             "colorbar": {
              "outlinewidth": 0,
              "ticks": ""
             }
            },
            "type": "scattergeo"
           }
          ],
          "scattergl": [
           {
            "marker": {
             "colorbar": {
              "outlinewidth": 0,
              "ticks": ""
             }
            },
            "type": "scattergl"
           }
          ],
          "scattermapbox": [
           {
            "marker": {
             "colorbar": {
              "outlinewidth": 0,
              "ticks": ""
             }
            },
            "type": "scattermapbox"
           }
          ],
          "scatterpolar": [
           {
            "marker": {
             "colorbar": {
              "outlinewidth": 0,
              "ticks": ""
             }
            },
            "type": "scatterpolar"
           }
          ],
          "scatterpolargl": [
           {
            "marker": {
             "colorbar": {
              "outlinewidth": 0,
              "ticks": ""
             }
            },
            "type": "scatterpolargl"
           }
          ],
          "scatterternary": [
           {
            "marker": {
             "colorbar": {
              "outlinewidth": 0,
              "ticks": ""
             }
            },
            "type": "scatterternary"
           }
          ],
          "surface": [
           {
            "colorbar": {
             "outlinewidth": 0,
             "ticks": ""
            },
            "colorscale": [
             [
              0,
              "#0d0887"
             ],
             [
              0.1111111111111111,
              "#46039f"
             ],
             [
              0.2222222222222222,
              "#7201a8"
             ],
             [
              0.3333333333333333,
              "#9c179e"
             ],
             [
              0.4444444444444444,
              "#bd3786"
             ],
             [
              0.5555555555555556,
              "#d8576b"
             ],
             [
              0.6666666666666666,
              "#ed7953"
             ],
             [
              0.7777777777777778,
              "#fb9f3a"
             ],
             [
              0.8888888888888888,
              "#fdca26"
             ],
             [
              1,
              "#f0f921"
             ]
            ],
            "type": "surface"
           }
          ],
          "table": [
           {
            "cells": {
             "fill": {
              "color": "#EBF0F8"
             },
             "line": {
              "color": "white"
             }
            },
            "header": {
             "fill": {
              "color": "#C8D4E3"
             },
             "line": {
              "color": "white"
             }
            },
            "type": "table"
           }
          ]
         },
         "layout": {
          "annotationdefaults": {
           "arrowcolor": "#2a3f5f",
           "arrowhead": 0,
           "arrowwidth": 1
          },
          "autotypenumbers": "strict",
          "coloraxis": {
           "colorbar": {
            "outlinewidth": 0,
            "ticks": ""
           }
          },
          "colorscale": {
           "diverging": [
            [
             0,
             "#8e0152"
            ],
            [
             0.1,
             "#c51b7d"
            ],
            [
             0.2,
             "#de77ae"
            ],
            [
             0.3,
             "#f1b6da"
            ],
            [
             0.4,
             "#fde0ef"
            ],
            [
             0.5,
             "#f7f7f7"
            ],
            [
             0.6,
             "#e6f5d0"
            ],
            [
             0.7,
             "#b8e186"
            ],
            [
             0.8,
             "#7fbc41"
            ],
            [
             0.9,
             "#4d9221"
            ],
            [
             1,
             "#276419"
            ]
           ],
           "sequential": [
            [
             0,
             "#0d0887"
            ],
            [
             0.1111111111111111,
             "#46039f"
            ],
            [
             0.2222222222222222,
             "#7201a8"
            ],
            [
             0.3333333333333333,
             "#9c179e"
            ],
            [
             0.4444444444444444,
             "#bd3786"
            ],
            [
             0.5555555555555556,
             "#d8576b"
            ],
            [
             0.6666666666666666,
             "#ed7953"
            ],
            [
             0.7777777777777778,
             "#fb9f3a"
            ],
            [
             0.8888888888888888,
             "#fdca26"
            ],
            [
             1,
             "#f0f921"
            ]
           ],
           "sequentialminus": [
            [
             0,
             "#0d0887"
            ],
            [
             0.1111111111111111,
             "#46039f"
            ],
            [
             0.2222222222222222,
             "#7201a8"
            ],
            [
             0.3333333333333333,
             "#9c179e"
            ],
            [
             0.4444444444444444,
             "#bd3786"
            ],
            [
             0.5555555555555556,
             "#d8576b"
            ],
            [
             0.6666666666666666,
             "#ed7953"
            ],
            [
             0.7777777777777778,
             "#fb9f3a"
            ],
            [
             0.8888888888888888,
             "#fdca26"
            ],
            [
             1,
             "#f0f921"
            ]
           ]
          },
          "colorway": [
           "#636efa",
           "#EF553B",
           "#00cc96",
           "#ab63fa",
           "#FFA15A",
           "#19d3f3",
           "#FF6692",
           "#B6E880",
           "#FF97FF",
           "#FECB52"
          ],
          "font": {
           "color": "#2a3f5f"
          },
          "geo": {
           "bgcolor": "white",
           "lakecolor": "white",
           "landcolor": "#E5ECF6",
           "showlakes": true,
           "showland": true,
           "subunitcolor": "white"
          },
          "hoverlabel": {
           "align": "left"
          },
          "hovermode": "closest",
          "mapbox": {
           "style": "light"
          },
          "paper_bgcolor": "white",
          "plot_bgcolor": "#E5ECF6",
          "polar": {
           "angularaxis": {
            "gridcolor": "white",
            "linecolor": "white",
            "ticks": ""
           },
           "bgcolor": "#E5ECF6",
           "radialaxis": {
            "gridcolor": "white",
            "linecolor": "white",
            "ticks": ""
           }
          },
          "scene": {
           "xaxis": {
            "backgroundcolor": "#E5ECF6",
            "gridcolor": "white",
            "gridwidth": 2,
            "linecolor": "white",
            "showbackground": true,
            "ticks": "",
            "zerolinecolor": "white"
           },
           "yaxis": {
            "backgroundcolor": "#E5ECF6",
            "gridcolor": "white",
            "gridwidth": 2,
            "linecolor": "white",
            "showbackground": true,
            "ticks": "",
            "zerolinecolor": "white"
           },
           "zaxis": {
            "backgroundcolor": "#E5ECF6",
            "gridcolor": "white",
            "gridwidth": 2,
            "linecolor": "white",
            "showbackground": true,
            "ticks": "",
            "zerolinecolor": "white"
           }
          },
          "shapedefaults": {
           "line": {
            "color": "#2a3f5f"
           }
          },
          "ternary": {
           "aaxis": {
            "gridcolor": "white",
            "linecolor": "white",
            "ticks": ""
           },
           "baxis": {
            "gridcolor": "white",
            "linecolor": "white",
            "ticks": ""
           },
           "bgcolor": "#E5ECF6",
           "caxis": {
            "gridcolor": "white",
            "linecolor": "white",
            "ticks": ""
           }
          },
          "title": {
           "x": 0.05
          },
          "xaxis": {
           "automargin": true,
           "gridcolor": "white",
           "linecolor": "white",
           "ticks": "",
           "title": {
            "standoff": 15
           },
           "zerolinecolor": "white",
           "zerolinewidth": 2
          },
          "yaxis": {
           "automargin": true,
           "gridcolor": "white",
           "linecolor": "white",
           "ticks": "",
           "title": {
            "standoff": 15
           },
           "zerolinecolor": "white",
           "zerolinewidth": 2
          }
         }
        },
        "title": {
         "text": "Apple Stock Price Candlestick Chart for the Last 30 Days"
        },
        "xaxis": {
         "autorange": true,
         "range": [
          "2023-11-20 12:00",
          "2023-12-21 12:00"
         ],
         "rangeslider": {
          "visible": false,
          "yaxis": {}
         },
         "title": {
          "text": "Date"
         },
         "type": "date"
        },
        "yaxis": {
         "autorange": true,
         "range": [
          186.77388593885632,
          200.29610612657336
         ],
         "title": {
          "text": "Price"
         }
        }
       }
      },
      "image/png": "[encoded data removed]",
      "text/html": [
       "<div>                            <div id=\"a3ba9ed1-9f71-407c-86ad-087bde4a1420\" class=\"plotly-graph-div\" style=\"height:525px; width:100%;\"></div>            <script type=\"text/javascript\">                require([\"plotly\"], function(Plotly) {                    window.PLOTLYENV=window.PLOTLYENV || {};                                    if (document.getElementById(\"a3ba9ed1-9f71-407c-86ad-087bde4a1420\")) {                    Plotly.newPlot(                        \"a3ba9ed1-9f71-407c-86ad-087bde4a1420\",                        [{\"close\":[190.63999938964844,191.30999755859375,189.97000122070312,189.7899932861328,190.39999389648438,189.3699951171875,189.9499969482422,191.24000549316406,189.42999267578125,193.4199981689453,192.32000732421875,194.27000427246094,195.7100067138672,193.17999267578125,194.7100067138672,197.9600067138672,198.11000061035156,197.57000732421875,195.88999938964844,196.94000244140625,194.8300018310547,193.9687042236328],\"high\":[191.52000427246094,192.92999267578125,190.89999389648438,190.6699981689453,191.0800018310547,192.08999633789062,190.32000732421875,191.55999755859375,190.0500030517578,194.39999389648438,194.75999450683594,195.0,195.99000549316406,193.49000549316406,194.72000122070312,198.0,199.6199951171875,198.39999389648438,196.6300048828125,196.9499969482422,197.67999267578125,197.07989501953125],\"low\":[189.74000549316406,190.8300018310547,189.25,188.89999389648438,189.39999389648438,188.97000122070312,188.19000244140625,189.22999572753906,187.4499969482422,190.17999267578125,192.11000061035156,193.58999633789062,193.6699981689453,191.4199981689453,191.72000122070312,194.85000610351562,196.16000366210938,197.0,194.38999938964844,195.88999938964844,194.8300018310547,193.50999450683594],\"open\":[191.41000366210938,191.49000549316406,190.8699951171875,189.9199981689453,189.77999877929688,190.89999389648438,189.83999633789062,190.3300018310547,189.97999572753906,190.2100067138672,194.4499969482422,193.6300048828125,194.1999969482422,193.11000061035156,193.0800018310547,195.08999633789062,198.02000427246094,197.52999877929688,196.08999633789062,196.16000366210938,196.89999389648438,196.10000610351562],\"x\":[\"2023-11-21\",\"2023-11-22\",\"2023-11-24\",\"2023-11-27\",\"2023-11-28\",\"2023-11-29\",\"2023-11-30\",\"2023-12-01\",\"2023-12-04\",\"2023-12-05\",\"2023-12-06\",\"2023-12-07\",\"2023-12-08\",\"2023-12-11\",\"2023-12-12\",\"2023-12-13\",\"2023-12-14\",\"2023-12-15\",\"2023-12-18\",\"2023-12-19\",\"2023-12-20\",\"2023-12-21\"],\"type\":\"candlestick\"}],                        {\"template\":{\"data\":{\"histogram2dcontour\":[{\"type\":\"histogram2dcontour\",\"colorbar\":{\"outlinewidth\":0,\"ticks\":\"\"},\"colorscale\":[[0.0,\"#0d0887\"],[0.1111111111111111,\"#46039f\"],[0.2222222222222222,\"#7201a8\"],[0.3333333333333333,\"#9c179e\"],[0.4444444444444444,\"#bd3786\"],[0.5555555555555556,\"#d8576b\"],[0.6666666666666666,\"#ed7953\"],[0.7777777777777778,\"#fb9f3a\"],[0.8888888888888888,\"#fdca26\"],[1.0,\"#f0f921\"]]}],\"choropleth\":[{\"type\":\"choropleth\",\"colorbar\":{\"outlinewidth\":0,\"ticks\":\"\"}}],\"histogram2d\":[{\"type\":\"histogram2d\",\"colorbar\":{\"outlinewidth\":0,\"ticks\":\"\"},\"colorscale\":[[0.0,\"#0d0887\"],[0.1111111111111111,\"#46039f\"],[0.2222222222222222,\"#7201a8\"],[0.3333333333333333,\"#9c179e\"],[0.4444444444444444,\"#bd3786\"],[0.5555555555555556,\"#d8576b\"],[0.6666666666666666,\"#ed7953\"],[0.7777777777777778,\"#fb9f3a\"],[0.8888888888888888,\"#fdca26\"],[1.0,\"#f0f921\"]]}],\"heatmap\":[{\"type\":\"heatmap\",\"colorbar\":{\"outlinewidth\":0,\"ticks\":\"\"},\"colorscale\":[[0.0,\"#0d0887\"],[0.1111111111111111,\"#46039f\"],[0.2222222222222222,\"#7201a8\"],[0.3333333333333333,\"#9c179e\"],[0.4444444444444444,\"#bd3786\"],[0.5555555555555556,\"#d8576b\"],[0.6666666666666666,\"#ed7953\"],[0.7777777777777778,\"#fb9f3a\"],[0.8888888888888888,\"#fdca26\"],[1.0,\"#f0f921\"]]}],\"heatmapgl\":[{\"type\":\"heatmapgl\",\"colorbar\":{\"outlinewidth\":0,\"ticks\":\"\"},\"colorscale\":[[0.0,\"#0d0887\"],[0.1111111111111111,\"#46039f\"],[0.2222222222222222,\"#7201a8\"],[0.3333333333333333,\"#9c179e\"],[0.4444444444444444,\"#bd3786\"],[0.5555555555555556,\"#d8576b\"],[0.6666666666666666,\"#ed7953\"],[0.7777777777777778,\"#fb9f3a\"],[0.8888888888888888,\"#fdca26\"],[1.0,\"#f0f921\"]]}],\"contourcarpet\":[{\"type\":\"contourcarpet\",\"colorbar\":{\"outlinewidth\":0,\"ticks\":\"\"}}],\"contour\":[{\"type\":\"contour\",\"colorbar\":{\"outlinewidth\":0,\"ticks\":\"\"},\"colorscale\":[[0.0,\"#0d0887\"],[0.1111111111111111,\"#46039f\"],[0.2222222222222222,\"#7201a8\"],[0.3333333333333333,\"#9c179e\"],[0.4444444444444444,\"#bd3786\"],[0.5555555555555556,\"#d8576b\"],[0.6666666666666666,\"#ed7953\"],[0.7777777777777778,\"#fb9f3a\"],[0.8888888888888888,\"#fdca26\"],[1.0,\"#f0f921\"]]}],\"surface\":[{\"type\":\"surface\",\"colorbar\":{\"outlinewidth\":0,\"ticks\":\"\"},\"colorscale\":[[0.0,\"#0d0887\"],[0.1111111111111111,\"#46039f\"],[0.2222222222222222,\"#7201a8\"],[0.3333333333333333,\"#9c179e\"],[0.4444444444444444,\"#bd3786\"],[0.5555555555555556,\"#d8576b\"],[0.6666666666666666,\"#ed7953\"],[0.7777777777777778,\"#fb9f3a\"],[0.8888888888888888,\"#fdca26\"],[1.0,\"#f0f921\"]]}],\"mesh3d\":[{\"type\":\"mesh3d\",\"colorbar\":{\"outlinewidth\":0,\"ticks\":\"\"}}],\"scatter\":[{\"fillpattern\":{\"fillmode\":\"overlay\",\"size\":10,\"solidity\":0.2},\"type\":\"scatter\"}],\"parcoords\":[{\"type\":\"parcoords\",\"line\":{\"colorbar\":{\"outlinewidth\":0,\"ticks\":\"\"}}}],\"scatterpolargl\":[{\"type\":\"scatterpolargl\",\"marker\":{\"colorbar\":{\"outlinewidth\":0,\"ticks\":\"\"}}}],\"bar\":[{\"error_x\":{\"color\":\"#2a3f5f\"},\"error_y\":{\"color\":\"#2a3f5f\"},\"marker\":{\"line\":{\"color\":\"#E5ECF6\",\"width\":0.5},\"pattern\":{\"fillmode\":\"overlay\",\"size\":10,\"solidity\":0.2}},\"type\":\"bar\"}],\"scattergeo\":[{\"type\":\"scattergeo\",\"marker\":{\"colorbar\":{\"outlinewidth\":0,\"ticks\":\"\"}}}],\"scatterpolar\":[{\"type\":\"scatterpolar\",\"marker\":{\"colorbar\":{\"outlinewidth\":0,\"ticks\":\"\"}}}],\"histogram\":[{\"marker\":{\"pattern\":{\"fillmode\":\"overlay\",\"size\":10,\"solidity\":0.2}},\"type\":\"histogram\"}],\"scattergl\":[{\"type\":\"scattergl\",\"marker\":{\"colorbar\":{\"outlinewidth\":0,\"ticks\":\"\"}}}],\"scatter3d\":[{\"type\":\"scatter3d\",\"line\":{\"colorbar\":{\"outlinewidth\":0,\"ticks\":\"\"}},\"marker\":{\"colorbar\":{\"outlinewidth\":0,\"ticks\":\"\"}}}],\"scattermapbox\":[{\"type\":\"scattermapbox\",\"marker\":{\"colorbar\":{\"outlinewidth\":0,\"ticks\":\"\"}}}],\"scatterternary\":[{\"type\":\"scatterternary\",\"marker\":{\"colorbar\":{\"outlinewidth\":0,\"ticks\":\"\"}}}],\"scattercarpet\":[{\"type\":\"scattercarpet\",\"marker\":{\"colorbar\":{\"outlinewidth\":0,\"ticks\":\"\"}}}],\"carpet\":[{\"aaxis\":{\"endlinecolor\":\"#2a3f5f\",\"gridcolor\":\"white\",\"linecolor\":\"white\",\"minorgridcolor\":\"white\",\"startlinecolor\":\"#2a3f5f\"},\"baxis\":{\"endlinecolor\":\"#2a3f5f\",\"gridcolor\":\"white\",\"linecolor\":\"white\",\"minorgridcolor\":\"white\",\"startlinecolor\":\"#2a3f5f\"},\"type\":\"carpet\"}],\"table\":[{\"cells\":{\"fill\":{\"color\":\"#EBF0F8\"},\"line\":{\"color\":\"white\"}},\"header\":{\"fill\":{\"color\":\"#C8D4E3\"},\"line\":{\"color\":\"white\"}},\"type\":\"table\"}],\"barpolar\":[{\"marker\":{\"line\":{\"color\":\"#E5ECF6\",\"width\":0.5},\"pattern\":{\"fillmode\":\"overlay\",\"size\":10,\"solidity\":0.2}},\"type\":\"barpolar\"}],\"pie\":[{\"automargin\":true,\"type\":\"pie\"}]},\"layout\":{\"autotypenumbers\":\"strict\",\"colorway\":[\"#636efa\",\"#EF553B\",\"#00cc96\",\"#ab63fa\",\"#FFA15A\",\"#19d3f3\",\"#FF6692\",\"#B6E880\",\"#FF97FF\",\"#FECB52\"],\"font\":{\"color\":\"#2a3f5f\"},\"hovermode\":\"closest\",\"hoverlabel\":{\"align\":\"left\"},\"paper_bgcolor\":\"white\",\"plot_bgcolor\":\"#E5ECF6\",\"polar\":{\"bgcolor\":\"#E5ECF6\",\"angularaxis\":{\"gridcolor\":\"white\",\"linecolor\":\"white\",\"ticks\":\"\"},\"radialaxis\":{\"gridcolor\":\"white\",\"linecolor\":\"white\",\"ticks\":\"\"}},\"ternary\":{\"bgcolor\":\"#E5ECF6\",\"aaxis\":{\"gridcolor\":\"white\",\"linecolor\":\"white\",\"ticks\":\"\"},\"baxis\":{\"gridcolor\":\"white\",\"linecolor\":\"white\",\"ticks\":\"\"},\"caxis\":{\"gridcolor\":\"white\",\"linecolor\":\"white\",\"ticks\":\"\"}},\"coloraxis\":{\"colorbar\":{\"outlinewidth\":0,\"ticks\":\"\"}},\"colorscale\":{\"sequential\":[[0.0,\"#0d0887\"],[0.1111111111111111,\"#46039f\"],[0.2222222222222222,\"#7201a8\"],[0.3333333333333333,\"#9c179e\"],[0.4444444444444444,\"#bd3786\"],[0.5555555555555556,\"#d8576b\"],[0.6666666666666666,\"#ed7953\"],[0.7777777777777778,\"#fb9f3a\"],[0.8888888888888888,\"#fdca26\"],[1.0,\"#f0f921\"]],\"sequentialminus\":[[0.0,\"#0d0887\"],[0.1111111111111111,\"#46039f\"],[0.2222222222222222,\"#7201a8\"],[0.3333333333333333,\"#9c179e\"],[0.4444444444444444,\"#bd3786\"],[0.5555555555555556,\"#d8576b\"],[0.6666666666666666,\"#ed7953\"],[0.7777777777777778,\"#fb9f3a\"],[0.8888888888888888,\"#fdca26\"],[1.0,\"#f0f921\"]],\"diverging\":[[0,\"#8e0152\"],[0.1,\"#c51b7d\"],[0.2,\"#de77ae\"],[0.3,\"#f1b6da\"],[0.4,\"#fde0ef\"],[0.5,\"#f7f7f7\"],[0.6,\"#e6f5d0\"],[0.7,\"#b8e186\"],[0.8,\"#7fbc41\"],[0.9,\"#4d9221\"],[1,\"#276419\"]]},\"xaxis\":{\"gridcolor\":\"white\",\"linecolor\":\"white\",\"ticks\":\"\",\"title\":{\"standoff\":15},\"zerolinecolor\":\"white\",\"automargin\":true,\"zerolinewidth\":2},\"yaxis\":{\"gridcolor\":\"white\",\"linecolor\":\"white\",\"ticks\":\"\",\"title\":{\"standoff\":15},\"zerolinecolor\":\"white\",\"automargin\":true,\"zerolinewidth\":2},\"scene\":{\"xaxis\":{\"backgroundcolor\":\"#E5ECF6\",\"gridcolor\":\"white\",\"linecolor\":\"white\",\"showbackground\":true,\"ticks\":\"\",\"zerolinecolor\":\"white\",\"gridwidth\":2},\"yaxis\":{\"backgroundcolor\":\"#E5ECF6\",\"gridcolor\":\"white\",\"linecolor\":\"white\",\"showbackground\":true,\"ticks\":\"\",\"zerolinecolor\":\"white\",\"gridwidth\":2},\"zaxis\":{\"backgroundcolor\":\"#E5ECF6\",\"gridcolor\":\"white\",\"linecolor\":\"white\",\"showbackground\":true,\"ticks\":\"\",\"zerolinecolor\":\"white\",\"gridwidth\":2}},\"shapedefaults\":{\"line\":{\"color\":\"#2a3f5f\"}},\"annotationdefaults\":{\"arrowcolor\":\"#2a3f5f\",\"arrowhead\":0,\"arrowwidth\":1},\"geo\":{\"bgcolor\":\"white\",\"landcolor\":\"#E5ECF6\",\"subunitcolor\":\"white\",\"showland\":true,\"showlakes\":true,\"lakecolor\":\"white\"},\"title\":{\"x\":0.05},\"mapbox\":{\"style\":\"light\"}}},\"xaxis\":{\"rangeslider\":{\"visible\":false},\"title\":{\"text\":\"Date\"}},\"title\":{\"text\":\"Apple Stock Price Candlestick Chart for the Last 30 Days\"},\"yaxis\":{\"title\":{\"text\":\"Price\"}}},                        {\"responsive\": true}                    ).then(function(){\n",
       "                            \n",
       "var gd = document.getElementById('a3ba9ed1-9f71-407c-86ad-087bde4a1420');\n",
       "var x = new MutationObserver(function (mutations, observer) {{\n",
       "        var display = window.getComputedStyle(gd).display;\n",
       "        if (!display || display === 'none') {{\n",
       "            console.log([gd, 'removed!']);\n",
       "            Plotly.purge(gd);\n",
       "            observer.disconnect();\n",
       "        }}\n",
       "}});\n",
       "\n",
       "// Listen for the removal of the full notebook cells\n",
       "var notebookContainer = gd.closest('#notebook-container');\n",
       "if (notebookContainer) {{\n",
       "    x.observe(notebookContainer, {childList: true});\n",
       "}}\n",
       "\n",
       "// Listen for the clearing of the current output cell\n",
       "var outputEl = gd.closest('.output');\n",
       "if (outputEl) {{\n",
       "    x.observe(outputEl, {childList: true});\n",
       "}}\n",
       "\n",
       "                        })                };                });            </script>        </div>"
      ]
     },
     "metadata": {},
     "output_type": "display_data"
    }
   ],
   "source": [
    "fig = go.Figure(data=[go.Candlestick(x=prices_past_30_days['Date'],\n",
    "                      open=prices_past_30_days['Open'],\n",
    "                      high=prices_past_30_days['High'],\n",
    "                      low=prices_past_30_days['Low'],\n",
    "                      close=prices_past_30_days['Close']\n",
    "                                    )])\n",
    "\n",
    "\n",
    "fig.update_layout(\n",
    "    title='Apple Stock Price Candlestick Chart for the Last 30 Days',\n",
    "    xaxis_title='Date',\n",
    "    yaxis_title='Price',\n",
    "    xaxis_rangeslider_visible=False\n",
    ")\n",
    "\n",
    "fig.show()"
   ]
  }
 ],
 "metadata": {
  "kernelspec": {
   "display_name": "My Data Workfield",
   "language": "python",
   "name": "dataenv"
  },
  "language_info": {
   "codemirror_mode": {
    "name": "ipython",
    "version": 3
   },
   "file_extension": ".py",
   "mimetype": "text/x-python",
   "name": "python",
   "nbconvert_exporter": "python",
   "pygments_lexer": "ipython3",
   "version": "3.9.12"
  }
 },
 "nbformat": 4,
 "nbformat_minor": 5
}
